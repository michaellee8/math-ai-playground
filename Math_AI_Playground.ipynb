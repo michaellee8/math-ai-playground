{
 "cells": [
  {
   "cell_type": "markdown",
   "metadata": {
    "id": "0D05WkvbNyKV"
   },
   "source": [
    "# Math AI Playground\n",
    "\n",
    "- Evaluate numeric-only math expression step by step.\n",
    "- Expression length cannot be more than 20 characters.\n",
    "- Support `*` and `+` only, `-` and `()` support will be attempted later. Intended for the neural network to learn the rules of mathematics.\n",
    "- Support integers only.\n",
    "\n",
    "Character encoding:\n",
    "\n",
    "| Character | Token    |\n",
    "|-----------|----------|\n",
    "| 0         | 0        |\n",
    "| 1         | 1        |\n",
    "| 2         | 2        |\n",
    "| 3         | 3        |\n",
    "| 4         | 4        |\n",
    "| 5         | 5        |\n",
    "| 6         | 6        |\n",
    "| 7         | 7        |\n",
    "| 8         | 8        |\n",
    "| 9         | 9        |\n",
    "| *         | 10       |\n",
    "| +         | 11       |\n",
    "| -         | 12       |\n",
    "|  (space)  | 13       |"
   ]
  },
  {
   "cell_type": "code",
   "execution_count": 1,
   "metadata": {
    "colab": {
     "base_uri": "https://localhost:8080/"
    },
    "id": "caLn05iEArd1",
    "outputId": "587ef64c-a963-4473-a7b8-466cc76d725e"
   },
   "outputs": [
    {
     "name": "stdout",
     "output_type": "stream",
     "text": [
      "Fri Oct 21 20:29:16 2022       \r\n",
      "+-----------------------------------------------------------------------------+\r\n",
      "| NVIDIA-SMI 520.61.05    Driver Version: 520.61.05    CUDA Version: 11.8     |\r\n",
      "|-------------------------------+----------------------+----------------------+\r\n",
      "| GPU  Name        Persistence-M| Bus-Id        Disp.A | Volatile Uncorr. ECC |\r\n",
      "| Fan  Temp  Perf  Pwr:Usage/Cap|         Memory-Usage | GPU-Util  Compute M. |\r\n",
      "|                               |                      |               MIG M. |\r\n",
      "|===============================+======================+======================|\r\n",
      "|   0  NVIDIA GeForce ...  On   | 00000000:01:00.0  On |                  N/A |\r\n",
      "|  0%   52C    P8    22W / 170W |    525MiB / 12288MiB |     39%      Default |\r\n",
      "|                               |                      |                  N/A |\r\n",
      "+-------------------------------+----------------------+----------------------+\r\n",
      "                                                                               \r\n",
      "+-----------------------------------------------------------------------------+\r\n",
      "| Processes:                                                                  |\r\n",
      "|  GPU   GI   CI        PID   Type   Process name                  GPU Memory |\r\n",
      "|        ID   ID                                                   Usage      |\r\n",
      "|=============================================================================|\r\n",
      "|    0   N/A  N/A      1800      G   /usr/lib/xorg/Xorg                 35MiB |\r\n",
      "|    0   N/A  N/A      5535      G   /usr/lib/xorg/Xorg                203MiB |\r\n",
      "|    0   N/A  N/A      5672      G   /usr/bin/gnome-shell               89MiB |\r\n",
      "|    0   N/A  N/A      6584      G   ...veSuggestionsOnlyOnDemand       56MiB |\r\n",
      "|    0   N/A  N/A    513058      G   ...429661965887243641,131072      127MiB |\r\n",
      "+-----------------------------------------------------------------------------+\r\n"
     ]
    }
   ],
   "source": [
    "!nvidia-smi"
   ]
  },
  {
   "cell_type": "code",
   "execution_count": 2,
   "metadata": {
    "colab": {
     "base_uri": "https://localhost:8080/"
    },
    "id": "ffiWIF8QyNqv",
    "outputId": "11e83fca-f737-4463-e789-0542e102499d"
   },
   "outputs": [],
   "source": [
    "# !pip install tensorflow-text==2.9.0"
   ]
  },
  {
   "cell_type": "code",
   "execution_count": 3,
   "metadata": {
    "id": "3hbiwGEcllLk"
   },
   "outputs": [
    {
     "name": "stderr",
     "output_type": "stream",
     "text": [
      "2022-10-21 20:29:16.812969: I tensorflow/stream_executor/platform/default/dso_loader.cc:49] Successfully opened dynamic library libcudart.so.11.0\n"
     ]
    }
   ],
   "source": [
    "# Global imports\n",
    "\n",
    "from typing import List, Tuple\n",
    "\n",
    "import random\n",
    "import re\n",
    "\n",
    "import pandas as pd\n",
    "\n",
    "import tensorflow as tf\n",
    "import tensorflow_text as tf_text\n",
    "from tensorflow import keras\n",
    "from tensorflow.keras import layers, losses\n",
    "import numpy as np\n",
    "import datetime\n",
    "import os\n",
    "from tensorflow.keras import mixed_precision\n",
    "\n",
    "RANDOM_SEED = 1\n",
    "\n",
    "randomer = random.Random(RANDOM_SEED)"
   ]
  },
  {
   "cell_type": "code",
   "execution_count": 4,
   "metadata": {
    "colab": {
     "base_uri": "https://localhost:8080/"
    },
    "id": "Jj-pDB7wx1WL",
    "outputId": "4569f159-19af-4b58-afe5-06099955df7a"
   },
   "outputs": [
    {
     "name": "stderr",
     "output_type": "stream",
     "text": [
      "2022-10-21 20:29:17.456273: I tensorflow/compiler/jit/xla_cpu_device.cc:41] Not creating XLA devices, tf_xla_enable_xla_devices not set\n",
      "2022-10-21 20:29:17.456840: I tensorflow/stream_executor/platform/default/dso_loader.cc:49] Successfully opened dynamic library libcuda.so.1\n",
      "2022-10-21 20:29:17.497107: I tensorflow/stream_executor/cuda/cuda_gpu_executor.cc:941] successful NUMA node read from SysFS had negative value (-1), but there must be at least one NUMA node, so returning NUMA node zero\n",
      "2022-10-21 20:29:17.497207: I tensorflow/core/common_runtime/gpu/gpu_device.cc:1720] Found device 0 with properties: \n",
      "pciBusID: 0000:01:00.0 name: NVIDIA GeForce RTX 3060 computeCapability: 8.6\n",
      "coreClock: 1.837GHz coreCount: 28 deviceMemorySize: 11.77GiB deviceMemoryBandwidth: 335.32GiB/s\n",
      "2022-10-21 20:29:17.497222: I tensorflow/stream_executor/platform/default/dso_loader.cc:49] Successfully opened dynamic library libcudart.so.11.0\n",
      "2022-10-21 20:29:17.498508: I tensorflow/stream_executor/platform/default/dso_loader.cc:49] Successfully opened dynamic library libcublas.so.11\n",
      "2022-10-21 20:29:17.498540: I tensorflow/stream_executor/platform/default/dso_loader.cc:49] Successfully opened dynamic library libcublasLt.so.11\n",
      "2022-10-21 20:29:17.499222: I tensorflow/stream_executor/platform/default/dso_loader.cc:49] Successfully opened dynamic library libcufft.so.10\n",
      "2022-10-21 20:29:17.499418: I tensorflow/stream_executor/platform/default/dso_loader.cc:49] Successfully opened dynamic library libcurand.so.10\n",
      "2022-10-21 20:29:17.500822: I tensorflow/stream_executor/platform/default/dso_loader.cc:49] Successfully opened dynamic library libcusolver.so.10\n",
      "2022-10-21 20:29:17.501133: I tensorflow/stream_executor/platform/default/dso_loader.cc:49] Successfully opened dynamic library libcusparse.so.11\n",
      "2022-10-21 20:29:17.501203: I tensorflow/stream_executor/platform/default/dso_loader.cc:49] Successfully opened dynamic library libcudnn.so.8\n",
      "2022-10-21 20:29:17.501277: I tensorflow/stream_executor/cuda/cuda_gpu_executor.cc:941] successful NUMA node read from SysFS had negative value (-1), but there must be at least one NUMA node, "
     ]
    },
    {
     "data": {
      "text/plain": "[PhysicalDevice(name='/physical_device:GPU:0', device_type='GPU')]"
     },
     "execution_count": 4,
     "metadata": {},
     "output_type": "execute_result"
    },
    {
     "name": "stderr",
     "output_type": "stream",
     "text": [
      "so returning NUMA node zero\n",
      "2022-10-21 20:29:17.501387: I tensorflow/stream_executor/cuda/cuda_gpu_executor.cc:941] successful NUMA node read from SysFS had negative value (-1), but there must be at least one NUMA node, so returning NUMA node zero\n",
      "2022-10-21 20:29:17.501438: I tensorflow/core/common_runtime/gpu/gpu_device.cc:1862] Adding visible gpu devices: 0\n"
     ]
    }
   ],
   "source": [
    "tf.config.list_physical_devices('GPU')"
   ]
  },
  {
   "cell_type": "code",
   "execution_count": 5,
   "metadata": {
    "colab": {
     "base_uri": "https://localhost:8080/"
    },
    "id": "SmHyuJtJnrh0",
    "outputId": "f8313da3-8f65-4d4f-e454-9620fb972508"
   },
   "outputs": [
    {
     "data": {
      "text/plain": "{0: '0',\n 1: '1',\n 2: '2',\n 3: '3',\n 4: '4',\n 5: '5',\n 6: '6',\n 7: '7',\n 8: '8',\n 9: '9',\n 10: '*',\n 11: '+',\n 12: '-',\n 13: ' '}"
     },
     "execution_count": 5,
     "metadata": {},
     "output_type": "execute_result"
    }
   ],
   "source": [
    "CHAR_TOKEN_MAP = {\n",
    "    '0': 0,\n",
    "    '1': 1,\n",
    "    '2': 2,\n",
    "    '3': 3,\n",
    "    '4': 4,\n",
    "    '5': 5,\n",
    "    '6': 6,\n",
    "    '7': 7,\n",
    "    '8': 8,\n",
    "    '9': 9,\n",
    "    '*': 10,\n",
    "    '+': 11,\n",
    "    '-': 12,\n",
    "    ' ': 13\n",
    "}\n",
    "\n",
    "TOKEN_CHAR_MAP = {}\n",
    "\n",
    "for k, v in CHAR_TOKEN_MAP.items():\n",
    "    TOKEN_CHAR_MAP[v] = k\n",
    "\n",
    "TOKEN_CHAR_MAP"
   ]
  },
  {
   "cell_type": "code",
   "execution_count": 6,
   "metadata": {
    "colab": {
     "base_uri": "https://localhost:8080/"
    },
    "id": "zafWyxO5x1WN",
    "outputId": "26aae644-e834-4599-c367-96a16029dd77"
   },
   "outputs": [
    {
     "data": {
      "text/plain": "['0', '1', '2', '3', '4', '5', '6', '7', '8', '9', '*', '+', '-', ' ']"
     },
     "execution_count": 6,
     "metadata": {},
     "output_type": "execute_result"
    }
   ],
   "source": [
    "CHAR_VOCAB = list(CHAR_TOKEN_MAP)\n",
    "CHAR_VOCAB"
   ]
  },
  {
   "cell_type": "markdown",
   "metadata": {
    "id": "NTl_rwTlialX"
   },
   "source": [
    "## Data generation"
   ]
  },
  {
   "cell_type": "code",
   "execution_count": 7,
   "metadata": {
    "colab": {
     "base_uri": "https://localhost:8080/"
    },
    "id": "dVsqBeNQNd9_",
    "outputId": "0db8ce47-42d6-4cfe-a0bb-9d3e7dac501c"
   },
   "outputs": [
    {
     "data": {
      "text/plain": "['29*41+77+31+6       ',\n '1189+77+31+6        ',\n '1266+31+6           ',\n '1297+6              ',\n '1303                ']"
     },
     "execution_count": 7,
     "metadata": {},
     "output_type": "execute_result"
    }
   ],
   "source": [
    "DIGIT_CHARS = list('0123456789')\n",
    "OP_CHARS = list('*+')\n",
    "EXPRESSION_LENGTH = 20\n",
    "TOKEN_SPACE_SIZE = 16\n",
    "\n",
    "\n",
    "def generate_initial_expression(rand: random.Random) -> str:\n",
    "    initial_expression = [rand.choice(DIGIT_CHARS) if i % 3 < 2 else rand.choice(OP_CHARS) for i in range(14)]\n",
    "    if initial_expression[0] == '0':\n",
    "        initial_expression = initial_expression[1:]\n",
    "    initial_expression = re.sub(\"([\\*\\+\\-])0\", lambda mo: mo.group(1), ''.join(initial_expression))\n",
    "\n",
    "    return initial_expression\n",
    "\n",
    "\n",
    "# Evaluate one step of the expression, return expression, False if no further\n",
    "# steps can be made anymore.\n",
    "def progress_expression_step(expression: str) -> Tuple[str, bool]:\n",
    "    op = ''\n",
    "    op_idx = -1\n",
    "\n",
    "    if '*' in expression:\n",
    "        # Multiplication takes precendence\n",
    "        op = '*'\n",
    "        op_idx = expression.find('*')\n",
    "    else:\n",
    "        m = re.search('\\+', expression)\n",
    "        if m is not None:\n",
    "            op = expression[m.start()]\n",
    "            op_idx = m.start()\n",
    "\n",
    "    if op == ' ' or op_idx == -1:\n",
    "        return expression, False\n",
    "\n",
    "    start_idx = op_idx - 1\n",
    "    end_idx = op_idx + 1\n",
    "\n",
    "    while start_idx - 1 >= 0 and expression[start_idx - 1] not in OP_CHARS:\n",
    "        start_idx -= 1\n",
    "\n",
    "    while end_idx + 1 < len(expression) and expression[end_idx + 1] not in OP_CHARS:\n",
    "        end_idx += 1\n",
    "\n",
    "    num1 = int(expression[start_idx:op_idx])\n",
    "    num2 = int(expression[op_idx + 1:end_idx + 1])\n",
    "\n",
    "    calc_result = 0\n",
    "\n",
    "    if op == '*':\n",
    "        calc_result = num1 * num2\n",
    "    elif op == '+':\n",
    "        calc_result = num1 + num2\n",
    "    elif op == '-':\n",
    "        calc_result = num1 - num2\n",
    "\n",
    "    before_result = expression[:start_idx]\n",
    "    after_result = expression[end_idx + 1:]\n",
    "\n",
    "    if len(before_result) > 0 and calc_result < 0:\n",
    "        if before_result[-1] == '-':\n",
    "            before_result[-1] = '+'\n",
    "        elif before_result[-1] == '+':\n",
    "            before_result[-1] = '-'\n",
    "\n",
    "    calc_result = abs(calc_result)\n",
    "\n",
    "    return before_result + str(calc_result) + after_result, True\n",
    "\n",
    "\n",
    "def generate_expression_with_steps(rand: random.Random) -> List[str]:\n",
    "    initial_expression = generate_initial_expression(rand)\n",
    "    ret = [initial_expression]\n",
    "    while True:\n",
    "        exp, has_further = progress_expression_step(ret[-1])\n",
    "        if not has_further:\n",
    "            break\n",
    "        ret.append(exp)\n",
    "    if int(eval(initial_expression)) != int(ret[-1]):\n",
    "        raise ValueError(\"internal logic error, value evaluation is incorrect\")\n",
    "    return [l.ljust(20) for l in ret]\n",
    "\n",
    "\n",
    "generate_expression_with_steps(randomer)"
   ]
  },
  {
   "cell_type": "code",
   "execution_count": 8,
   "metadata": {
    "id": "hYynsbAQL0Ud"
   },
   "outputs": [],
   "source": [
    "\n",
    "!mkdir -p data /\n",
    "\n",
    "def regenerate_all_inputs():\n",
    "    rnd = random.Random(1)\n",
    "\n",
    "    from_expression_train_file = open('data/from_expression_train.txt', \"w\")\n",
    "    to_expression_train_file = open('data/to_expression_train.txt', \"w\")\n",
    "\n",
    "    for i in range(10 ** 6):\n",
    "        steps = generate_expression_with_steps(rnd)\n",
    "        for j in range(len(steps) - 1):\n",
    "            from_expression_train_file.write(steps[j] + \"\\n\")\n",
    "            to_expression_train_file.write(steps[j + 1] + \"\\n\")\n",
    "\n",
    "    from_expression_train_file.close()\n",
    "    to_expression_train_file.close()\n",
    "\n",
    "    from_expression_test_file = open('data/from_expression_test.txt', \"w\")\n",
    "    to_expression_test_file = open('data/to_expression_test.txt', \"w\")\n",
    "\n",
    "    for i in range(2 * 10 ** 5):\n",
    "        steps = generate_expression_with_steps(rnd)\n",
    "        for j in range(len(steps) - 1):\n",
    "            from_expression_test_file.write(steps[j] + \"\\n\")\n",
    "            to_expression_test_file.write(steps[j + 1] + \"\\n\")\n",
    "\n",
    "    from_expression_test_file.close()\n",
    "    to_expression_test_file.close()\n",
    "\n",
    "    from_expression_validation_file = open('data/from_expression_validation.txt', \"w\")\n",
    "    to_expression_validation_file = open('data/to_expression_validation.txt', \"w\")\n",
    "\n",
    "    for i in range(2 * 10 ** 5):\n",
    "        steps = generate_expression_with_steps(rnd)\n",
    "        for j in range(len(steps) - 1):\n",
    "            from_expression_validation_file.write(steps[j] + \"\\n\")\n",
    "            to_expression_validation_file.write(steps[j + 1] + \"\\n\")\n",
    "\n",
    "    from_expression_validation_file.close()\n",
    "    to_expression_validation_file.close()\n",
    "\n",
    "# regenerate_all_inputs()"
   ]
  },
  {
   "cell_type": "code",
   "execution_count": 9,
   "metadata": {
    "id": "7roAp9pnkMyX",
    "colab": {
     "base_uri": "https://localhost:8080/"
    },
    "outputId": "04f9a82f-ee9f-4184-be34-d880f3705b68"
   },
   "outputs": [],
   "source": [
    "% load_ext tensorboard"
   ]
  },
  {
   "cell_type": "code",
   "execution_count": 10,
   "metadata": {
    "id": "dzZnhpXQx1WR"
   },
   "outputs": [
    {
     "name": "stderr",
     "output_type": "stream",
     "text": [
      "2022-10-21 20:29:17.762360: I tensorflow/core/platform/cpu_feature_guard.cc:142] This TensorFlow binary is optimized with oneAPI Deep Neural Network Library (oneDNN) to use the following CPU instructions in performance-critical operations:  AVX512F\n",
      "To enable them in other operations, rebuild TensorFlow with the appropriate compiler flags.\n",
      "2022-10-21 20:29:17.762871: I tensorflow/compiler/jit/xla_gpu_device.cc:99] Not creating XLA devices, tf_xla_enable_xla_devices not set\n",
      "2022-10-21 20:29:17.762985: I tensorflow/stream_executor/cuda/cuda_gpu_executor.cc:941] successful NUMA node read from SysFS had negative value (-1), but there must be at least one NUMA node, so returning NUMA node zero\n",
      "2022-10-21 20:29:17.763079: I tensorflow/core/common_runtime/gpu/gpu_device.cc:1720] Found device 0 with properties: \n",
      "pciBusID: 0000:01:00.0 name: NVIDIA GeForce RTX 3060 computeCapability: 8.6\n",
      "coreClock: 1.837GHz coreCount: 28 deviceMemorySize: 11.77GiB deviceMemoryBandwidth: 335.32GiB/s\n",
      "2022-10-21 20:29:17.763101: I tensorflow/stream_executor/platform/default/dso_loader.cc:49] Successfully opened dynamic library libcudart.so.11.0\n",
      "2022-10-21 20:29:17.763112: I tensorflow/stream_executor/platform/default/dso_loader.cc:49] Successfully opened dynamic library libcublas.so.11\n",
      "2022-10-21 20:29:17.763118: I tensorflow/stream_executor/platform/default/dso_loader.cc:49] Successfully opened dynamic library libcublasLt.so.11\n",
      "2022-10-21 20:29:17.763125: I tensorflow/stream_executor/platform/default/dso_loader.cc:49] Successfully opened dynamic library libcufft.so.10\n",
      "2022-10-21 20:29:17.763131: I tensorflow/stream_executor/platform/default/dso_loader.cc:49] Successfully opened dynamic library libcurand.so.10\n",
      "2022-10-21 20:29:17.763138: I tensorflow/stream_executor/platform/default/dso_loader.cc:49] Successfully opened dynamic library libcusolver.so.10\n",
      "2022-10-21 20:29:17.763143: I tensorflow/stream_executor/platform/default/dso_loader.cc:49] Successfully opened dynamic library libcusparse.so.11\n",
      "2022-10-21 20:29:17.763149: I tensorflow/stream_executor/platform/default/dso_loader.cc:49] Successfully opened dynamic library libcudnn.so.8\n",
      "2022-10-21 20:29:17.763184: I tensorflow/stream_executor/cuda/cuda_gpu_executor.cc:941] successful NUMA node read from SysFS had negative value (-1), but there must be at least one NUMA node, so returning NUMA node zero\n",
      "2022-10-21 20:29:17.763256: I tensorflow/stream_executor/cuda/cuda_gpu_executor.cc:941] successful NUMA node read from SysFS had negative value (-1), but there must be at least one NUMA node, so returning NUMA node zero\n",
      "2022-10-21 20:29:17.763304: I tensorflow/core/common_runtime/gpu/gpu_device.cc:1862] Adding visible gpu devices: 0\n",
      "2022-10-21 20:29:17.763321: I tensorflow/stream_executor/platform/default/dso_loader.cc:49] Successfully opened dynamic library libcudart.so.11.0\n",
      "2022-10-21 20:29:18.027032: I tensorflow/core/common_runtime/gpu/gpu_device.cc:1261] Device interconnect StreamExecutor with strength 1 edge matrix:\n",
      "2022-10-21 20:29:18.027051: I tensorflow/core/common_runtime/gpu/gpu_device.cc:1267]      0 \n",
      "2022-10-21 20:29:18.027054: I tensorflow/core/common_runtime/gpu/gpu_device.cc:1280] 0:   N \n",
      "2022-10-21 20:29:18.027218: I tensorflow/stream_executor/cuda/cuda_gpu_executor.cc:941] successful NUMA node read from SysFS had negative value (-1), but there must be at least one NUMA node, so returning NUMA node zero\n",
      "2022-10-21 20:29:18.027315: I tensorflow/stream_executor/cuda/cuda_gpu_executor.cc:941] successful NUMA node read from SysFS had negative value (-1), but there must be at least one NUMA node, so returning NUMA node zero\n",
      "2022-10-21 20:29:18.027384: I tensorflow/stream_executor/cuda/cuda_gpu_executor.cc:941] successful NUMA node read from SysFS had negative value (-1), but there must be at least one NUMA node, so returning NUMA node zero\n",
      "2022-10-21 20:29:18.027466: I tensorflow/core/common_runtime/gpu/gpu_device.cc:1406] Created TensorFlow device (/job:localhost/replica:0/task:0/device:GPU:0 with 10594 MB memory) -> physical GPU (device: 0, name: NVIDIA GeForce RTX 3060, pci bus id: 0000:01:00.0, compute capability: 8.6)\n"
     ]
    }
   ],
   "source": [
    "# Good reference https://www.tensorflow.org/tutorials/load_data/text\n",
    "\n",
    "PADDED_VOCAB_SIZE = len(CHAR_VOCAB) + 2\n",
    "\n",
    "keys = [ord(c) for c in CHAR_VOCAB]\n",
    "values = range(2, len(CHAR_VOCAB) + 2)\n",
    "\n",
    "init = tf.lookup.KeyValueTensorInitializer(keys, values, key_dtype=tf.int64, value_dtype=tf.int64)\n",
    "\n",
    "num_oov_buckets = 1\n",
    "vocab_table = tf.lookup.StaticVocabularyTable(init, num_oov_buckets)"
   ]
  },
  {
   "cell_type": "code",
   "execution_count": 11,
   "metadata": {
    "id": "BKkwkuXax1WR"
   },
   "outputs": [],
   "source": [
    "from_expression_train_text_dataset = tf.data.TextLineDataset('data/from_expression_train.txt')\n",
    "to_expression_train_text_dataset = tf.data.TextLineDataset('data/to_expression_train.txt')\n",
    "from_expression_validation_text_dataset = tf.data.TextLineDataset('data/from_expression_validation.txt')\n",
    "to_expression_validation_text_dataset = tf.data.TextLineDataset('data/to_expression_validation.txt')\n",
    "from_expression_test_text_dataset = tf.data.TextLineDataset('data/from_expression_test.txt')\n",
    "to_expression_test_text_dataset = tf.data.TextLineDataset('data/to_expression_test.txt')"
   ]
  },
  {
   "cell_type": "code",
   "execution_count": 12,
   "metadata": {
    "colab": {
     "base_uri": "https://localhost:8080/"
    },
    "id": "jOP_tXKPx1WS",
    "outputId": "8d9bd605-f7cf-45e9-9710-e4394c0f0aa4"
   },
   "outputs": [
    {
     "name": "stderr",
     "output_type": "stream",
     "text": [
      "2022-10-21 20:29:18.209108: I tensorflow/compiler/mlir/mlir_graph_optimization_pass.cc:116] None of the MLIR optimization passes are enabled (registered 2)\n",
      "2022-10-21 20:29:18.227658: I tensorflow/core/platform/profile_utils/cpu_utils.cc:112] CPU Frequency: 2496000000 Hz\n"
     ]
    },
    {
     "name": "stdout",
     "output_type": "stream",
     "text": [
      "Tokens:  tf.Tensor(50, shape=(), dtype=int32)\n"
     ]
    }
   ],
   "source": [
    "tokenizer = tf_text.UnicodeCharTokenizer()\n",
    "\n",
    "\n",
    "def tokenize(text):\n",
    "    return tokenizer.tokenize(text)\n",
    "\n",
    "\n",
    "tokenized_example_ds = from_expression_train_text_dataset.map(tokenize)\n",
    "\n",
    "for text_batch in tokenized_example_ds.take(1):\n",
    "    print(\"Tokens: \", text_batch[0])"
   ]
  },
  {
   "cell_type": "code",
   "execution_count": 13,
   "metadata": {
    "colab": {
     "base_uri": "https://localhost:8080/"
    },
    "id": "1NtoMngax1WS",
    "outputId": "2e066226-43e8-42b6-c7d7-a17ccf1325a6"
   },
   "outputs": [
    {
     "data": {
      "text/plain": "<tf.Tensor: shape=(20, 16), dtype=float32, numpy=\narray([[0., 0., 0., 0., 1., 0., 0., 0., 0., 0., 0., 0., 0., 0., 0., 0.],\n       [0., 0., 0., 0., 0., 0., 0., 0., 0., 0., 0., 1., 0., 0., 0., 0.],\n       [0., 0., 0., 0., 0., 0., 0., 0., 0., 0., 0., 0., 1., 0., 0., 0.],\n       [0., 0., 0., 0., 0., 0., 1., 0., 0., 0., 0., 0., 0., 0., 0., 0.],\n       [0., 0., 0., 1., 0., 0., 0., 0., 0., 0., 0., 0., 0., 0., 0., 0.],\n       [0., 0., 0., 0., 0., 0., 0., 0., 0., 0., 0., 0., 0., 1., 0., 0.],\n       [0., 0., 0., 0., 0., 0., 0., 0., 0., 1., 0., 0., 0., 0., 0., 0.],\n       [0., 0., 0., 0., 0., 0., 0., 0., 0., 1., 0., 0., 0., 0., 0., 0.],\n       [0., 0., 0., 0., 0., 0., 0., 0., 0., 0., 0., 0., 0., 1., 0., 0.],\n       [0., 0., 0., 0., 0., 1., 0., 0., 0., 0., 0., 0., 0., 0., 0., 0.],\n       [0., 0., 0., 1., 0., 0., 0., 0., 0., 0., 0., 0., 0., 0., 0., 0.],\n       [0., 0., 0., 0., 0., 0., 0., 0., 0., 0., 0., 0., 0., 1., 0., 0.],\n       [0., 0., 0., 0., 0., 0., 0., 0., 1., 0., 0., 0., 0., 0., 0., 0.],\n       [0., 0., 0., 0., 0., 0., 0., 0., 0., 0., 0., 0., 0., 0., 0., 1.],\n       [0., 0., 0., 0., 0., 0., 0., 0., 0., 0., 0., 0., 0., 0., 0., 1.],\n       [0., 0., 0., 0., 0., 0., 0., 0., 0., 0., 0., 0., 0., 0., 0., 1.],\n       [0., 0., 0., 0., 0., 0., 0., 0., 0., 0., 0., 0., 0., 0., 0., 1.],\n       [0., 0., 0., 0., 0., 0., 0., 0., 0., 0., 0., 0., 0., 0., 0., 1.],\n       [0., 0., 0., 0., 0., 0., 0., 0., 0., 0., 0., 0., 0., 0., 0., 1.],\n       [0., 0., 0., 0., 0., 0., 0., 0., 0., 0., 0., 0., 0., 0., 0., 1.]],\n      dtype=float32)>"
     },
     "execution_count": 13,
     "metadata": {},
     "output_type": "execute_result"
    }
   ],
   "source": [
    "# https://www.tensorflow.org/api_docs/python/tf/one_hot\n",
    "# https://stackoverflow.com/questions/41399481/how-do-you-decode-one-hot-labels-in-tensorflow\n",
    "\n",
    "def preprocess_text(text):\n",
    "    standardized = tf_text.case_fold_utf8(text)\n",
    "    tokenized = tokenizer.tokenize(standardized)\n",
    "    tokenized = tf.cast(tokenized, tf.int64)\n",
    "    vectorized = vocab_table.lookup(tokenized)\n",
    "    encoded = tf.one_hot(vectorized, PADDED_VOCAB_SIZE)\n",
    "    padded = tf.reshape(encoded, (20, 16))\n",
    "    return padded\n",
    "\n",
    "\n",
    "example_text = next(iter(from_expression_train_text_dataset))\n",
    "example_text.numpy()\n",
    "\n",
    "preprocess_text(example_text)\n"
   ]
  },
  {
   "cell_type": "code",
   "execution_count": 14,
   "metadata": {
    "id": "LRJ9YVs0x1WS"
   },
   "outputs": [],
   "source": [
    "from_expression_train_encoded = from_expression_train_text_dataset.map(preprocess_text)\n",
    "to_expression_train_encoded = to_expression_train_text_dataset.map(preprocess_text)\n",
    "from_expression_test_encoded = from_expression_test_text_dataset.map(preprocess_text)\n",
    "to_expression_test_encoded = to_expression_test_text_dataset.map(preprocess_text)\n",
    "from_expression_validation_encoded = from_expression_validation_text_dataset.map(preprocess_text)\n",
    "to_expression_validation_encoded = to_expression_validation_text_dataset.map(preprocess_text)"
   ]
  },
  {
   "cell_type": "code",
   "execution_count": 15,
   "metadata": {
    "colab": {
     "base_uri": "https://localhost:8080/"
    },
    "id": "WrdcZBafx1WT",
    "outputId": "e5b4dd90-e019-44e7-d3ef-93da35391922"
   },
   "outputs": [
    {
     "data": {
      "text/plain": "<tf.Tensor: shape=(20, 16), dtype=float32, numpy=\narray([[0., 0., 0., 0., 1., 0., 0., 0., 0., 0., 0., 0., 0., 0., 0., 0.],\n       [0., 0., 0., 0., 0., 0., 0., 0., 0., 0., 0., 1., 0., 0., 0., 0.],\n       [0., 0., 0., 0., 0., 0., 0., 0., 0., 0., 0., 0., 1., 0., 0., 0.],\n       [0., 0., 0., 0., 0., 0., 1., 0., 0., 0., 0., 0., 0., 0., 0., 0.],\n       [0., 0., 0., 1., 0., 0., 0., 0., 0., 0., 0., 0., 0., 0., 0., 0.],\n       [0., 0., 0., 0., 0., 0., 0., 0., 0., 0., 0., 0., 0., 1., 0., 0.],\n       [0., 0., 0., 0., 0., 0., 0., 0., 0., 1., 0., 0., 0., 0., 0., 0.],\n       [0., 0., 0., 0., 0., 0., 0., 0., 0., 1., 0., 0., 0., 0., 0., 0.],\n       [0., 0., 0., 0., 0., 0., 0., 0., 0., 0., 0., 0., 0., 1., 0., 0.],\n       [0., 0., 0., 0., 0., 1., 0., 0., 0., 0., 0., 0., 0., 0., 0., 0.],\n       [0., 0., 0., 1., 0., 0., 0., 0., 0., 0., 0., 0., 0., 0., 0., 0.],\n       [0., 0., 0., 0., 0., 0., 0., 0., 0., 0., 0., 0., 0., 1., 0., 0.],\n       [0., 0., 0., 0., 0., 0., 0., 0., 1., 0., 0., 0., 0., 0., 0., 0.],\n       [0., 0., 0., 0., 0., 0., 0., 0., 0., 0., 0., 0., 0., 0., 0., 1.],\n       [0., 0., 0., 0., 0., 0., 0., 0., 0., 0., 0., 0., 0., 0., 0., 1.],\n       [0., 0., 0., 0., 0., 0., 0., 0., 0., 0., 0., 0., 0., 0., 0., 1.],\n       [0., 0., 0., 0., 0., 0., 0., 0., 0., 0., 0., 0., 0., 0., 0., 1.],\n       [0., 0., 0., 0., 0., 0., 0., 0., 0., 0., 0., 0., 0., 0., 0., 1.],\n       [0., 0., 0., 0., 0., 0., 0., 0., 0., 0., 0., 0., 0., 0., 0., 1.],\n       [0., 0., 0., 0., 0., 0., 0., 0., 0., 0., 0., 0., 0., 0., 0., 1.]],\n      dtype=float32)>"
     },
     "execution_count": 15,
     "metadata": {},
     "output_type": "execute_result"
    }
   ],
   "source": [
    "next(iter(from_expression_train_encoded))"
   ]
  },
  {
   "cell_type": "code",
   "execution_count": 16,
   "metadata": {
    "colab": {
     "base_uri": "https://localhost:8080/"
    },
    "id": "uA7iAqCKx1WT",
    "outputId": "9fbdcc64-ab1d-408c-8c1f-9951c69ac415"
   },
   "outputs": [
    {
     "data": {
      "text/plain": "<ZipDataset shapes: ((20, 16), (20, 16)), types: (tf.float32, tf.float32)>"
     },
     "execution_count": 16,
     "metadata": {},
     "output_type": "execute_result"
    }
   ],
   "source": [
    "train_data = tf.data.Dataset.zip((from_expression_train_encoded, to_expression_train_encoded))\n",
    "train_data"
   ]
  },
  {
   "cell_type": "code",
   "execution_count": 17,
   "metadata": {
    "colab": {
     "base_uri": "https://localhost:8080/"
    },
    "id": "ChLqq0qCx1WT",
    "outputId": "89587711-5665-4c90-9d49-84a21c8a8848"
   },
   "outputs": [
    {
     "data": {
      "text/plain": "<ZipDataset shapes: ((20, 16), (20, 16)), types: (tf.float32, tf.float32)>"
     },
     "execution_count": 17,
     "metadata": {},
     "output_type": "execute_result"
    }
   ],
   "source": [
    "validation_data = tf.data.Dataset.zip((from_expression_validation_encoded, to_expression_validation_encoded))\n",
    "validation_data"
   ]
  },
  {
   "cell_type": "code",
   "execution_count": 18,
   "metadata": {
    "colab": {
     "base_uri": "https://localhost:8080/"
    },
    "id": "MJlA6afXx1WT",
    "outputId": "70af455f-5537-4b7c-d12f-51be8626da83"
   },
   "outputs": [
    {
     "data": {
      "text/plain": "<ZipDataset shapes: ((20, 16), (20, 16)), types: (tf.float32, tf.float32)>"
     },
     "execution_count": 18,
     "metadata": {},
     "output_type": "execute_result"
    }
   ],
   "source": [
    "test_data = tf.data.Dataset.zip((from_expression_test_encoded, to_expression_test_encoded))\n",
    "test_data"
   ]
  },
  {
   "cell_type": "code",
   "execution_count": 45,
   "metadata": {
    "id": "XjSY-fgVx1WU"
   },
   "outputs": [],
   "source": [
    "BATCH_SIZE = 32\n",
    "train_data_batched = train_data.padded_batch(BATCH_SIZE)\n",
    "validation_data_batched = validation_data.padded_batch(BATCH_SIZE)\n",
    "test_data_batched = test_data.padded_batch(BATCH_SIZE)"
   ]
  },
  {
   "cell_type": "code",
   "execution_count": 20,
   "metadata": {
    "colab": {
     "base_uri": "https://localhost:8080/"
    },
    "id": "CWzHoWmfx1WU",
    "outputId": "b671949c-7149-4ffc-b3d8-da7e2209be37"
   },
   "outputs": [
    {
     "data": {
      "text/plain": "<tf.Tensor: shape=(20, 16), dtype=float32, numpy=\narray([[0., 0., 0., 0., 1., 0., 0., 0., 0., 0., 0., 0., 0., 0., 0., 0.],\n       [0., 0., 0., 0., 0., 0., 0., 0., 0., 0., 0., 1., 0., 0., 0., 0.],\n       [0., 0., 0., 0., 0., 0., 0., 0., 0., 0., 0., 0., 1., 0., 0., 0.],\n       [0., 0., 0., 0., 0., 0., 1., 0., 0., 0., 0., 0., 0., 0., 0., 0.],\n       [0., 0., 0., 1., 0., 0., 0., 0., 0., 0., 0., 0., 0., 0., 0., 0.],\n       [0., 0., 0., 0., 0., 0., 0., 0., 0., 0., 0., 0., 0., 1., 0., 0.],\n       [0., 0., 0., 0., 0., 0., 0., 0., 0., 1., 0., 0., 0., 0., 0., 0.],\n       [0., 0., 0., 0., 0., 0., 0., 0., 0., 1., 0., 0., 0., 0., 0., 0.],\n       [0., 0., 0., 0., 0., 0., 0., 0., 0., 0., 0., 0., 0., 1., 0., 0.],\n       [0., 0., 0., 0., 0., 1., 0., 0., 0., 0., 0., 0., 0., 0., 0., 0.],\n       [0., 0., 0., 1., 0., 0., 0., 0., 0., 0., 0., 0., 0., 0., 0., 0.],\n       [0., 0., 0., 0., 0., 0., 0., 0., 0., 0., 0., 0., 0., 1., 0., 0.],\n       [0., 0., 0., 0., 0., 0., 0., 0., 1., 0., 0., 0., 0., 0., 0., 0.],\n       [0., 0., 0., 0., 0., 0., 0., 0., 0., 0., 0., 0., 0., 0., 0., 1.],\n       [0., 0., 0., 0., 0., 0., 0., 0., 0., 0., 0., 0., 0., 0., 0., 1.],\n       [0., 0., 0., 0., 0., 0., 0., 0., 0., 0., 0., 0., 0., 0., 0., 1.],\n       [0., 0., 0., 0., 0., 0., 0., 0., 0., 0., 0., 0., 0., 0., 0., 1.],\n       [0., 0., 0., 0., 0., 0., 0., 0., 0., 0., 0., 0., 0., 0., 0., 1.],\n       [0., 0., 0., 0., 0., 0., 0., 0., 0., 0., 0., 0., 0., 0., 0., 1.],\n       [0., 0., 0., 0., 0., 0., 0., 0., 0., 0., 0., 0., 0., 0., 0., 1.]],\n      dtype=float32)>"
     },
     "execution_count": 20,
     "metadata": {},
     "output_type": "execute_result"
    }
   ],
   "source": [
    "next(iter(from_expression_train_encoded))"
   ]
  },
  {
   "cell_type": "code",
   "execution_count": 21,
   "metadata": {
    "id": "DXtovQQ1x1WU"
   },
   "outputs": [],
   "source": [
    "def create_model():\n",
    "    return tf.keras.Sequential([\n",
    "        layers.Input(shape=(20, 16)),\n",
    "        layers.Flatten(),\n",
    "        layers.Dense(20 * 16 * 10),\n",
    "        layers.Dense(20 * 16 * 10),\n",
    "        layers.Dense(20 * 16, activation='relu'),\n",
    "        layers.Reshape((20, 16)),\n",
    "        layers.Softmax(axis=2)\n",
    "    ])"
   ]
  },
  {
   "cell_type": "code",
   "execution_count": 22,
   "metadata": {
    "colab": {
     "base_uri": "https://localhost:8080/"
    },
    "id": "FgAhZMtq7Iuo",
    "outputId": "85baf9dc-9534-4cda-a4a0-599e965e1d38"
   },
   "outputs": [
    {
     "data": {
      "text/plain": "<tf.Tensor: shape=(16,), dtype=float32, numpy=\narray([0.02411114, 0.4842853 , 0.17815863, 0.02411114, 0.02411114,\n       0.02411114, 0.02411114, 0.02411114, 0.02411114, 0.02411114,\n       0.02411114, 0.02411114, 0.02411114, 0.02411114, 0.02411114,\n       0.02411114], dtype=float32)>"
     },
     "execution_count": 22,
     "metadata": {},
     "output_type": "execute_result"
    }
   ],
   "source": [
    "softmax_layer = layers.Softmax(axis=1)\n",
    "test_input = np.zeros((20, 16))\n",
    "test_input[19, 1] = 3\n",
    "test_input[19, 2] = 2\n",
    "softmax_layer(test_input)[19]"
   ]
  },
  {
   "cell_type": "code",
   "execution_count": 23,
   "metadata": {
    "id": "vlGxt8ggx1WU"
   },
   "outputs": [
    {
     "data": {
      "text/plain": "<tensorflow.python.keras.engine.sequential.Sequential at 0x7efd2c68afd0>"
     },
     "execution_count": 23,
     "metadata": {},
     "output_type": "execute_result"
    }
   ],
   "source": [
    "model = create_model()\n",
    "model"
   ]
  },
  {
   "cell_type": "code",
   "execution_count": 24,
   "metadata": {
    "id": "x4y5EzANx1WV"
   },
   "outputs": [
    {
     "name": "stdout",
     "output_type": "stream",
     "text": [
      "INFO:tensorflow:Mixed precision compatibility check (mixed_float16): OK\n",
      "Your GPU will likely run quickly with dtype policy mixed_float16 as it has compute capability of at least 7.0. Your GPU: NVIDIA GeForce RTX 3060, compute capability 8.6\n"
     ]
    },
    {
     "name": "stderr",
     "output_type": "stream",
     "text": [
      "2022-10-21 20:29:18.588247: I tensorflow/compiler/jit/xla_cpu_device.cc:41] Not creating XLA devices, tf_xla_enable_xla_devices not set\n",
      "2022-10-21 20:29:18.588388: I tensorflow/stream_executor/cuda/cuda_gpu_executor.cc:941] successful NUMA node read from SysFS had negative value (-1), but there must be at least one NUMA node, so returning NUMA node zero\n",
      "2022-10-21 20:29:18.595247: I tensorflow/core/profiler/lib/profiler_session.cc:136] Profiler session initializing.\n",
      "2022-10-21 20:29:18.595266: I tensorflow/core/profiler/lib/profiler_session.cc:155] Profiler session started.\n",
      "2022-10-21 20:29:18.595281: I tensorflow/core/profiler/internal/gpu/cupti_tracer.cc:1365] Profiler found 1 GPUs\n",
      "2022-10-21 20:29:18.595737: I tensorflow/stream_executor/platform/default/dso_loader.cc:49] Successfully opened dynamic library libcupti.so.11.0\n",
      "2022-10-21 20:29:18.696125: I tensorflow/core/profiler/lib/profiler_session.cc:172] Profiler session tear down.\n",
      "2022-10-21 20:29:18.696221: I tensorflow/core/profiler/internal/gpu/cupti_tracer.cc:1487] CUPTI activity buffer flushed\n"
     ]
    }
   ],
   "source": [
    "policy = mixed_precision.Policy('mixed_float16')\n",
    "mixed_precision.set_global_policy(policy)\n",
    "\n",
    "model.compile(\n",
    "    optimizer='adam',\n",
    "    loss=losses.MeanSquaredError(),\n",
    "\n",
    ")\n",
    "\n",
    "log_dir = \"logs/fit/\" + datetime.datetime.now().strftime(\"%Y%m%d-%H%M%S\")\n",
    "tensorboard_callback = tf.keras.callbacks.TensorBoard(log_dir=log_dir, histogram_freq=1)"
   ]
  },
  {
   "cell_type": "code",
   "execution_count": 25,
   "metadata": {
    "id": "q63OBtQJx1WV"
   },
   "outputs": [],
   "source": [
    "# https://stackoverflow.com/questions/44607176/tensorflow-loss-function-which-takes-one-hot-as-argument\n",
    "# https://www.tensorflow.org/api_docs/python/tf/keras/losses/CategoricalCrossentropy\n",
    "# Would CategoricalCrossentrophy with axis = 1 work?\n",
    "\n",
    "class SoftmaxCrossEntrophyError2D(tf.keras.losses.Loss):\n",
    "    def call(self, y_true, y_pred):\n",
    "        pass"
   ]
  },
  {
   "cell_type": "code",
   "execution_count": 26,
   "metadata": {
    "colab": {
     "base_uri": "https://localhost:8080/"
    },
    "id": "Ne6VbRXLx1WV",
    "outputId": "ff2b57ff-da3d-4c37-bfbe-988d045350e6"
   },
   "outputs": [
    {
     "name": "stdout",
     "output_type": "stream",
     "text": [
      "Model: \"sequential\"\n",
      "_________________________________________________________________\n",
      "Layer (type)                 Output Shape              Param #   \n",
      "=================================================================\n",
      "flatten (Flatten)            (None, 320)               0         \n",
      "_________________________________________________________________\n",
      "dense (Dense)                (None, 3200)              1027200   \n",
      "_________________________________________________________________\n",
      "dense_1 (Dense)              (None, 3200)              10243200  \n",
      "_________________________________________________________________\n",
      "dense_2 (Dense)              (None, 320)               1024320   \n",
      "_________________________________________________________________\n",
      "reshape (Reshape)            (None, 20, 16)            0         \n",
      "_________________________________________________________________\n",
      "softmax_1 (Softmax)          (None, 20, 16)            0         \n",
      "=================================================================\n",
      "Total params: 12,294,720\n",
      "Trainable params: 12,294,720\n",
      "Non-trainable params: 0\n",
      "_________________________________________________________________\n"
     ]
    }
   ],
   "source": [
    "model.summary()"
   ]
  },
  {
   "cell_type": "code",
   "execution_count": 27,
   "metadata": {
    "colab": {
     "base_uri": "https://localhost:8080/"
    },
    "id": "jBXWsL7g6iHD",
    "outputId": "b0fd19f8-2bad-41d7-c36f-01cbbfacd76a"
   },
   "outputs": [],
   "source": [
    "# from google.colab import drive\n",
    "# drive.mount('/content/drive')"
   ]
  },
  {
   "cell_type": "code",
   "execution_count": 48,
   "metadata": {
    "id": "m6tmkKyhx1WV"
   },
   "outputs": [],
   "source": [
    "checkpoint_path = \"training_8/cp-{epoch:04d}.ckpt\"\n",
    "checkpoint_dir = os.path.dirname(checkpoint_path)\n",
    "cp_callback = tf.keras.callbacks.ModelCheckpoint(filepath=checkpoint_path,\n",
    "                                                 save_weights_only=True,\n",
    "                                                 verbose=1)"
   ]
  },
  {
   "cell_type": "code",
   "execution_count": 49,
   "metadata": {
    "colab": {
     "base_uri": "https://localhost:8080/"
    },
    "id": "L_hsc3r1x1WV",
    "outputId": "b4583ab5-ade3-428c-f4c1-a325a6b2112d"
   },
   "outputs": [
    {
     "name": "stdout",
     "output_type": "stream",
     "text": [
      "Epoch 1/100\n",
      "      3/Unknown - 0s 124ms/step - loss: 0.0163"
     ]
    },
    {
     "name": "stderr",
     "output_type": "stream",
     "text": [
      "2022-10-21 23:25:27.633790: I tensorflow/core/profiler/lib/profiler_session.cc:136] Profiler session initializing.\n",
      "2022-10-21 23:25:27.633807: I tensorflow/core/profiler/lib/profiler_session.cc:155] Profiler session started.\n",
      "2022-10-21 23:25:27.703383: I tensorflow/core/profiler/lib/profiler_session.cc:71] Profiler session collecting data.\n",
      "2022-10-21 23:25:27.703539: I tensorflow/core/profiler/internal/gpu/cupti_tracer.cc:1487] CUPTI activity buffer flushed\n",
      "2022-10-21 23:25:27.854493: I tensorflow/core/profiler/internal/gpu/cupti_collector.cc:228]  GpuTracer has collected 73 callback api events and 65 activity events. \n",
      "2022-10-21 23:25:27.858702: I tensorflow/core/profiler/lib/profiler_session.cc:172] Profiler session tear down.\n",
      "2022-10-21 23:25:27.864077: I tensorflow/core/profiler/rpc/client/save_profile.cc:137] Creating directory: logs/fit/20221021-202918/train/plugins/profile/2022_10_21_23_25_27\n",
      "2022-10-21 23:25:27.867441: I tensorflow/core/profiler/rpc/client/save_profile.cc:143] Dumped gzipped tool data for trace.json.gz to logs/fit/20221021-202918/train/plugins/profile/2022_10_21_23_25_27/michaellee8-rookie.trace.json.gz\n",
      "2022-10-21 23:25:27.869902: I tensorflow/core/profiler/rpc/client/save_profile.cc:137] Creating directory: logs/fit/20221021-202918/train/plugins/profile/2022_10_21_23_25_27\n",
      "2022-10-21 23:25:27.870280: I tensorflow/core/profiler/rpc/client/save_profile.cc:143] Dumped gzipped tool data for memory_profile.json.gz to logs/fit/20221021-202918/train/plugins/profile/2022_10_21_23_25_27/michaellee8-rookie.memory_profile.json.gz\n",
      "2022-10-21 23:25:27.870443: I tensorflow/core/profiler/rpc/client/capture_profile.cc:251] Creating directory: logs/fit/20221021-202918/train/plugins/profile/2022_10_21_23_25_27Dumped tool data for xplane.pb to logs/fit/20221021-202918/train/plugins/profile/2022_10_21_23_25_27/michaellee8-rookie.xplane.pb\n",
      "Dumped tool data for overview_page.pb to logs/fit/20221021-202918/train/plugins/profile/2022_10_21_23_25_27/michaellee8-rookie.overview_page.pb\n",
      "Dumped tool data for input_pipeline.pb to logs/fit/20221021-202918/train/plugins/profile/2022_10_21_23_25_27/michaellee8-rookie.input_pipeline.pb\n",
      "Dumped tool data for tensorflow_stats.pb to logs/fit/20221021-202918/train/plugins/profile/2022_10_21_23_25_27/michaellee8-rookie.tensorflow_stats.pb\n",
      "Dumped tool data for kernel_stats.pb to logs/fit/20221021-202918/train/plugins/profile/2022_10_21_23_25_27/michaellee8-rookie.kernel_stats.pb\n",
      "\n"
     ]
    },
    {
     "name": "stdout",
     "output_type": "stream",
     "text": [
      "125000/125000 [==============================] - 526s 4ms/step - loss: 0.0160 - val_loss: 0.0160\n",
      "\n",
      "Epoch 00001: saving model to training_8/cp-0001.ckpt\n",
      "Epoch 2/100\n",
      "125000/125000 [==============================] - 529s 4ms/step - loss: 0.0160 - val_loss: 0.0160\n",
      "\n",
      "Epoch 00002: saving model to training_8/cp-0002.ckpt\n",
      "Epoch 3/100\n",
      "125000/125000 [==============================] - 534s 4ms/step - loss: 0.0160 - val_loss: 0.0160\n",
      "\n",
      "Epoch 00003: saving model to training_8/cp-0003.ckpt\n",
      "Epoch 4/100\n",
      "125000/125000 [==============================] - 543s 4ms/step - loss: 0.0159 - val_loss: 0.0160\n",
      "\n",
      "Epoch 00004: saving model to training_8/cp-0004.ckpt\n",
      "Epoch 5/100\n",
      "125000/125000 [==============================] - 536s 4ms/step - loss: 0.0159 - val_loss: 0.0159\n",
      "\n",
      "Epoch 00005: saving model to training_8/cp-0005.ckpt\n",
      "Epoch 6/100\n",
      "125000/125000 [==============================] - 545s 4ms/step - loss: 0.0159 - val_loss: 0.0159\n",
      "\n",
      "Epoch 00006: saving model to training_8/cp-0006.ckpt\n",
      "Epoch 7/100\n",
      "125000/125000 [==============================] - 554s 4ms/step - loss: 0.0159 - val_loss: 0.0159\n",
      "\n",
      "Epoch 00007: saving model to training_8/cp-0007.ckpt\n",
      "Epoch 8/100\n",
      "125000/125000 [==============================] - 555s 4ms/step - loss: 0.0159 - val_loss: 0.0159\n",
      "\n",
      "Epoch 00008: saving model to training_8/cp-0008.ckpt\n",
      "Epoch 9/100\n",
      "125000/125000 [==============================] - 548s 4ms/step - loss: 0.0159 - val_loss: 0.0159\n",
      "\n",
      "Epoch 00009: saving model to training_8/cp-0009.ckpt\n",
      "Epoch 10/100\n",
      "125000/125000 [==============================] - 545s 4ms/step - loss: 0.0159 - val_loss: 0.0159\n",
      "\n",
      "Epoch 00010: saving model to training_8/cp-0010.ckpt\n",
      "Epoch 11/100\n",
      "125000/125000 [==============================] - 545s 4ms/step - loss: 0.0159 - val_loss: 0.0159\n",
      "\n",
      "Epoch 00011: saving model to training_8/cp-0011.ckpt\n",
      "Epoch 12/100\n",
      "125000/125000 [==============================] - 545s 4ms/step - loss: 0.0159 - val_loss: 0.0159\n",
      "\n",
      "Epoch 00012: saving model to training_8/cp-0012.ckpt\n",
      "Epoch 13/100\n",
      "125000/125000 [==============================] - 545s 4ms/step - loss: 0.0159 - val_loss: 0.0159\n",
      "\n",
      "Epoch 00013: saving model to training_8/cp-0013.ckpt\n",
      "Epoch 14/100\n",
      "125000/125000 [==============================] - 547s 4ms/step - loss: 0.0159 - val_loss: 0.0159\n",
      "\n",
      "Epoch 00014: saving model to training_8/cp-0014.ckpt\n",
      "Epoch 15/100\n",
      "125000/125000 [==============================] - 550s 4ms/step - loss: 0.0159 - val_loss: 0.0159\n",
      "\n",
      "Epoch 00015: saving model to training_8/cp-0015.ckpt\n",
      "Epoch 16/100\n",
      "125000/125000 [==============================] - 551s 4ms/step - loss: 0.0159 - val_loss: 0.0159\n",
      "\n",
      "Epoch 00016: saving model to training_8/cp-0016.ckpt\n",
      "Epoch 17/100\n",
      "125000/125000 [==============================] - 549s 4ms/step - loss: 0.0159 - val_loss: 0.0159\n",
      "\n",
      "Epoch 00017: saving model to training_8/cp-0017.ckpt\n",
      "Epoch 18/100\n",
      "125000/125000 [==============================] - 550s 4ms/step - loss: 0.0159 - val_loss: 0.0159\n",
      "\n",
      "Epoch 00018: saving model to training_8/cp-0018.ckpt\n",
      "Epoch 19/100\n",
      "125000/125000 [==============================] - 551s 4ms/step - loss: 0.0159 - val_loss: 0.0159\n",
      "\n",
      "Epoch 00019: saving model to training_8/cp-0019.ckpt\n",
      "Epoch 20/100\n",
      "125000/125000 [==============================] - 561s 4ms/step - loss: 0.0159 - val_loss: 0.0159\n",
      "\n",
      "Epoch 00020: saving model to training_8/cp-0020.ckpt\n",
      "Epoch 21/100\n",
      "125000/125000 [==============================] - 564s 5ms/step - loss: 0.0159 - val_loss: 0.0159\n",
      "\n",
      "Epoch 00021: saving model to training_8/cp-0021.ckpt\n",
      "Epoch 22/100\n",
      "125000/125000 [==============================] - 564s 5ms/step - loss: 0.0159 - val_loss: 0.0159\n",
      "\n",
      "Epoch 00022: saving model to training_8/cp-0022.ckpt\n",
      "Epoch 23/100\n",
      "125000/125000 [==============================] - 561s 4ms/step - loss: 0.0159 - val_loss: 0.0159\n",
      "\n",
      "Epoch 00023: saving model to training_8/cp-0023.ckpt\n",
      "Epoch 24/100\n",
      "125000/125000 [==============================] - 557s 4ms/step - loss: 0.0159 - val_loss: 0.0159\n",
      "\n",
      "Epoch 00024: saving model to training_8/cp-0024.ckpt\n",
      "Epoch 25/100\n",
      "125000/125000 [==============================] - 561s 4ms/step - loss: 0.0159 - val_loss: 0.0159\n",
      "\n",
      "Epoch 00025: saving model to training_8/cp-0025.ckpt\n",
      "Epoch 26/100\n",
      "125000/125000 [==============================] - 557s 4ms/step - loss: 0.0159 - val_loss: 0.0159\n",
      "\n",
      "Epoch 00026: saving model to training_8/cp-0026.ckpt\n",
      "Epoch 27/100\n",
      "125000/125000 [==============================] - 558s 4ms/step - loss: 0.0159 - val_loss: 0.0159\n",
      "\n",
      "Epoch 00027: saving model to training_8/cp-0027.ckpt\n",
      "Epoch 28/100\n",
      "125000/125000 [==============================] - 570s 5ms/step - loss: 0.0159 - val_loss: 0.0158\n",
      "\n",
      "Epoch 00028: saving model to training_8/cp-0028.ckpt\n",
      "Epoch 29/100\n",
      "125000/125000 [==============================] - 568s 5ms/step - loss: 0.0158 - val_loss: 0.0158\n",
      "\n",
      "Epoch 00029: saving model to training_8/cp-0029.ckpt\n",
      "Epoch 30/100\n",
      "125000/125000 [==============================] - 570s 5ms/step - loss: 0.0158 - val_loss: 0.0158\n",
      "\n",
      "Epoch 00030: saving model to training_8/cp-0030.ckpt\n",
      "Epoch 31/100\n",
      "125000/125000 [==============================] - 561s 4ms/step - loss: 0.0158 - val_loss: 0.0158\n",
      "\n",
      "Epoch 00031: saving model to training_8/cp-0031.ckpt\n",
      "Epoch 32/100\n",
      "125000/125000 [==============================] - 571s 5ms/step - loss: 0.0158 - val_loss: 0.0158\n",
      "\n",
      "Epoch 00032: saving model to training_8/cp-0032.ckpt\n",
      "Epoch 33/100\n",
      "125000/125000 [==============================] - 559s 4ms/step - loss: 0.0158 - val_loss: 0.0159\n",
      "\n",
      "Epoch 00033: saving model to training_8/cp-0033.ckpt\n",
      "Epoch 34/100\n",
      "125000/125000 [==============================] - 571s 5ms/step - loss: 0.0158 - val_loss: 0.0158\n",
      "\n",
      "Epoch 00034: saving model to training_8/cp-0034.ckpt\n",
      "Epoch 35/100\n",
      "125000/125000 [==============================] - 559s 4ms/step - loss: 0.0158 - val_loss: 0.0158\n",
      "\n",
      "Epoch 00035: saving model to training_8/cp-0035.ckpt\n",
      "Epoch 36/100\n",
      "125000/125000 [==============================] - 564s 5ms/step - loss: 0.0158 - val_loss: 0.0158\n",
      "\n",
      "Epoch 00036: saving model to training_8/cp-0036.ckpt\n",
      "Epoch 37/100\n",
      "125000/125000 [==============================] - 569s 5ms/step - loss: 0.0158 - val_loss: 0.0158\n",
      "\n",
      "Epoch 00037: saving model to training_8/cp-0037.ckpt\n",
      "Epoch 38/100\n",
      "125000/125000 [==============================] - 554s 4ms/step - loss: 0.0158 - val_loss: 0.0158\n",
      "\n",
      "Epoch 00038: saving model to training_8/cp-0038.ckpt\n",
      "Epoch 39/100\n",
      "125000/125000 [==============================] - 568s 5ms/step - loss: 0.0158 - val_loss: 0.0158\n",
      "\n",
      "Epoch 00039: saving model to training_8/cp-0039.ckpt\n",
      "Epoch 40/100\n",
      "125000/125000 [==============================] - 562s 4ms/step - loss: 0.0158 - val_loss: 0.0158\n",
      "\n",
      "Epoch 00040: saving model to training_8/cp-0040.ckpt\n",
      "Epoch 41/100\n",
      "125000/125000 [==============================] - 558s 4ms/step - loss: 0.0158 - val_loss: 0.0158\n",
      "\n",
      "Epoch 00041: saving model to training_8/cp-0041.ckpt\n",
      "Epoch 42/100\n",
      "125000/125000 [==============================] - 569s 5ms/step - loss: 0.0158 - val_loss: 0.0158\n",
      "\n",
      "Epoch 00042: saving model to training_8/cp-0042.ckpt\n",
      "Epoch 43/100\n",
      "125000/125000 [==============================] - 575s 5ms/step - loss: 0.0158 - val_loss: 0.0158\n",
      "\n",
      "Epoch 00043: saving model to training_8/cp-0043.ckpt\n",
      "Epoch 44/100\n",
      "125000/125000 [==============================] - 569s 5ms/step - loss: 0.0158 - val_loss: 0.0158\n",
      "\n",
      "Epoch 00044: saving model to training_8/cp-0044.ckpt\n",
      "Epoch 45/100\n",
      "125000/125000 [==============================] - 562s 4ms/step - loss: 0.0158 - val_loss: 0.0158\n",
      "\n",
      "Epoch 00045: saving model to training_8/cp-0045.ckpt\n",
      "Epoch 46/100\n",
      "125000/125000 [==============================] - 564s 5ms/step - loss: 0.0158 - val_loss: 0.0158\n",
      "\n",
      "Epoch 00046: saving model to training_8/cp-0046.ckpt\n",
      "Epoch 47/100\n",
      "125000/125000 [==============================] - 567s 5ms/step - loss: 0.0158 - val_loss: 0.0158\n",
      "\n",
      "Epoch 00047: saving model to training_8/cp-0047.ckpt\n",
      "Epoch 48/100\n",
      "125000/125000 [==============================] - 561s 4ms/step - loss: 0.0158 - val_loss: 0.0158\n",
      "\n",
      "Epoch 00048: saving model to training_8/cp-0048.ckpt\n",
      "Epoch 49/100\n",
      "125000/125000 [==============================] - 564s 5ms/step - loss: 0.0158 - val_loss: 0.0158\n",
      "\n",
      "Epoch 00049: saving model to training_8/cp-0049.ckpt\n",
      "Epoch 50/100\n",
      "125000/125000 [==============================] - 567s 5ms/step - loss: 0.0158 - val_loss: 0.0158\n",
      "\n",
      "Epoch 00050: saving model to training_8/cp-0050.ckpt\n",
      "Epoch 51/100\n",
      "125000/125000 [==============================] - 559s 4ms/step - loss: 0.0158 - val_loss: 0.0158\n",
      "\n",
      "Epoch 00051: saving model to training_8/cp-0051.ckpt\n",
      "Epoch 52/100\n",
      "125000/125000 [==============================] - 563s 5ms/step - loss: 0.0158 - val_loss: 0.0158\n",
      "\n",
      "Epoch 00052: saving model to training_8/cp-0052.ckpt\n",
      "Epoch 53/100\n",
      "125000/125000 [==============================] - 565s 5ms/step - loss: 0.0158 - val_loss: 0.0158\n",
      "\n",
      "Epoch 00053: saving model to training_8/cp-0053.ckpt\n",
      "Epoch 54/100\n",
      "125000/125000 [==============================] - 562s 4ms/step - loss: 0.0158 - val_loss: 0.0158\n",
      "\n",
      "Epoch 00054: saving model to training_8/cp-0054.ckpt\n",
      "Epoch 55/100\n",
      "125000/125000 [==============================] - 557s 4ms/step - loss: 0.0158 - val_loss: 0.0158\n",
      "\n",
      "Epoch 00055: saving model to training_8/cp-0055.ckpt\n",
      "Epoch 56/100\n",
      "125000/125000 [==============================] - 564s 5ms/step - loss: 0.0158 - val_loss: 0.0158\n",
      "\n",
      "Epoch 00056: saving model to training_8/cp-0056.ckpt\n",
      "Epoch 57/100\n",
      "125000/125000 [==============================] - 563s 5ms/step - loss: 0.0158 - val_loss: 0.0158\n",
      "\n",
      "Epoch 00057: saving model to training_8/cp-0057.ckpt\n",
      "Epoch 58/100\n",
      "125000/125000 [==============================] - 566s 5ms/step - loss: 0.0158 - val_loss: 0.0158\n",
      "\n",
      "Epoch 00058: saving model to training_8/cp-0058.ckpt\n",
      "Epoch 59/100\n",
      "125000/125000 [==============================] - 571s 5ms/step - loss: 0.0158 - val_loss: 0.0158\n",
      "\n",
      "Epoch 00059: saving model to training_8/cp-0059.ckpt\n",
      "Epoch 60/100\n",
      "125000/125000 [==============================] - 577s 5ms/step - loss: 0.0158 - val_loss: 0.0158\n",
      "\n",
      "Epoch 00060: saving model to training_8/cp-0060.ckpt\n",
      "Epoch 61/100\n",
      "125000/125000 [==============================] - 567s 5ms/step - loss: 0.0158 - val_loss: 0.0158\n",
      "\n",
      "Epoch 00061: saving model to training_8/cp-0061.ckpt\n",
      "Epoch 62/100\n",
      "125000/125000 [==============================] - 578s 5ms/step - loss: 0.0158 - val_loss: 0.0158\n",
      "\n",
      "Epoch 00062: saving model to training_8/cp-0062.ckpt\n",
      "Epoch 63/100\n",
      "125000/125000 [==============================] - 571s 5ms/step - loss: 0.0158 - val_loss: 0.0158\n",
      "\n",
      "Epoch 00063: saving model to training_8/cp-0063.ckpt\n",
      "Epoch 64/100\n",
      "125000/125000 [==============================] - 583s 5ms/step - loss: 0.0158 - val_loss: 0.0158\n",
      "\n",
      "Epoch 00064: saving model to training_8/cp-0064.ckpt\n",
      "Epoch 65/100\n",
      "125000/125000 [==============================] - 586s 5ms/step - loss: 0.0158 - val_loss: 0.0158\n",
      "\n",
      "Epoch 00065: saving model to training_8/cp-0065.ckpt\n",
      "Epoch 66/100\n",
      "125000/125000 [==============================] - 591s 5ms/step - loss: 0.0158 - val_loss: 0.0158\n",
      "\n",
      "Epoch 00066: saving model to training_8/cp-0066.ckpt\n",
      "Epoch 67/100\n",
      "125000/125000 [==============================] - 585s 5ms/step - loss: 0.0158 - val_loss: 0.0158\n",
      "\n",
      "Epoch 00067: saving model to training_8/cp-0067.ckpt\n",
      "Epoch 68/100\n",
      "125000/125000 [==============================] - 585s 5ms/step - loss: 0.0158 - val_loss: 0.0158\n",
      "\n",
      "Epoch 00068: saving model to training_8/cp-0068.ckpt\n",
      "Epoch 69/100\n",
      "125000/125000 [==============================] - 584s 5ms/step - loss: 0.0158 - val_loss: 0.0158\n",
      "\n",
      "Epoch 00069: saving model to training_8/cp-0069.ckpt\n",
      "Epoch 70/100\n",
      "125000/125000 [==============================] - 584s 5ms/step - loss: 0.0158 - val_loss: 0.0158\n",
      "\n",
      "Epoch 00070: saving model to training_8/cp-0070.ckpt\n",
      "Epoch 71/100\n",
      " 67656/125000 [===============>..............] - ETA: 4:00 - loss: 0.0158"
     ]
    },
    {
     "ename": "KeyboardInterrupt",
     "evalue": "",
     "output_type": "error",
     "traceback": [
      "\u001B[0;31m---------------------------------------------------------------------------\u001B[0m",
      "\u001B[0;31mKeyboardInterrupt\u001B[0m                         Traceback (most recent call last)",
      "\u001B[0;32m/tmp/ipykernel_599965/2408948797.py\u001B[0m in \u001B[0;36m<module>\u001B[0;34m\u001B[0m\n\u001B[1;32m      7\u001B[0m     \u001B[0mvalidation_data\u001B[0m\u001B[0;34m=\u001B[0m\u001B[0mvalidation_data_batched\u001B[0m\u001B[0;34m,\u001B[0m\u001B[0;34m\u001B[0m\u001B[0;34m\u001B[0m\u001B[0m\n\u001B[1;32m      8\u001B[0m     \u001B[0mepochs\u001B[0m\u001B[0;34m=\u001B[0m\u001B[0;36m100\u001B[0m\u001B[0;34m,\u001B[0m\u001B[0;34m\u001B[0m\u001B[0;34m\u001B[0m\u001B[0m\n\u001B[0;32m----> 9\u001B[0;31m     \u001B[0mcallbacks\u001B[0m\u001B[0;34m=\u001B[0m\u001B[0;34m[\u001B[0m\u001B[0mtensorboard_callback\u001B[0m\u001B[0;34m,\u001B[0m \u001B[0mcp_callback\u001B[0m\u001B[0;34m,\u001B[0m \u001B[0moptimizer_scheduler_callback\u001B[0m\u001B[0;34m]\u001B[0m\u001B[0;34m,\u001B[0m\u001B[0;34m\u001B[0m\u001B[0;34m\u001B[0m\u001B[0m\n\u001B[0m\u001B[1;32m     10\u001B[0m )\n",
      "\u001B[0;32m~/anaconda3/envs/colab/lib/python3.7/site-packages/tensorflow/python/keras/engine/training.py\u001B[0m in \u001B[0;36mfit\u001B[0;34m(self, x, y, batch_size, epochs, verbose, callbacks, validation_split, validation_data, shuffle, class_weight, sample_weight, initial_epoch, steps_per_epoch, validation_steps, validation_batch_size, validation_freq, max_queue_size, workers, use_multiprocessing)\u001B[0m\n\u001B[1;32m   1103\u001B[0m               \u001B[0mlogs\u001B[0m \u001B[0;34m=\u001B[0m \u001B[0mtmp_logs\u001B[0m  \u001B[0;31m# No error, now safe to assign to logs.\u001B[0m\u001B[0;34m\u001B[0m\u001B[0;34m\u001B[0m\u001B[0m\n\u001B[1;32m   1104\u001B[0m               \u001B[0mend_step\u001B[0m \u001B[0;34m=\u001B[0m \u001B[0mstep\u001B[0m \u001B[0;34m+\u001B[0m \u001B[0mdata_handler\u001B[0m\u001B[0;34m.\u001B[0m\u001B[0mstep_increment\u001B[0m\u001B[0;34m\u001B[0m\u001B[0;34m\u001B[0m\u001B[0m\n\u001B[0;32m-> 1105\u001B[0;31m               \u001B[0mcallbacks\u001B[0m\u001B[0;34m.\u001B[0m\u001B[0mon_train_batch_end\u001B[0m\u001B[0;34m(\u001B[0m\u001B[0mend_step\u001B[0m\u001B[0;34m,\u001B[0m \u001B[0mlogs\u001B[0m\u001B[0;34m)\u001B[0m\u001B[0;34m\u001B[0m\u001B[0;34m\u001B[0m\u001B[0m\n\u001B[0m\u001B[1;32m   1106\u001B[0m               \u001B[0;32mif\u001B[0m \u001B[0mself\u001B[0m\u001B[0;34m.\u001B[0m\u001B[0mstop_training\u001B[0m\u001B[0;34m:\u001B[0m\u001B[0;34m\u001B[0m\u001B[0;34m\u001B[0m\u001B[0m\n\u001B[1;32m   1107\u001B[0m                 \u001B[0;32mbreak\u001B[0m\u001B[0;34m\u001B[0m\u001B[0;34m\u001B[0m\u001B[0m\n",
      "\u001B[0;32m~/anaconda3/envs/colab/lib/python3.7/site-packages/tensorflow/python/keras/callbacks.py\u001B[0m in \u001B[0;36mon_train_batch_end\u001B[0;34m(self, batch, logs)\u001B[0m\n\u001B[1;32m    452\u001B[0m     \"\"\"\n\u001B[1;32m    453\u001B[0m     \u001B[0;32mif\u001B[0m \u001B[0mself\u001B[0m\u001B[0;34m.\u001B[0m\u001B[0m_should_call_train_batch_hooks\u001B[0m\u001B[0;34m:\u001B[0m\u001B[0;34m\u001B[0m\u001B[0;34m\u001B[0m\u001B[0m\n\u001B[0;32m--> 454\u001B[0;31m       \u001B[0mself\u001B[0m\u001B[0;34m.\u001B[0m\u001B[0m_call_batch_hook\u001B[0m\u001B[0;34m(\u001B[0m\u001B[0mModeKeys\u001B[0m\u001B[0;34m.\u001B[0m\u001B[0mTRAIN\u001B[0m\u001B[0;34m,\u001B[0m \u001B[0;34m'end'\u001B[0m\u001B[0;34m,\u001B[0m \u001B[0mbatch\u001B[0m\u001B[0;34m,\u001B[0m \u001B[0mlogs\u001B[0m\u001B[0;34m=\u001B[0m\u001B[0mlogs\u001B[0m\u001B[0;34m)\u001B[0m\u001B[0;34m\u001B[0m\u001B[0;34m\u001B[0m\u001B[0m\n\u001B[0m\u001B[1;32m    455\u001B[0m \u001B[0;34m\u001B[0m\u001B[0m\n\u001B[1;32m    456\u001B[0m   \u001B[0;32mdef\u001B[0m \u001B[0mon_test_batch_begin\u001B[0m\u001B[0;34m(\u001B[0m\u001B[0mself\u001B[0m\u001B[0;34m,\u001B[0m \u001B[0mbatch\u001B[0m\u001B[0;34m,\u001B[0m \u001B[0mlogs\u001B[0m\u001B[0;34m=\u001B[0m\u001B[0;32mNone\u001B[0m\u001B[0;34m)\u001B[0m\u001B[0;34m:\u001B[0m\u001B[0;34m\u001B[0m\u001B[0;34m\u001B[0m\u001B[0m\n",
      "\u001B[0;32m~/anaconda3/envs/colab/lib/python3.7/site-packages/tensorflow/python/keras/callbacks.py\u001B[0m in \u001B[0;36m_call_batch_hook\u001B[0;34m(self, mode, hook, batch, logs)\u001B[0m\n\u001B[1;32m    294\u001B[0m       \u001B[0mself\u001B[0m\u001B[0;34m.\u001B[0m\u001B[0m_call_batch_begin_hook\u001B[0m\u001B[0;34m(\u001B[0m\u001B[0mmode\u001B[0m\u001B[0;34m,\u001B[0m \u001B[0mbatch\u001B[0m\u001B[0;34m,\u001B[0m \u001B[0mlogs\u001B[0m\u001B[0;34m)\u001B[0m\u001B[0;34m\u001B[0m\u001B[0;34m\u001B[0m\u001B[0m\n\u001B[1;32m    295\u001B[0m     \u001B[0;32melif\u001B[0m \u001B[0mhook\u001B[0m \u001B[0;34m==\u001B[0m \u001B[0;34m'end'\u001B[0m\u001B[0;34m:\u001B[0m\u001B[0;34m\u001B[0m\u001B[0;34m\u001B[0m\u001B[0m\n\u001B[0;32m--> 296\u001B[0;31m       \u001B[0mself\u001B[0m\u001B[0;34m.\u001B[0m\u001B[0m_call_batch_end_hook\u001B[0m\u001B[0;34m(\u001B[0m\u001B[0mmode\u001B[0m\u001B[0;34m,\u001B[0m \u001B[0mbatch\u001B[0m\u001B[0;34m,\u001B[0m \u001B[0mlogs\u001B[0m\u001B[0;34m)\u001B[0m\u001B[0;34m\u001B[0m\u001B[0;34m\u001B[0m\u001B[0m\n\u001B[0m\u001B[1;32m    297\u001B[0m     \u001B[0;32melse\u001B[0m\u001B[0;34m:\u001B[0m\u001B[0;34m\u001B[0m\u001B[0;34m\u001B[0m\u001B[0m\n\u001B[1;32m    298\u001B[0m       \u001B[0;32mraise\u001B[0m \u001B[0mValueError\u001B[0m\u001B[0;34m(\u001B[0m\u001B[0;34m'Unrecognized hook: {}'\u001B[0m\u001B[0;34m.\u001B[0m\u001B[0mformat\u001B[0m\u001B[0;34m(\u001B[0m\u001B[0mhook\u001B[0m\u001B[0;34m)\u001B[0m\u001B[0;34m)\u001B[0m\u001B[0;34m\u001B[0m\u001B[0;34m\u001B[0m\u001B[0m\n",
      "\u001B[0;32m~/anaconda3/envs/colab/lib/python3.7/site-packages/tensorflow/python/keras/callbacks.py\u001B[0m in \u001B[0;36m_call_batch_end_hook\u001B[0;34m(self, mode, batch, logs)\u001B[0m\n\u001B[1;32m    314\u001B[0m       \u001B[0mself\u001B[0m\u001B[0;34m.\u001B[0m\u001B[0m_batch_times\u001B[0m\u001B[0;34m.\u001B[0m\u001B[0mappend\u001B[0m\u001B[0;34m(\u001B[0m\u001B[0mbatch_time\u001B[0m\u001B[0;34m)\u001B[0m\u001B[0;34m\u001B[0m\u001B[0;34m\u001B[0m\u001B[0m\n\u001B[1;32m    315\u001B[0m \u001B[0;34m\u001B[0m\u001B[0m\n\u001B[0;32m--> 316\u001B[0;31m     \u001B[0mself\u001B[0m\u001B[0;34m.\u001B[0m\u001B[0m_call_batch_hook_helper\u001B[0m\u001B[0;34m(\u001B[0m\u001B[0mhook_name\u001B[0m\u001B[0;34m,\u001B[0m \u001B[0mbatch\u001B[0m\u001B[0;34m,\u001B[0m \u001B[0mlogs\u001B[0m\u001B[0;34m)\u001B[0m\u001B[0;34m\u001B[0m\u001B[0;34m\u001B[0m\u001B[0m\n\u001B[0m\u001B[1;32m    317\u001B[0m \u001B[0;34m\u001B[0m\u001B[0m\n\u001B[1;32m    318\u001B[0m     \u001B[0;32mif\u001B[0m \u001B[0mlen\u001B[0m\u001B[0;34m(\u001B[0m\u001B[0mself\u001B[0m\u001B[0;34m.\u001B[0m\u001B[0m_batch_times\u001B[0m\u001B[0;34m)\u001B[0m \u001B[0;34m>=\u001B[0m \u001B[0mself\u001B[0m\u001B[0;34m.\u001B[0m\u001B[0m_num_batches_for_timing_check\u001B[0m\u001B[0;34m:\u001B[0m\u001B[0;34m\u001B[0m\u001B[0;34m\u001B[0m\u001B[0m\n",
      "\u001B[0;32m~/anaconda3/envs/colab/lib/python3.7/site-packages/tensorflow/python/keras/callbacks.py\u001B[0m in \u001B[0;36m_call_batch_hook_helper\u001B[0;34m(self, hook_name, batch, logs)\u001B[0m\n\u001B[1;32m    354\u001B[0m       \u001B[0mhook\u001B[0m \u001B[0;34m=\u001B[0m \u001B[0mgetattr\u001B[0m\u001B[0;34m(\u001B[0m\u001B[0mcallback\u001B[0m\u001B[0;34m,\u001B[0m \u001B[0mhook_name\u001B[0m\u001B[0;34m)\u001B[0m\u001B[0;34m\u001B[0m\u001B[0;34m\u001B[0m\u001B[0m\n\u001B[1;32m    355\u001B[0m       \u001B[0;32mif\u001B[0m \u001B[0mgetattr\u001B[0m\u001B[0;34m(\u001B[0m\u001B[0mcallback\u001B[0m\u001B[0;34m,\u001B[0m \u001B[0;34m'_supports_tf_logs'\u001B[0m\u001B[0;34m,\u001B[0m \u001B[0;32mFalse\u001B[0m\u001B[0;34m)\u001B[0m\u001B[0;34m:\u001B[0m\u001B[0;34m\u001B[0m\u001B[0;34m\u001B[0m\u001B[0m\n\u001B[0;32m--> 356\u001B[0;31m         \u001B[0mhook\u001B[0m\u001B[0;34m(\u001B[0m\u001B[0mbatch\u001B[0m\u001B[0;34m,\u001B[0m \u001B[0mlogs\u001B[0m\u001B[0;34m)\u001B[0m\u001B[0;34m\u001B[0m\u001B[0;34m\u001B[0m\u001B[0m\n\u001B[0m\u001B[1;32m    357\u001B[0m       \u001B[0;32melse\u001B[0m\u001B[0;34m:\u001B[0m\u001B[0;34m\u001B[0m\u001B[0;34m\u001B[0m\u001B[0m\n\u001B[1;32m    358\u001B[0m         \u001B[0;32mif\u001B[0m \u001B[0mnumpy_logs\u001B[0m \u001B[0;32mis\u001B[0m \u001B[0;32mNone\u001B[0m\u001B[0;34m:\u001B[0m  \u001B[0;31m# Only convert once.\u001B[0m\u001B[0;34m\u001B[0m\u001B[0;34m\u001B[0m\u001B[0m\n",
      "\u001B[0;32m~/anaconda3/envs/colab/lib/python3.7/site-packages/tensorflow/python/keras/callbacks.py\u001B[0m in \u001B[0;36mon_train_batch_end\u001B[0;34m(self, batch, logs)\u001B[0m\n\u001B[1;32m   1018\u001B[0m \u001B[0;34m\u001B[0m\u001B[0m\n\u001B[1;32m   1019\u001B[0m   \u001B[0;32mdef\u001B[0m \u001B[0mon_train_batch_end\u001B[0m\u001B[0;34m(\u001B[0m\u001B[0mself\u001B[0m\u001B[0;34m,\u001B[0m \u001B[0mbatch\u001B[0m\u001B[0;34m,\u001B[0m \u001B[0mlogs\u001B[0m\u001B[0;34m=\u001B[0m\u001B[0;32mNone\u001B[0m\u001B[0;34m)\u001B[0m\u001B[0;34m:\u001B[0m\u001B[0;34m\u001B[0m\u001B[0;34m\u001B[0m\u001B[0m\n\u001B[0;32m-> 1020\u001B[0;31m     \u001B[0mself\u001B[0m\u001B[0;34m.\u001B[0m\u001B[0m_batch_update_progbar\u001B[0m\u001B[0;34m(\u001B[0m\u001B[0mbatch\u001B[0m\u001B[0;34m,\u001B[0m \u001B[0mlogs\u001B[0m\u001B[0;34m)\u001B[0m\u001B[0;34m\u001B[0m\u001B[0;34m\u001B[0m\u001B[0m\n\u001B[0m\u001B[1;32m   1021\u001B[0m \u001B[0;34m\u001B[0m\u001B[0m\n\u001B[1;32m   1022\u001B[0m   \u001B[0;32mdef\u001B[0m \u001B[0mon_test_batch_end\u001B[0m\u001B[0;34m(\u001B[0m\u001B[0mself\u001B[0m\u001B[0;34m,\u001B[0m \u001B[0mbatch\u001B[0m\u001B[0;34m,\u001B[0m \u001B[0mlogs\u001B[0m\u001B[0;34m=\u001B[0m\u001B[0;32mNone\u001B[0m\u001B[0;34m)\u001B[0m\u001B[0;34m:\u001B[0m\u001B[0;34m\u001B[0m\u001B[0;34m\u001B[0m\u001B[0m\n",
      "\u001B[0;32m~/anaconda3/envs/colab/lib/python3.7/site-packages/tensorflow/python/keras/callbacks.py\u001B[0m in \u001B[0;36m_batch_update_progbar\u001B[0;34m(self, batch, logs)\u001B[0m\n\u001B[1;32m   1082\u001B[0m     \u001B[0;32mif\u001B[0m \u001B[0mself\u001B[0m\u001B[0;34m.\u001B[0m\u001B[0mverbose\u001B[0m \u001B[0;34m==\u001B[0m \u001B[0;36m1\u001B[0m\u001B[0;34m:\u001B[0m\u001B[0;34m\u001B[0m\u001B[0;34m\u001B[0m\u001B[0m\n\u001B[1;32m   1083\u001B[0m       \u001B[0;31m# Only block async when verbose = 1.\u001B[0m\u001B[0;34m\u001B[0m\u001B[0;34m\u001B[0m\u001B[0;34m\u001B[0m\u001B[0m\n\u001B[0;32m-> 1084\u001B[0;31m       \u001B[0mlogs\u001B[0m \u001B[0;34m=\u001B[0m \u001B[0mtf_utils\u001B[0m\u001B[0;34m.\u001B[0m\u001B[0mto_numpy_or_python_type\u001B[0m\u001B[0;34m(\u001B[0m\u001B[0mlogs\u001B[0m\u001B[0;34m)\u001B[0m\u001B[0;34m\u001B[0m\u001B[0;34m\u001B[0m\u001B[0m\n\u001B[0m\u001B[1;32m   1085\u001B[0m       \u001B[0mself\u001B[0m\u001B[0;34m.\u001B[0m\u001B[0mprogbar\u001B[0m\u001B[0;34m.\u001B[0m\u001B[0mupdate\u001B[0m\u001B[0;34m(\u001B[0m\u001B[0mself\u001B[0m\u001B[0;34m.\u001B[0m\u001B[0mseen\u001B[0m\u001B[0;34m,\u001B[0m \u001B[0mlist\u001B[0m\u001B[0;34m(\u001B[0m\u001B[0mlogs\u001B[0m\u001B[0;34m.\u001B[0m\u001B[0mitems\u001B[0m\u001B[0;34m(\u001B[0m\u001B[0;34m)\u001B[0m\u001B[0;34m)\u001B[0m\u001B[0;34m,\u001B[0m \u001B[0mfinalize\u001B[0m\u001B[0;34m=\u001B[0m\u001B[0;32mFalse\u001B[0m\u001B[0;34m)\u001B[0m\u001B[0;34m\u001B[0m\u001B[0;34m\u001B[0m\u001B[0m\n\u001B[1;32m   1086\u001B[0m \u001B[0;34m\u001B[0m\u001B[0m\n",
      "\u001B[0;32m~/anaconda3/envs/colab/lib/python3.7/site-packages/tensorflow/python/keras/utils/tf_utils.py\u001B[0m in \u001B[0;36mto_numpy_or_python_type\u001B[0;34m(tensors)\u001B[0m\n\u001B[1;32m    512\u001B[0m     \u001B[0;32mreturn\u001B[0m \u001B[0mt\u001B[0m  \u001B[0;31m# Don't turn ragged or sparse tensors to NumPy.\u001B[0m\u001B[0;34m\u001B[0m\u001B[0;34m\u001B[0m\u001B[0m\n\u001B[1;32m    513\u001B[0m \u001B[0;34m\u001B[0m\u001B[0m\n\u001B[0;32m--> 514\u001B[0;31m   \u001B[0;32mreturn\u001B[0m \u001B[0mnest\u001B[0m\u001B[0;34m.\u001B[0m\u001B[0mmap_structure\u001B[0m\u001B[0;34m(\u001B[0m\u001B[0m_to_single_numpy_or_python_type\u001B[0m\u001B[0;34m,\u001B[0m \u001B[0mtensors\u001B[0m\u001B[0;34m)\u001B[0m\u001B[0;34m\u001B[0m\u001B[0;34m\u001B[0m\u001B[0m\n\u001B[0m\u001B[1;32m    515\u001B[0m \u001B[0;34m\u001B[0m\u001B[0m\n\u001B[1;32m    516\u001B[0m \u001B[0;34m\u001B[0m\u001B[0m\n",
      "\u001B[0;32m~/anaconda3/envs/colab/lib/python3.7/site-packages/tensorflow/python/util/nest.py\u001B[0m in \u001B[0;36mmap_structure\u001B[0;34m(func, *structure, **kwargs)\u001B[0m\n\u001B[1;32m    657\u001B[0m \u001B[0;34m\u001B[0m\u001B[0m\n\u001B[1;32m    658\u001B[0m   return pack_sequence_as(\n\u001B[0;32m--> 659\u001B[0;31m       \u001B[0mstructure\u001B[0m\u001B[0;34m[\u001B[0m\u001B[0;36m0\u001B[0m\u001B[0;34m]\u001B[0m\u001B[0;34m,\u001B[0m \u001B[0;34m[\u001B[0m\u001B[0mfunc\u001B[0m\u001B[0;34m(\u001B[0m\u001B[0;34m*\u001B[0m\u001B[0mx\u001B[0m\u001B[0;34m)\u001B[0m \u001B[0;32mfor\u001B[0m \u001B[0mx\u001B[0m \u001B[0;32min\u001B[0m \u001B[0mentries\u001B[0m\u001B[0;34m]\u001B[0m\u001B[0;34m,\u001B[0m\u001B[0;34m\u001B[0m\u001B[0;34m\u001B[0m\u001B[0m\n\u001B[0m\u001B[1;32m    660\u001B[0m       expand_composites=expand_composites)\n\u001B[1;32m    661\u001B[0m \u001B[0;34m\u001B[0m\u001B[0m\n",
      "\u001B[0;32m~/anaconda3/envs/colab/lib/python3.7/site-packages/tensorflow/python/util/nest.py\u001B[0m in \u001B[0;36m<listcomp>\u001B[0;34m(.0)\u001B[0m\n\u001B[1;32m    657\u001B[0m \u001B[0;34m\u001B[0m\u001B[0m\n\u001B[1;32m    658\u001B[0m   return pack_sequence_as(\n\u001B[0;32m--> 659\u001B[0;31m       \u001B[0mstructure\u001B[0m\u001B[0;34m[\u001B[0m\u001B[0;36m0\u001B[0m\u001B[0;34m]\u001B[0m\u001B[0;34m,\u001B[0m \u001B[0;34m[\u001B[0m\u001B[0mfunc\u001B[0m\u001B[0;34m(\u001B[0m\u001B[0;34m*\u001B[0m\u001B[0mx\u001B[0m\u001B[0;34m)\u001B[0m \u001B[0;32mfor\u001B[0m \u001B[0mx\u001B[0m \u001B[0;32min\u001B[0m \u001B[0mentries\u001B[0m\u001B[0;34m]\u001B[0m\u001B[0;34m,\u001B[0m\u001B[0;34m\u001B[0m\u001B[0;34m\u001B[0m\u001B[0m\n\u001B[0m\u001B[1;32m    660\u001B[0m       expand_composites=expand_composites)\n\u001B[1;32m    661\u001B[0m \u001B[0;34m\u001B[0m\u001B[0m\n",
      "\u001B[0;32m~/anaconda3/envs/colab/lib/python3.7/site-packages/tensorflow/python/keras/utils/tf_utils.py\u001B[0m in \u001B[0;36m_to_single_numpy_or_python_type\u001B[0;34m(t)\u001B[0m\n\u001B[1;32m    508\u001B[0m   \u001B[0;32mdef\u001B[0m \u001B[0m_to_single_numpy_or_python_type\u001B[0m\u001B[0;34m(\u001B[0m\u001B[0mt\u001B[0m\u001B[0;34m)\u001B[0m\u001B[0;34m:\u001B[0m\u001B[0;34m\u001B[0m\u001B[0;34m\u001B[0m\u001B[0m\n\u001B[1;32m    509\u001B[0m     \u001B[0;32mif\u001B[0m \u001B[0misinstance\u001B[0m\u001B[0;34m(\u001B[0m\u001B[0mt\u001B[0m\u001B[0;34m,\u001B[0m \u001B[0mops\u001B[0m\u001B[0;34m.\u001B[0m\u001B[0mTensor\u001B[0m\u001B[0;34m)\u001B[0m\u001B[0;34m:\u001B[0m\u001B[0;34m\u001B[0m\u001B[0;34m\u001B[0m\u001B[0m\n\u001B[0;32m--> 510\u001B[0;31m       \u001B[0mx\u001B[0m \u001B[0;34m=\u001B[0m \u001B[0mt\u001B[0m\u001B[0;34m.\u001B[0m\u001B[0mnumpy\u001B[0m\u001B[0;34m(\u001B[0m\u001B[0;34m)\u001B[0m\u001B[0;34m\u001B[0m\u001B[0;34m\u001B[0m\u001B[0m\n\u001B[0m\u001B[1;32m    511\u001B[0m       \u001B[0;32mreturn\u001B[0m \u001B[0mx\u001B[0m\u001B[0;34m.\u001B[0m\u001B[0mitem\u001B[0m\u001B[0;34m(\u001B[0m\u001B[0;34m)\u001B[0m \u001B[0;32mif\u001B[0m \u001B[0mnp\u001B[0m\u001B[0;34m.\u001B[0m\u001B[0mndim\u001B[0m\u001B[0;34m(\u001B[0m\u001B[0mx\u001B[0m\u001B[0;34m)\u001B[0m \u001B[0;34m==\u001B[0m \u001B[0;36m0\u001B[0m \u001B[0;32melse\u001B[0m \u001B[0mx\u001B[0m\u001B[0;34m\u001B[0m\u001B[0;34m\u001B[0m\u001B[0m\n\u001B[1;32m    512\u001B[0m     \u001B[0;32mreturn\u001B[0m \u001B[0mt\u001B[0m  \u001B[0;31m# Don't turn ragged or sparse tensors to NumPy.\u001B[0m\u001B[0;34m\u001B[0m\u001B[0;34m\u001B[0m\u001B[0m\n",
      "\u001B[0;32m~/anaconda3/envs/colab/lib/python3.7/site-packages/tensorflow/python/framework/ops.py\u001B[0m in \u001B[0;36mnumpy\u001B[0;34m(self)\u001B[0m\n\u001B[1;32m   1069\u001B[0m     \"\"\"\n\u001B[1;32m   1070\u001B[0m     \u001B[0;31m# TODO(slebedev): Consider avoiding a copy for non-CPU or remote tensors.\u001B[0m\u001B[0;34m\u001B[0m\u001B[0;34m\u001B[0m\u001B[0;34m\u001B[0m\u001B[0m\n\u001B[0;32m-> 1071\u001B[0;31m     \u001B[0mmaybe_arr\u001B[0m \u001B[0;34m=\u001B[0m \u001B[0mself\u001B[0m\u001B[0;34m.\u001B[0m\u001B[0m_numpy\u001B[0m\u001B[0;34m(\u001B[0m\u001B[0;34m)\u001B[0m  \u001B[0;31m# pylint: disable=protected-access\u001B[0m\u001B[0;34m\u001B[0m\u001B[0;34m\u001B[0m\u001B[0m\n\u001B[0m\u001B[1;32m   1072\u001B[0m     \u001B[0;32mreturn\u001B[0m \u001B[0mmaybe_arr\u001B[0m\u001B[0;34m.\u001B[0m\u001B[0mcopy\u001B[0m\u001B[0;34m(\u001B[0m\u001B[0;34m)\u001B[0m \u001B[0;32mif\u001B[0m \u001B[0misinstance\u001B[0m\u001B[0;34m(\u001B[0m\u001B[0mmaybe_arr\u001B[0m\u001B[0;34m,\u001B[0m \u001B[0mnp\u001B[0m\u001B[0;34m.\u001B[0m\u001B[0mndarray\u001B[0m\u001B[0;34m)\u001B[0m \u001B[0;32melse\u001B[0m \u001B[0mmaybe_arr\u001B[0m\u001B[0;34m\u001B[0m\u001B[0;34m\u001B[0m\u001B[0m\n\u001B[1;32m   1073\u001B[0m \u001B[0;34m\u001B[0m\u001B[0m\n",
      "\u001B[0;32m~/anaconda3/envs/colab/lib/python3.7/site-packages/tensorflow/python/framework/ops.py\u001B[0m in \u001B[0;36m_numpy\u001B[0;34m(self)\u001B[0m\n\u001B[1;32m   1035\u001B[0m   \u001B[0;32mdef\u001B[0m \u001B[0m_numpy\u001B[0m\u001B[0;34m(\u001B[0m\u001B[0mself\u001B[0m\u001B[0;34m)\u001B[0m\u001B[0;34m:\u001B[0m\u001B[0;34m\u001B[0m\u001B[0;34m\u001B[0m\u001B[0m\n\u001B[1;32m   1036\u001B[0m     \u001B[0;32mtry\u001B[0m\u001B[0;34m:\u001B[0m\u001B[0;34m\u001B[0m\u001B[0;34m\u001B[0m\u001B[0m\n\u001B[0;32m-> 1037\u001B[0;31m       \u001B[0;32mreturn\u001B[0m \u001B[0mself\u001B[0m\u001B[0;34m.\u001B[0m\u001B[0m_numpy_internal\u001B[0m\u001B[0;34m(\u001B[0m\u001B[0;34m)\u001B[0m\u001B[0;34m\u001B[0m\u001B[0;34m\u001B[0m\u001B[0m\n\u001B[0m\u001B[1;32m   1038\u001B[0m     \u001B[0;32mexcept\u001B[0m \u001B[0mcore\u001B[0m\u001B[0;34m.\u001B[0m\u001B[0m_NotOkStatusException\u001B[0m \u001B[0;32mas\u001B[0m \u001B[0me\u001B[0m\u001B[0;34m:\u001B[0m  \u001B[0;31m# pylint: disable=protected-access\u001B[0m\u001B[0;34m\u001B[0m\u001B[0;34m\u001B[0m\u001B[0m\n\u001B[1;32m   1039\u001B[0m       \u001B[0msix\u001B[0m\u001B[0;34m.\u001B[0m\u001B[0mraise_from\u001B[0m\u001B[0;34m(\u001B[0m\u001B[0mcore\u001B[0m\u001B[0;34m.\u001B[0m\u001B[0m_status_to_exception\u001B[0m\u001B[0;34m(\u001B[0m\u001B[0me\u001B[0m\u001B[0;34m.\u001B[0m\u001B[0mcode\u001B[0m\u001B[0;34m,\u001B[0m \u001B[0me\u001B[0m\u001B[0;34m.\u001B[0m\u001B[0mmessage\u001B[0m\u001B[0;34m)\u001B[0m\u001B[0;34m,\u001B[0m \u001B[0;32mNone\u001B[0m\u001B[0;34m)\u001B[0m  \u001B[0;31m# pylint: disable=protected-access\u001B[0m\u001B[0;34m\u001B[0m\u001B[0;34m\u001B[0m\u001B[0m\n",
      "\u001B[0;31mKeyboardInterrupt\u001B[0m: "
     ]
    }
   ],
   "source": [
    "optimizer_scheduler_callback = tf.keras.callbacks.LearningRateScheduler(\n",
    "    lambda epoch: 1e-4\n",
    ")\n",
    "\n",
    "history = model.fit(\n",
    "    train_data_batched,\n",
    "    validation_data=validation_data_batched,\n",
    "    epochs=100,\n",
    "    callbacks=[tensorboard_callback, cp_callback, optimizer_scheduler_callback],\n",
    ")"
   ]
  },
  {
   "cell_type": "code",
   "execution_count": null,
   "metadata": {
    "id": "ZBbP_oyZx1WV"
   },
   "outputs": [],
   "source": [
    "latest = tf.train.latest_checkpoint(checkpoint_dir)\n",
    "latest"
   ]
  },
  {
   "cell_type": "code",
   "execution_count": null,
   "metadata": {
    "id": "QuN9fXpex1WV"
   },
   "outputs": [],
   "source": [
    "model = create_model()\n",
    "model.load_weights(latest)"
   ]
  },
  {
   "cell_type": "code",
   "execution_count": null,
   "outputs": [],
   "source": [
    "model.predict(validation_data_batched.take(1))"
   ],
   "metadata": {
    "collapsed": false
   }
  },
  {
   "cell_type": "code",
   "execution_count": 52,
   "outputs": [],
   "source": [
    "PREDICT_KEYS = [ord('P'), ord('X')] + keys\n",
    "\n",
    "\n",
    "def reverse_preprocess_text(prediction):\n",
    "    vectorized = tf.argmax(prediction, axis=1)\n",
    "    tokenized = tf.map_fn(lambda e: PREDICT_KEYS[e], vectorized)\n",
    "    tokenized = tf.cast(tokenized, tf.int32)\n",
    "    return tokenizer.detokenize(tokenized)"
   ],
   "metadata": {
    "collapsed": false
   }
  },
  {
   "cell_type": "code",
   "execution_count": 53,
   "outputs": [],
   "source": [
    "# prediction = model.predict(train_data_batched.take(1))\n",
    "# [reverse_preprocess_text(p).numpy() for p in prediction]\n",
    "\n",
    "def visualize_prediction(batched_data, t):\n",
    "    for batch in batched_data.take(t):\n",
    "        (inputs, targets) = batch\n",
    "        predicts = model.predict_on_batch(inputs)\n",
    "        lines = zip(inputs, targets, predicts)\n",
    "        for line in lines:\n",
    "            print(reverse_preprocess_text(line[0]).numpy(), reverse_preprocess_text(line[1]).numpy(),\n",
    "                  reverse_preprocess_text(line[2]).numpy())"
   ],
   "metadata": {
    "collapsed": false
   }
  },
  {
   "cell_type": "code",
   "execution_count": 54,
   "outputs": [
    {
     "name": "stdout",
     "output_type": "stream",
     "text": [
      "b'29*41+77+31+6       ' b'1189+77+31+6        ' b'PP2P+77+31+6        '\n",
      "b'1189+77+31+6        ' b'1266+31+6           ' b'1PPP+31+P           '\n",
      "b'1266+31+6           ' b'1297+6              ' b'12PP+6              '\n",
      "b'1297+6              ' b'1303                ' b'129P                '\n",
      "b'69*74*91+0*80       ' b'5106*91+0*80        ' b'PP2P*91+0*80        '\n",
      "b'5106*91+0*80        ' b'464646+0*80         ' b'P5PP00+1*80         '\n",
      "b'464646+0*80         ' b'464646+0            ' b'4646P0+000          '\n",
      "b'464646+0            ' b'464646              ' b'4646PP              '\n",
      "b'63+8*77*53*74       ' b'63+616*53*74        ' b'63+PPP*33*74        '\n",
      "b'63+616*53*74        ' b'63+32648*74         ' b'63+1PPP0*74         '\n",
      "b'63+32648*74         ' b'63+2415952          ' b'63+2PPPPP0          '\n",
      "b'63+2415952          ' b'2416015             ' b'2PPPPPP             '\n",
      "b'6*24*58+83+49       ' b'144*58+83+49        ' b'PPP*PP+83+49        '\n",
      "b'144*58+83+49        ' b'8352+83+49          ' b'PPPP0P83+49         '\n",
      "b'8352+83+49          ' b'8435+49             ' b'8PPP+49             '\n",
      "b'8435+49             ' b'8484                ' b'84PP                '\n",
      "b'78+90+36+25+17      ' b'168+36+25+17        ' b'18P+30+2+PPPP       '\n",
      "b'168+36+25+17        ' b'204+25+17           ' b'1PP+25+1P           '\n",
      "b'204+25+17           ' b'229+17              ' b'2PP+17              '\n",
      "b'229+17              ' b'246                 ' b'2PPP                '\n",
      "b'81*86+70+4+22       ' b'6966+70+4+22        ' b'PP4P+70+4+22        '\n",
      "b'6966+70+4+22        ' b'7036+4+22           ' b'6PP6+4+2P           '\n",
      "b'7036+4+22           ' b'7040+22             ' b'70PP+2              '\n",
      "b'7040+22             ' b'7062                ' b'704P                '\n",
      "b'83*38*68+95+48      ' b'3154*68+95+48       ' b'PP2P*68+95+48       '\n",
      "b'3154*68+95+48       ' b'214472+95+48        ' b'PPPPP0+95+48        '\n",
      "b'214472+95+48        ' b'214567+48           ' b'214PPP+4P           '\n",
      "b'214567+48           ' b'214615              ' b'214PPP              '\n",
      "b'90+82*60+59*86      ' b'90+4920+59*86       ' b'90+5P00+59*86       '\n",
      "b'90+4920+59*86       ' b'90+4920+5074        ' b'90+4PPP+PPPP        '\n",
      "b'90+4920+5074        ' b'5010+5074           ' b'4P5P+5070           '\n",
      "b'5010+5074           ' b'10084               ' b'PPP0                '\n"
     ]
    }
   ],
   "source": [
    "visualize_prediction(train_data_batched, 1)"
   ],
   "metadata": {
    "collapsed": false
   }
  },
  {
   "cell_type": "code",
   "execution_count": 55,
   "outputs": [
    {
     "name": "stdout",
     "output_type": "stream",
     "text": [
      "b'63*50*56*83+65      ' b'3150*56*83+65       ' b'PP00*56*83+65       '\n",
      "b'3150*56*83+65       ' b'176400*83+65        ' b'P5PP00*83+65        '\n",
      "b'176400*83+65        ' b'14641200+65         ' b'P5610000+6          '\n",
      "b'14641200+65         ' b'14641265            ' b'1464PPP-            '\n",
      "b'30+26+60+15+86      ' b'56+60+15+86         ' b'PP+P6++5+PP P       '\n",
      "b'56+60+15+86         ' b'116+15+86           ' b'1PP+15+8            '\n",
      "b'116+15+86           ' b'131+86              ' b'1PP+86              '\n",
      "b'131+86              ' b'217                 ' b'2PPP                '\n",
      "b'16+18+78*33+91      ' b'16+18+2574+91       ' b'16+18+PPPP991       '\n",
      "b'16+18+2574+91       ' b'34+2574+91          ' b'PP+P57PP+P          '\n",
      "b'34+2574+91          ' b'2608+91             ' b'2PPP+91             '\n",
      "b'2608+91             ' b'2699                ' b'26PP                '\n",
      "b'7+18*61*51+15       ' b'7+1098*51+15        ' b'7+PPPP*51+15        '\n",
      "b'7+1098*51+15        ' b'7+55998+15          ' b'7+1PPPP0+15         '\n",
      "b'7+55998+15          ' b'56005+15            ' b'12PPPPPP            '\n",
      "b'56005+15            ' b'56020               ' b'560PP               '\n",
      "b'54+49+59*55*22      ' b'54+49+3245*22       ' b'54+4P+PP55*22       '\n",
      "b'54+49+3245*22       ' b'54+49+71390         ' b'54+4P+PPPPP         '\n",
      "b'54+49+71390         ' b'103+71390           ' b'1PP+73P0            '\n",
      "b'103+71390           ' b'71493               ' b'PPPP                '\n",
      "b'74+4+54*73*68       ' b'74+4+3942*68        ' b'74+4+PPP**68        '\n",
      "b'74+4+3942*68        ' b'74+4+268056         ' b'74+4+PPPPP0         '\n",
      "b'74+4+268056         ' b'78+268056           ' b'7P+P6PPP            '\n",
      "b'78+268056           ' b'268134              ' b'2PPPPP              '\n",
      "b'51+43*96+56+23      ' b'51+4128+56+23       ' b'51+PPPP+56+23       '\n",
      "b'51+4128+56+23       ' b'4179+56+23          ' b'1PPP+56+PP          '\n",
      "b'4179+56+23          ' b'4235+23             ' b'4PPP+23             '\n",
      "b'4235+23             ' b'4258                ' b'42PP                '\n",
      "b'38+1*72*46*56       ' b'38+72*46*56         ' b'38+PP0*49*56        '\n",
      "b'38+72*46*56         ' b'38+3312*56          ' b'38+2PPP*56          '\n",
      "b'38+3312*56          ' b'38+185472           ' b'38+1PPPPP           '\n",
      "b'38+185472           ' b'185510              ' b'1PPPPP              '\n"
     ]
    }
   ],
   "source": [
    "visualize_prediction(validation_data_batched, 1)"
   ],
   "metadata": {
    "collapsed": false
   }
  },
  {
   "cell_type": "code",
   "execution_count": 56,
   "outputs": [
    {
     "name": "stdout",
     "output_type": "stream",
     "text": [
      "b'50+23+72+85*11      ' b'50+23+72+935        ' b'50+2P+PP+PPPP       '\n",
      "b'50+23+72+935        ' b'73+72+935           ' b'1P+P7+P3P           '\n",
      "b'73+72+935           ' b'145+935             ' b'1PP+9P              '\n",
      "b'145+935             ' b'1080                ' b'PPPP                '\n",
      "b'41*53+11*98*11      ' b'2173+11*98*11       ' b'PP5P+11*98*11       '\n",
      "b'2173+11*98*11       ' b'2173+1078*11        ' b'2173+PPP**1         '\n",
      "b'2173+1078*11        ' b'2173+11858          ' b'2173+PP0PP          '\n",
      "b'2173+11858          ' b'14031               ' b'PPPPP               '\n",
      "b'84+19+60+94+84      ' b'103+60+94+84        ' b'1P++60+9+PP P       '\n",
      "b'103+60+94+84        ' b'163+94+84           ' b'1P3+94+8P           '\n",
      "b'163+94+84           ' b'257+84              ' b'2PP+84              '\n",
      "b'257+84              ' b'341                 ' b'2PPP                '\n",
      "b'43+85+23+38*71      ' b'43+85+23+2698       ' b'43+85+PP+PPPP       '\n",
      "b'43+85+23+2698       ' b'128+23+2698         ' b'1PP+2P+2PP          '\n",
      "b'128+23+2698         ' b'151+2698            ' b'1PP+2668            '\n",
      "b'151+2698            ' b'2849                ' b'PPPP                '\n",
      "b'78*66*87*65+16      ' b'5148*87*65+16       ' b'PP2P*87*65+16       '\n",
      "b'5148*87*65+16       ' b'447876*65+16        ' b'PPPPP0*65+16        '\n",
      "b'447876*65+16        ' b'29111940+16         ' b'P518PPP0+16         '\n",
      "b'29111940+16         ' b'29111956            ' b'P911PPP-            '\n",
      "b'98*80+18*14*97      ' b'7840+18*14*97       ' b'PP40+18*14*97       '\n",
      "b'7840+18*14*97       ' b'7840+252*97         ' b'7840+PPP*99         '\n",
      "b'7840+252*97         ' b'7840+24444          ' b'7840+PPPPP          '\n",
      "b'7840+24444          ' b'32284               ' b'PPPPP               '\n",
      "b'55*51*56*10+91      ' b'2805*56*10+91       ' b'PP50*56*10+91       '\n",
      "b'2805*56*10+91       ' b'157080*10+91        ' b'P PP00*1++91        '\n",
      "b'157080*10+91        ' b'1570800+91          ' b'P57PP000+9          '\n",
      "b'1570800+91          ' b'1570891             ' b'1570P91             '\n",
      "b'99*86+31*54*93      ' b'8514+31*54*93       ' b'PP4P+31*54*93       '\n",
      "b'8514+31*54*93       ' b'8514+1674*93        ' b'8514+PPP0*93        '\n",
      "b'8514+1674*93        ' b'8514+155682         ' b'8514+PPPPP0         '\n",
      "b'8514+155682         ' b'164196              ' b'P5PPPP              '\n"
     ]
    }
   ],
   "source": [
    "visualize_prediction(test_data_batched, 1)"
   ],
   "metadata": {
    "collapsed": false
   }
  }
 ],
 "metadata": {
  "accelerator": "GPU",
  "colab": {
   "collapsed_sections": [],
   "provenance": []
  },
  "gpuClass": "premium",
  "kernelspec": {
   "display_name": "Python 3",
   "name": "python3"
  },
  "language_info": {
   "name": "python"
  }
 },
 "nbformat": 4,
 "nbformat_minor": 0
}
