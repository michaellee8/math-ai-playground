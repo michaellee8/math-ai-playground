{
  "cells": [
    {
      "cell_type": "markdown",
      "metadata": {
        "id": "0D05WkvbNyKV"
      },
      "source": [
        "# Math AI Playground\n",
        "\n",
        "- Evaluate numeric-only math expression step by step.\n",
        "- Expression length cannot be more than 20 characters.\n",
        "- Support `*` and `+` only, `-` and `()` support will be attempted later. Intended for the neural network to learn the rules of mathematics.\n",
        "- Support integers only.\n",
        "\n",
        "Character encoding:\n",
        "\n",
        "| Character | Token    |\n",
        "|-----------|----------|\n",
        "| 0         | 0        |\n",
        "| 1         | 1        |\n",
        "| 2         | 2        |\n",
        "| 3         | 3        |\n",
        "| 4         | 4        |\n",
        "| 5         | 5        |\n",
        "| 6         | 6        |\n",
        "| 7         | 7        |\n",
        "| 8         | 8        |\n",
        "| 9         | 9        |\n",
        "| *         | 10       |\n",
        "| +         | 11       |\n",
        "| -         | 12       |\n",
        "|  (space)  | 13       |"
      ]
    },
    {
      "cell_type": "code",
      "source": [
        "!nvidia-smi"
      ],
      "metadata": {
        "id": "caLn05iEArd1",
        "colab": {
          "base_uri": "https://localhost:8080/"
        },
        "outputId": "d4340781-e768-439a-9291-02daf62477c2"
      },
      "execution_count": 2,
      "outputs": [
        {
          "output_type": "stream",
          "name": "stdout",
          "text": [
            "Fri Oct 21 05:30:09 2022       \n",
            "+-----------------------------------------------------------------------------+\n",
            "| NVIDIA-SMI 460.32.03    Driver Version: 460.32.03    CUDA Version: 11.2     |\n",
            "|-------------------------------+----------------------+----------------------+\n",
            "| GPU  Name        Persistence-M| Bus-Id        Disp.A | Volatile Uncorr. ECC |\n",
            "| Fan  Temp  Perf  Pwr:Usage/Cap|         Memory-Usage | GPU-Util  Compute M. |\n",
            "|                               |                      |               MIG M. |\n",
            "|===============================+======================+======================|\n",
            "|   0  A100-SXM4-40GB      Off  | 00000000:00:04.0 Off |                    0 |\n",
            "| N/A   28C    P0    42W / 400W |      0MiB / 40536MiB |      0%      Default |\n",
            "|                               |                      |             Disabled |\n",
            "+-------------------------------+----------------------+----------------------+\n",
            "                                                                               \n",
            "+-----------------------------------------------------------------------------+\n",
            "| Processes:                                                                  |\n",
            "|  GPU   GI   CI        PID   Type   Process name                  GPU Memory |\n",
            "|        ID   ID                                                   Usage      |\n",
            "|=============================================================================|\n",
            "|  No running processes found                                                 |\n",
            "+-----------------------------------------------------------------------------+\n"
          ]
        }
      ]
    },
    {
      "cell_type": "code",
      "execution_count": 3,
      "metadata": {
        "colab": {
          "base_uri": "https://localhost:8080/"
        },
        "id": "ffiWIF8QyNqv",
        "outputId": "ae84e2a0-f6e2-4cb1-d8d8-e0743233d3aa"
      },
      "outputs": [
        {
          "output_type": "stream",
          "name": "stdout",
          "text": [
            "Looking in indexes: https://pypi.org/simple, https://us-python.pkg.dev/colab-wheels/public/simple/\n",
            "Collecting tensorflow-text==2.9.0\n",
            "  Downloading tensorflow_text-2.9.0-cp37-cp37m-manylinux_2_17_x86_64.manylinux2014_x86_64.whl (4.6 MB)\n",
            "\u001b[K     |████████████████████████████████| 4.6 MB 4.8 MB/s \n",
            "\u001b[?25hRequirement already satisfied: tensorflow-hub>=0.8.0 in /usr/local/lib/python3.7/dist-packages (from tensorflow-text==2.9.0) (0.12.0)\n",
            "Requirement already satisfied: tensorflow<2.10,>=2.9.0 in /usr/local/lib/python3.7/dist-packages (from tensorflow-text==2.9.0) (2.9.2)\n",
            "Requirement already satisfied: keras<2.10.0,>=2.9.0rc0 in /usr/local/lib/python3.7/dist-packages (from tensorflow<2.10,>=2.9.0->tensorflow-text==2.9.0) (2.9.0)\n",
            "Requirement already satisfied: h5py>=2.9.0 in /usr/local/lib/python3.7/dist-packages (from tensorflow<2.10,>=2.9.0->tensorflow-text==2.9.0) (3.1.0)\n",
            "Requirement already satisfied: packaging in /usr/local/lib/python3.7/dist-packages (from tensorflow<2.10,>=2.9.0->tensorflow-text==2.9.0) (21.3)\n",
            "Requirement already satisfied: typing-extensions>=3.6.6 in /usr/local/lib/python3.7/dist-packages (from tensorflow<2.10,>=2.9.0->tensorflow-text==2.9.0) (4.1.1)\n",
            "Requirement already satisfied: opt-einsum>=2.3.2 in /usr/local/lib/python3.7/dist-packages (from tensorflow<2.10,>=2.9.0->tensorflow-text==2.9.0) (3.3.0)\n",
            "Requirement already satisfied: grpcio<2.0,>=1.24.3 in /usr/local/lib/python3.7/dist-packages (from tensorflow<2.10,>=2.9.0->tensorflow-text==2.9.0) (1.49.1)\n",
            "Requirement already satisfied: astunparse>=1.6.0 in /usr/local/lib/python3.7/dist-packages (from tensorflow<2.10,>=2.9.0->tensorflow-text==2.9.0) (1.6.3)\n",
            "Requirement already satisfied: termcolor>=1.1.0 in /usr/local/lib/python3.7/dist-packages (from tensorflow<2.10,>=2.9.0->tensorflow-text==2.9.0) (2.0.1)\n",
            "Requirement already satisfied: gast<=0.4.0,>=0.2.1 in /usr/local/lib/python3.7/dist-packages (from tensorflow<2.10,>=2.9.0->tensorflow-text==2.9.0) (0.4.0)\n",
            "Requirement already satisfied: tensorflow-io-gcs-filesystem>=0.23.1 in /usr/local/lib/python3.7/dist-packages (from tensorflow<2.10,>=2.9.0->tensorflow-text==2.9.0) (0.27.0)\n",
            "Requirement already satisfied: numpy>=1.20 in /usr/local/lib/python3.7/dist-packages (from tensorflow<2.10,>=2.9.0->tensorflow-text==2.9.0) (1.21.6)\n",
            "Requirement already satisfied: keras-preprocessing>=1.1.1 in /usr/local/lib/python3.7/dist-packages (from tensorflow<2.10,>=2.9.0->tensorflow-text==2.9.0) (1.1.2)\n",
            "Requirement already satisfied: absl-py>=1.0.0 in /usr/local/lib/python3.7/dist-packages (from tensorflow<2.10,>=2.9.0->tensorflow-text==2.9.0) (1.3.0)\n",
            "Requirement already satisfied: setuptools in /usr/local/lib/python3.7/dist-packages (from tensorflow<2.10,>=2.9.0->tensorflow-text==2.9.0) (57.4.0)\n",
            "Requirement already satisfied: flatbuffers<2,>=1.12 in /usr/local/lib/python3.7/dist-packages (from tensorflow<2.10,>=2.9.0->tensorflow-text==2.9.0) (1.12)\n",
            "Requirement already satisfied: wrapt>=1.11.0 in /usr/local/lib/python3.7/dist-packages (from tensorflow<2.10,>=2.9.0->tensorflow-text==2.9.0) (1.14.1)\n",
            "Requirement already satisfied: google-pasta>=0.1.1 in /usr/local/lib/python3.7/dist-packages (from tensorflow<2.10,>=2.9.0->tensorflow-text==2.9.0) (0.2.0)\n",
            "Requirement already satisfied: six>=1.12.0 in /usr/local/lib/python3.7/dist-packages (from tensorflow<2.10,>=2.9.0->tensorflow-text==2.9.0) (1.15.0)\n",
            "Requirement already satisfied: protobuf<3.20,>=3.9.2 in /usr/local/lib/python3.7/dist-packages (from tensorflow<2.10,>=2.9.0->tensorflow-text==2.9.0) (3.17.3)\n",
            "Requirement already satisfied: libclang>=13.0.0 in /usr/local/lib/python3.7/dist-packages (from tensorflow<2.10,>=2.9.0->tensorflow-text==2.9.0) (14.0.6)\n",
            "Requirement already satisfied: tensorboard<2.10,>=2.9 in /usr/local/lib/python3.7/dist-packages (from tensorflow<2.10,>=2.9.0->tensorflow-text==2.9.0) (2.9.1)\n",
            "Requirement already satisfied: tensorflow-estimator<2.10.0,>=2.9.0rc0 in /usr/local/lib/python3.7/dist-packages (from tensorflow<2.10,>=2.9.0->tensorflow-text==2.9.0) (2.9.0)\n",
            "Requirement already satisfied: wheel<1.0,>=0.23.0 in /usr/local/lib/python3.7/dist-packages (from astunparse>=1.6.0->tensorflow<2.10,>=2.9.0->tensorflow-text==2.9.0) (0.37.1)\n",
            "Requirement already satisfied: cached-property in /usr/local/lib/python3.7/dist-packages (from h5py>=2.9.0->tensorflow<2.10,>=2.9.0->tensorflow-text==2.9.0) (1.5.2)\n",
            "Requirement already satisfied: requests<3,>=2.21.0 in /usr/local/lib/python3.7/dist-packages (from tensorboard<2.10,>=2.9->tensorflow<2.10,>=2.9.0->tensorflow-text==2.9.0) (2.23.0)\n",
            "Requirement already satisfied: google-auth-oauthlib<0.5,>=0.4.1 in /usr/local/lib/python3.7/dist-packages (from tensorboard<2.10,>=2.9->tensorflow<2.10,>=2.9.0->tensorflow-text==2.9.0) (0.4.6)\n",
            "Requirement already satisfied: werkzeug>=1.0.1 in /usr/local/lib/python3.7/dist-packages (from tensorboard<2.10,>=2.9->tensorflow<2.10,>=2.9.0->tensorflow-text==2.9.0) (1.0.1)\n",
            "Requirement already satisfied: tensorboard-data-server<0.7.0,>=0.6.0 in /usr/local/lib/python3.7/dist-packages (from tensorboard<2.10,>=2.9->tensorflow<2.10,>=2.9.0->tensorflow-text==2.9.0) (0.6.1)\n",
            "Requirement already satisfied: markdown>=2.6.8 in /usr/local/lib/python3.7/dist-packages (from tensorboard<2.10,>=2.9->tensorflow<2.10,>=2.9.0->tensorflow-text==2.9.0) (3.4.1)\n",
            "Requirement already satisfied: google-auth<3,>=1.6.3 in /usr/local/lib/python3.7/dist-packages (from tensorboard<2.10,>=2.9->tensorflow<2.10,>=2.9.0->tensorflow-text==2.9.0) (1.35.0)\n",
            "Requirement already satisfied: tensorboard-plugin-wit>=1.6.0 in /usr/local/lib/python3.7/dist-packages (from tensorboard<2.10,>=2.9->tensorflow<2.10,>=2.9.0->tensorflow-text==2.9.0) (1.8.1)\n",
            "Requirement already satisfied: cachetools<5.0,>=2.0.0 in /usr/local/lib/python3.7/dist-packages (from google-auth<3,>=1.6.3->tensorboard<2.10,>=2.9->tensorflow<2.10,>=2.9.0->tensorflow-text==2.9.0) (4.2.4)\n",
            "Requirement already satisfied: pyasn1-modules>=0.2.1 in /usr/local/lib/python3.7/dist-packages (from google-auth<3,>=1.6.3->tensorboard<2.10,>=2.9->tensorflow<2.10,>=2.9.0->tensorflow-text==2.9.0) (0.2.8)\n",
            "Requirement already satisfied: rsa<5,>=3.1.4 in /usr/local/lib/python3.7/dist-packages (from google-auth<3,>=1.6.3->tensorboard<2.10,>=2.9->tensorflow<2.10,>=2.9.0->tensorflow-text==2.9.0) (4.9)\n",
            "Requirement already satisfied: requests-oauthlib>=0.7.0 in /usr/local/lib/python3.7/dist-packages (from google-auth-oauthlib<0.5,>=0.4.1->tensorboard<2.10,>=2.9->tensorflow<2.10,>=2.9.0->tensorflow-text==2.9.0) (1.3.1)\n",
            "Requirement already satisfied: importlib-metadata>=4.4 in /usr/local/lib/python3.7/dist-packages (from markdown>=2.6.8->tensorboard<2.10,>=2.9->tensorflow<2.10,>=2.9.0->tensorflow-text==2.9.0) (4.13.0)\n",
            "Requirement already satisfied: zipp>=0.5 in /usr/local/lib/python3.7/dist-packages (from importlib-metadata>=4.4->markdown>=2.6.8->tensorboard<2.10,>=2.9->tensorflow<2.10,>=2.9.0->tensorflow-text==2.9.0) (3.9.0)\n",
            "Requirement already satisfied: pyasn1<0.5.0,>=0.4.6 in /usr/local/lib/python3.7/dist-packages (from pyasn1-modules>=0.2.1->google-auth<3,>=1.6.3->tensorboard<2.10,>=2.9->tensorflow<2.10,>=2.9.0->tensorflow-text==2.9.0) (0.4.8)\n",
            "Requirement already satisfied: idna<3,>=2.5 in /usr/local/lib/python3.7/dist-packages (from requests<3,>=2.21.0->tensorboard<2.10,>=2.9->tensorflow<2.10,>=2.9.0->tensorflow-text==2.9.0) (2.10)\n",
            "Requirement already satisfied: urllib3!=1.25.0,!=1.25.1,<1.26,>=1.21.1 in /usr/local/lib/python3.7/dist-packages (from requests<3,>=2.21.0->tensorboard<2.10,>=2.9->tensorflow<2.10,>=2.9.0->tensorflow-text==2.9.0) (1.24.3)\n",
            "Requirement already satisfied: chardet<4,>=3.0.2 in /usr/local/lib/python3.7/dist-packages (from requests<3,>=2.21.0->tensorboard<2.10,>=2.9->tensorflow<2.10,>=2.9.0->tensorflow-text==2.9.0) (3.0.4)\n",
            "Requirement already satisfied: certifi>=2017.4.17 in /usr/local/lib/python3.7/dist-packages (from requests<3,>=2.21.0->tensorboard<2.10,>=2.9->tensorflow<2.10,>=2.9.0->tensorflow-text==2.9.0) (2022.9.24)\n",
            "Requirement already satisfied: oauthlib>=3.0.0 in /usr/local/lib/python3.7/dist-packages (from requests-oauthlib>=0.7.0->google-auth-oauthlib<0.5,>=0.4.1->tensorboard<2.10,>=2.9->tensorflow<2.10,>=2.9.0->tensorflow-text==2.9.0) (3.2.1)\n",
            "Requirement already satisfied: pyparsing!=3.0.5,>=2.0.2 in /usr/local/lib/python3.7/dist-packages (from packaging->tensorflow<2.10,>=2.9.0->tensorflow-text==2.9.0) (3.0.9)\n",
            "Installing collected packages: tensorflow-text\n",
            "Successfully installed tensorflow-text-2.9.0\n"
          ]
        }
      ],
      "source": [
        "!pip install tensorflow-text==2.9.0"
      ]
    },
    {
      "cell_type": "code",
      "execution_count": 4,
      "metadata": {
        "id": "3hbiwGEcllLk"
      },
      "outputs": [],
      "source": [
        "# Global imports\n",
        "\n",
        "from typing import List, Tuple\n",
        "\n",
        "import random\n",
        "import re\n",
        "\n",
        "\n",
        "import pandas as pd\n",
        "\n",
        "import tensorflow as tf\n",
        "import tensorflow_text as tf_text\n",
        "from tensorflow import keras\n",
        "from tensorflow.keras import layers, losses\n",
        "import numpy as np\n",
        "import datetime\n",
        "import os\n",
        "\n",
        "RANDOM_SEED = 1\n",
        "\n",
        "randomer = random.Random(RANDOM_SEED)"
      ]
    },
    {
      "cell_type": "code",
      "execution_count": 5,
      "metadata": {
        "colab": {
          "base_uri": "https://localhost:8080/"
        },
        "id": "Jj-pDB7wx1WL",
        "outputId": "d6d8da35-9497-46b2-8df9-6f85ef408ba0"
      },
      "outputs": [
        {
          "output_type": "execute_result",
          "data": {
            "text/plain": [
              "[PhysicalDevice(name='/physical_device:GPU:0', device_type='GPU')]"
            ]
          },
          "metadata": {},
          "execution_count": 5
        }
      ],
      "source": [
        "tf.config.list_physical_devices('GPU')"
      ]
    },
    {
      "cell_type": "code",
      "execution_count": 6,
      "metadata": {
        "colab": {
          "base_uri": "https://localhost:8080/"
        },
        "id": "SmHyuJtJnrh0",
        "outputId": "2deb95ee-5d2f-4215-9ca5-176ed73b9041"
      },
      "outputs": [
        {
          "output_type": "execute_result",
          "data": {
            "text/plain": [
              "{0: '0',\n",
              " 1: '1',\n",
              " 2: '2',\n",
              " 3: '3',\n",
              " 4: '4',\n",
              " 5: '5',\n",
              " 6: '6',\n",
              " 7: '7',\n",
              " 8: '8',\n",
              " 9: '9',\n",
              " 10: '*',\n",
              " 11: '+',\n",
              " 12: '-',\n",
              " 13: ' '}"
            ]
          },
          "metadata": {},
          "execution_count": 6
        }
      ],
      "source": [
        "CHAR_TOKEN_MAP = {\n",
        "    '0': 0,\n",
        "    '1': 1,\n",
        "    '2': 2,\n",
        "    '3': 3,\n",
        "    '4': 4,\n",
        "    '5': 5,\n",
        "    '6': 6,\n",
        "    '7': 7,\n",
        "    '8': 8,\n",
        "    '9': 9,\n",
        "    '*': 10,\n",
        "    '+': 11,\n",
        "    '-': 12,\n",
        "    ' ': 13\n",
        "}\n",
        "\n",
        "TOKEN_CHAR_MAP = {}\n",
        "\n",
        "for k, v in CHAR_TOKEN_MAP.items():\n",
        "    TOKEN_CHAR_MAP[v] = k\n",
        "\n",
        "TOKEN_CHAR_MAP"
      ]
    },
    {
      "cell_type": "code",
      "execution_count": 7,
      "metadata": {
        "colab": {
          "base_uri": "https://localhost:8080/"
        },
        "id": "zafWyxO5x1WN",
        "outputId": "aeb557a3-c3aa-4114-ad5f-ccfd4f1e1886"
      },
      "outputs": [
        {
          "output_type": "execute_result",
          "data": {
            "text/plain": [
              "['0', '1', '2', '3', '4', '5', '6', '7', '8', '9', '*', '+', '-', ' ']"
            ]
          },
          "metadata": {},
          "execution_count": 7
        }
      ],
      "source": [
        "CHAR_VOCAB = list(CHAR_TOKEN_MAP)\n",
        "CHAR_VOCAB"
      ]
    },
    {
      "cell_type": "markdown",
      "metadata": {
        "id": "NTl_rwTlialX"
      },
      "source": [
        "## Data generation"
      ]
    },
    {
      "cell_type": "code",
      "execution_count": 8,
      "metadata": {
        "colab": {
          "base_uri": "https://localhost:8080/"
        },
        "id": "dVsqBeNQNd9_",
        "outputId": "21be210b-e02d-4667-b408-f735a642a216"
      },
      "outputs": [
        {
          "output_type": "execute_result",
          "data": {
            "text/plain": [
              "['29*41+77+31+6       ',\n",
              " '1189+77+31+6        ',\n",
              " '1266+31+6           ',\n",
              " '1297+6              ',\n",
              " '1303                ']"
            ]
          },
          "metadata": {},
          "execution_count": 8
        }
      ],
      "source": [
        "DIGIT_CHARS = list('0123456789')\n",
        "OP_CHARS = list('*+')\n",
        "EXPRESSION_LENGTH = 20\n",
        "TOKEN_SPACE_SIZE = 16\n",
        "\n",
        "\n",
        "def generate_initial_expression(rand: random.Random) -> str:\n",
        "    initial_expression = [rand.choice(DIGIT_CHARS) if i % 3 < 2 else rand.choice(OP_CHARS) for i in range(14)]\n",
        "    if initial_expression[0] == '0':\n",
        "        initial_expression = initial_expression[1:]\n",
        "    initial_expression = re.sub(\"([\\*\\+\\-])0\", lambda mo: mo.group(1), ''.join(initial_expression))\n",
        "\n",
        "    return initial_expression\n",
        "\n",
        "\n",
        "# Evaluate one step of the expression, return expression, False if no further\n",
        "# steps can be made anymore.\n",
        "def progress_expression_step(expression: str) -> Tuple[str, bool]:\n",
        "    op = ''\n",
        "    op_idx = -1\n",
        "\n",
        "    if '*' in expression:\n",
        "        # Multiplication takes precendence\n",
        "        op = '*'\n",
        "        op_idx = expression.find('*')\n",
        "    else:\n",
        "        m = re.search('\\+', expression)\n",
        "        if m is not None:\n",
        "            op = expression[m.start()]\n",
        "            op_idx = m.start()\n",
        "\n",
        "    if op == ' ' or op_idx == -1:\n",
        "        return expression, False\n",
        "\n",
        "    start_idx = op_idx - 1\n",
        "    end_idx = op_idx + 1\n",
        "\n",
        "    while start_idx - 1 >= 0 and expression[start_idx - 1] not in OP_CHARS:\n",
        "        start_idx -= 1\n",
        "\n",
        "    while end_idx + 1 < len(expression) and expression[end_idx + 1] not in OP_CHARS:\n",
        "        end_idx += 1\n",
        "\n",
        "    num1 = int(expression[start_idx:op_idx])\n",
        "    num2 = int(expression[op_idx + 1:end_idx + 1])\n",
        "\n",
        "    calc_result = 0\n",
        "\n",
        "    if op == '*':\n",
        "        calc_result = num1 * num2\n",
        "    elif op == '+':\n",
        "        calc_result = num1 + num2\n",
        "    elif op == '-':\n",
        "        calc_result = num1 - num2\n",
        "\n",
        "    before_result = expression[:start_idx]\n",
        "    after_result = expression[end_idx + 1:]\n",
        "\n",
        "    if len(before_result) > 0 and calc_result < 0:\n",
        "        if before_result[-1] == '-':\n",
        "            before_result[-1] = '+'\n",
        "        elif before_result[-1] == '+':\n",
        "            before_result[-1] = '-'\n",
        "\n",
        "    calc_result = abs(calc_result)\n",
        "\n",
        "    return before_result + str(calc_result) + after_result, True\n",
        "\n",
        "\n",
        "def generate_expression_with_steps(rand: random.Random) -> List[str]:\n",
        "    initial_expression = generate_initial_expression(rand)\n",
        "    ret = [initial_expression]\n",
        "    while True:\n",
        "        exp, has_further = progress_expression_step(ret[-1])\n",
        "        if not has_further:\n",
        "            break\n",
        "        ret.append(exp)\n",
        "    if int(eval(initial_expression)) != int(ret[-1]):\n",
        "        raise ValueError(\"internal logic error, value evaluation is incorrect\")\n",
        "    return [l.ljust(20) for l in ret]\n",
        "\n",
        "\n",
        "generate_expression_with_steps(randomer)"
      ]
    },
    {
      "cell_type": "code",
      "execution_count": 11,
      "metadata": {
        "id": "hYynsbAQL0Ud"
      },
      "outputs": [],
      "source": [
        "def regenerate_all_inputs():\n",
        "    rnd = random.Random(1)\n",
        "\n",
        "    from_expression_train_file = open('data/from_expression_train.txt', \"w\")\n",
        "    to_expression_train_file = open('data/to_expression_train.txt', \"w\")\n",
        "\n",
        "    for i in range(10 ** 6):\n",
        "        steps = generate_expression_with_steps(rnd)\n",
        "        for j in range(len(steps) - 1):\n",
        "            from_expression_train_file.write(steps[j] + \"\\n\")\n",
        "            to_expression_train_file.write(steps[j + 1] + \"\\n\")\n",
        "\n",
        "    from_expression_train_file.close()\n",
        "    to_expression_train_file.close()\n",
        "\n",
        "    from_expression_test_file = open('data/from_expression_test.txt', \"w\")\n",
        "    to_expression_test_file = open('data/to_expression_test.txt', \"w\")\n",
        "\n",
        "    for i in range(2 * 10 ** 5):\n",
        "        steps = generate_expression_with_steps(rnd)\n",
        "        for j in range(len(steps) - 1):\n",
        "            from_expression_test_file.write(steps[j] + \"\\n\")\n",
        "            to_expression_test_file.write(steps[j + 1] + \"\\n\")\n",
        "\n",
        "    from_expression_test_file.close()\n",
        "    to_expression_test_file.close()\n",
        "\n",
        "    from_expression_validation_file = open('data/from_expression_validation.txt', \"w\")\n",
        "    to_expression_validation_file = open('data/to_expression_validation.txt', \"w\")\n",
        "\n",
        "    for i in range(2 * 10 ** 5):\n",
        "        steps = generate_expression_with_steps(rnd)\n",
        "        for j in range(len(steps) - 1):\n",
        "            from_expression_validation_file.write(steps[j] + \"\\n\")\n",
        "            to_expression_validation_file.write(steps[j + 1] + \"\\n\")\n",
        "\n",
        "    from_expression_validation_file.close()\n",
        "    to_expression_validation_file.close()\n",
        "\n",
        "# regenerate_all_inputs()"
      ]
    },
    {
      "cell_type": "code",
      "execution_count": 12,
      "metadata": {
        "id": "7roAp9pnkMyX"
      },
      "outputs": [],
      "source": [
        "%load_ext tensorboard"
      ]
    },
    {
      "cell_type": "code",
      "execution_count": 13,
      "metadata": {
        "id": "dzZnhpXQx1WR"
      },
      "outputs": [],
      "source": [
        "# Good reference https://www.tensorflow.org/tutorials/load_data/text\n",
        "\n",
        "PADDED_VOCAB_SIZE = len(CHAR_VOCAB) + 2\n",
        "\n",
        "keys = [ord(c) for c in CHAR_VOCAB]\n",
        "values = range(2, len(CHAR_VOCAB) + 2)\n",
        "\n",
        "init = tf.lookup.KeyValueTensorInitializer(keys, values, key_dtype=tf.int64, value_dtype=tf.int64)\n",
        "\n",
        "num_oov_buckets = 1\n",
        "vocab_table = tf.lookup.StaticVocabularyTable(init, num_oov_buckets)"
      ]
    },
    {
      "cell_type": "code",
      "execution_count": 14,
      "metadata": {
        "id": "BKkwkuXax1WR"
      },
      "outputs": [],
      "source": [
        "from_expression_train_text_dataset = tf.data.TextLineDataset('data/from_expression_train.txt')\n",
        "to_expression_train_text_dataset = tf.data.TextLineDataset('data/to_expression_train.txt')\n",
        "from_expression_validation_text_dataset = tf.data.TextLineDataset('data/from_expression_validation.txt')\n",
        "to_expression_validation_text_dataset = tf.data.TextLineDataset('data/to_expression_validation.txt')\n",
        "from_expression_test_text_dataset = tf.data.TextLineDataset('data/from_expression_test.txt')\n",
        "to_expression_test_text_dataset = tf.data.TextLineDataset('data/to_expression_test.txt')"
      ]
    },
    {
      "cell_type": "code",
      "execution_count": 15,
      "metadata": {
        "colab": {
          "base_uri": "https://localhost:8080/"
        },
        "id": "jOP_tXKPx1WS",
        "outputId": "b60a81aa-a873-46e3-9bd6-8e0db3a9b368"
      },
      "outputs": [
        {
          "output_type": "stream",
          "name": "stdout",
          "text": [
            "Tokens:  tf.Tensor(50, shape=(), dtype=int32)\n"
          ]
        }
      ],
      "source": [
        "tokenizer = tf_text.UnicodeCharTokenizer()\n",
        "\n",
        "\n",
        "def tokenize(text):\n",
        "    return tokenizer.tokenize(text)\n",
        "\n",
        "\n",
        "tokenized_example_ds = from_expression_train_text_dataset.map(tokenize)\n",
        "\n",
        "for text_batch in tokenized_example_ds.take(1):\n",
        "    print(\"Tokens: \", text_batch[0])"
      ]
    },
    {
      "cell_type": "code",
      "execution_count": 16,
      "metadata": {
        "colab": {
          "base_uri": "https://localhost:8080/"
        },
        "id": "1NtoMngax1WS",
        "outputId": "569b02b1-d4fd-4ce7-bddf-3c0d07bd7b5a"
      },
      "outputs": [
        {
          "output_type": "execute_result",
          "data": {
            "text/plain": [
              "<tf.Tensor: shape=(20, 16), dtype=float32, numpy=\n",
              "array([[0., 0., 0., 0., 1., 0., 0., 0., 0., 0., 0., 0., 0., 0., 0., 0.],\n",
              "       [0., 0., 0., 0., 0., 0., 0., 0., 0., 0., 0., 1., 0., 0., 0., 0.],\n",
              "       [0., 0., 0., 0., 0., 0., 0., 0., 0., 0., 0., 0., 1., 0., 0., 0.],\n",
              "       [0., 0., 0., 0., 0., 0., 1., 0., 0., 0., 0., 0., 0., 0., 0., 0.],\n",
              "       [0., 0., 0., 1., 0., 0., 0., 0., 0., 0., 0., 0., 0., 0., 0., 0.],\n",
              "       [0., 0., 0., 0., 0., 0., 0., 0., 0., 0., 0., 0., 0., 1., 0., 0.],\n",
              "       [0., 0., 0., 0., 0., 0., 0., 0., 0., 1., 0., 0., 0., 0., 0., 0.],\n",
              "       [0., 0., 0., 0., 0., 0., 0., 0., 0., 1., 0., 0., 0., 0., 0., 0.],\n",
              "       [0., 0., 0., 0., 0., 0., 0., 0., 0., 0., 0., 0., 0., 1., 0., 0.],\n",
              "       [0., 0., 0., 0., 0., 1., 0., 0., 0., 0., 0., 0., 0., 0., 0., 0.],\n",
              "       [0., 0., 0., 1., 0., 0., 0., 0., 0., 0., 0., 0., 0., 0., 0., 0.],\n",
              "       [0., 0., 0., 0., 0., 0., 0., 0., 0., 0., 0., 0., 0., 1., 0., 0.],\n",
              "       [0., 0., 0., 0., 0., 0., 0., 0., 1., 0., 0., 0., 0., 0., 0., 0.],\n",
              "       [0., 0., 0., 0., 0., 0., 0., 0., 0., 0., 0., 0., 0., 0., 0., 1.],\n",
              "       [0., 0., 0., 0., 0., 0., 0., 0., 0., 0., 0., 0., 0., 0., 0., 1.],\n",
              "       [0., 0., 0., 0., 0., 0., 0., 0., 0., 0., 0., 0., 0., 0., 0., 1.],\n",
              "       [0., 0., 0., 0., 0., 0., 0., 0., 0., 0., 0., 0., 0., 0., 0., 1.],\n",
              "       [0., 0., 0., 0., 0., 0., 0., 0., 0., 0., 0., 0., 0., 0., 0., 1.],\n",
              "       [0., 0., 0., 0., 0., 0., 0., 0., 0., 0., 0., 0., 0., 0., 0., 1.],\n",
              "       [0., 0., 0., 0., 0., 0., 0., 0., 0., 0., 0., 0., 0., 0., 0., 1.]],\n",
              "      dtype=float32)>"
            ]
          },
          "metadata": {},
          "execution_count": 16
        }
      ],
      "source": [
        "# https://www.tensorflow.org/api_docs/python/tf/one_hot\n",
        "# https://stackoverflow.com/questions/41399481/how-do-you-decode-one-hot-labels-in-tensorflow\n",
        "\n",
        "def preprocess_text(text):\n",
        "    standardized = tf_text.case_fold_utf8(text)\n",
        "    tokenized = tokenizer.tokenize(standardized)\n",
        "    tokenized = tf.cast(tokenized, tf.int64)\n",
        "    vectorized = vocab_table.lookup(tokenized)\n",
        "    encoded = tf.one_hot(vectorized, PADDED_VOCAB_SIZE)\n",
        "    padded = tf.reshape(encoded, (20, 16))\n",
        "    return padded\n",
        "\n",
        "\n",
        "example_text = next(iter(from_expression_train_text_dataset))\n",
        "example_text.numpy()\n",
        "\n",
        "preprocess_text(example_text)\n"
      ]
    },
    {
      "cell_type": "code",
      "execution_count": 17,
      "metadata": {
        "id": "LRJ9YVs0x1WS"
      },
      "outputs": [],
      "source": [
        "from_expression_train_encoded = from_expression_train_text_dataset.map(preprocess_text)\n",
        "to_expression_train_encoded = to_expression_train_text_dataset.map(preprocess_text)\n",
        "from_expression_test_encoded = from_expression_test_text_dataset.map(preprocess_text)\n",
        "to_expression_test_encoded = to_expression_test_text_dataset.map(preprocess_text)\n",
        "from_expression_validation_encoded = from_expression_validation_text_dataset.map(preprocess_text)\n",
        "to_expression_validation_encoded = to_expression_validation_text_dataset.map(preprocess_text)"
      ]
    },
    {
      "cell_type": "code",
      "execution_count": 18,
      "metadata": {
        "colab": {
          "base_uri": "https://localhost:8080/"
        },
        "id": "WrdcZBafx1WT",
        "outputId": "c7011f16-23da-4152-af9c-4531ea5a8822"
      },
      "outputs": [
        {
          "output_type": "execute_result",
          "data": {
            "text/plain": [
              "<tf.Tensor: shape=(20, 16), dtype=float32, numpy=\n",
              "array([[0., 0., 0., 0., 1., 0., 0., 0., 0., 0., 0., 0., 0., 0., 0., 0.],\n",
              "       [0., 0., 0., 0., 0., 0., 0., 0., 0., 0., 0., 1., 0., 0., 0., 0.],\n",
              "       [0., 0., 0., 0., 0., 0., 0., 0., 0., 0., 0., 0., 1., 0., 0., 0.],\n",
              "       [0., 0., 0., 0., 0., 0., 1., 0., 0., 0., 0., 0., 0., 0., 0., 0.],\n",
              "       [0., 0., 0., 1., 0., 0., 0., 0., 0., 0., 0., 0., 0., 0., 0., 0.],\n",
              "       [0., 0., 0., 0., 0., 0., 0., 0., 0., 0., 0., 0., 0., 1., 0., 0.],\n",
              "       [0., 0., 0., 0., 0., 0., 0., 0., 0., 1., 0., 0., 0., 0., 0., 0.],\n",
              "       [0., 0., 0., 0., 0., 0., 0., 0., 0., 1., 0., 0., 0., 0., 0., 0.],\n",
              "       [0., 0., 0., 0., 0., 0., 0., 0., 0., 0., 0., 0., 0., 1., 0., 0.],\n",
              "       [0., 0., 0., 0., 0., 1., 0., 0., 0., 0., 0., 0., 0., 0., 0., 0.],\n",
              "       [0., 0., 0., 1., 0., 0., 0., 0., 0., 0., 0., 0., 0., 0., 0., 0.],\n",
              "       [0., 0., 0., 0., 0., 0., 0., 0., 0., 0., 0., 0., 0., 1., 0., 0.],\n",
              "       [0., 0., 0., 0., 0., 0., 0., 0., 1., 0., 0., 0., 0., 0., 0., 0.],\n",
              "       [0., 0., 0., 0., 0., 0., 0., 0., 0., 0., 0., 0., 0., 0., 0., 1.],\n",
              "       [0., 0., 0., 0., 0., 0., 0., 0., 0., 0., 0., 0., 0., 0., 0., 1.],\n",
              "       [0., 0., 0., 0., 0., 0., 0., 0., 0., 0., 0., 0., 0., 0., 0., 1.],\n",
              "       [0., 0., 0., 0., 0., 0., 0., 0., 0., 0., 0., 0., 0., 0., 0., 1.],\n",
              "       [0., 0., 0., 0., 0., 0., 0., 0., 0., 0., 0., 0., 0., 0., 0., 1.],\n",
              "       [0., 0., 0., 0., 0., 0., 0., 0., 0., 0., 0., 0., 0., 0., 0., 1.],\n",
              "       [0., 0., 0., 0., 0., 0., 0., 0., 0., 0., 0., 0., 0., 0., 0., 1.]],\n",
              "      dtype=float32)>"
            ]
          },
          "metadata": {},
          "execution_count": 18
        }
      ],
      "source": [
        "next(iter(from_expression_train_encoded))"
      ]
    },
    {
      "cell_type": "code",
      "execution_count": 19,
      "metadata": {
        "colab": {
          "base_uri": "https://localhost:8080/"
        },
        "id": "uA7iAqCKx1WT",
        "outputId": "e553ebd8-b0b0-4a24-a97c-623c262655a7"
      },
      "outputs": [
        {
          "output_type": "execute_result",
          "data": {
            "text/plain": [
              "<ZipDataset element_spec=(TensorSpec(shape=(20, 16), dtype=tf.float32, name=None), TensorSpec(shape=(20, 16), dtype=tf.float32, name=None))>"
            ]
          },
          "metadata": {},
          "execution_count": 19
        }
      ],
      "source": [
        "train_data = tf.data.Dataset.zip((from_expression_train_encoded, to_expression_train_encoded))\n",
        "train_data"
      ]
    },
    {
      "cell_type": "code",
      "execution_count": 20,
      "metadata": {
        "colab": {
          "base_uri": "https://localhost:8080/"
        },
        "id": "ChLqq0qCx1WT",
        "outputId": "07d020fe-ebc5-427e-97e5-a7e40ace6a2f"
      },
      "outputs": [
        {
          "output_type": "execute_result",
          "data": {
            "text/plain": [
              "<ZipDataset element_spec=(TensorSpec(shape=(20, 16), dtype=tf.float32, name=None), TensorSpec(shape=(20, 16), dtype=tf.float32, name=None))>"
            ]
          },
          "metadata": {},
          "execution_count": 20
        }
      ],
      "source": [
        "validation_data = tf.data.Dataset.zip((from_expression_validation_encoded, to_expression_validation_encoded))\n",
        "validation_data"
      ]
    },
    {
      "cell_type": "code",
      "execution_count": 21,
      "metadata": {
        "colab": {
          "base_uri": "https://localhost:8080/"
        },
        "id": "MJlA6afXx1WT",
        "outputId": "519c568d-708e-4b8a-c75f-fc7a7dbe15bd"
      },
      "outputs": [
        {
          "output_type": "execute_result",
          "data": {
            "text/plain": [
              "<ZipDataset element_spec=(TensorSpec(shape=(20, 16), dtype=tf.float32, name=None), TensorSpec(shape=(20, 16), dtype=tf.float32, name=None))>"
            ]
          },
          "metadata": {},
          "execution_count": 21
        }
      ],
      "source": [
        "test_data = tf.data.Dataset.zip((from_expression_test_encoded, to_expression_test_encoded))\n",
        "test_data"
      ]
    },
    {
      "cell_type": "code",
      "execution_count": 22,
      "metadata": {
        "id": "XjSY-fgVx1WU"
      },
      "outputs": [],
      "source": [
        "BATCH_SIZE = 32\n",
        "train_data_batched = train_data.padded_batch(BATCH_SIZE)\n",
        "validation_data_batched = validation_data.padded_batch(BATCH_SIZE)"
      ]
    },
    {
      "cell_type": "code",
      "execution_count": 23,
      "metadata": {
        "colab": {
          "base_uri": "https://localhost:8080/"
        },
        "id": "CWzHoWmfx1WU",
        "outputId": "b1cbe31b-c073-4b33-abd1-22e50ac4f5f6"
      },
      "outputs": [
        {
          "output_type": "execute_result",
          "data": {
            "text/plain": [
              "<tf.Tensor: shape=(20, 16), dtype=float32, numpy=\n",
              "array([[0., 0., 0., 0., 1., 0., 0., 0., 0., 0., 0., 0., 0., 0., 0., 0.],\n",
              "       [0., 0., 0., 0., 0., 0., 0., 0., 0., 0., 0., 1., 0., 0., 0., 0.],\n",
              "       [0., 0., 0., 0., 0., 0., 0., 0., 0., 0., 0., 0., 1., 0., 0., 0.],\n",
              "       [0., 0., 0., 0., 0., 0., 1., 0., 0., 0., 0., 0., 0., 0., 0., 0.],\n",
              "       [0., 0., 0., 1., 0., 0., 0., 0., 0., 0., 0., 0., 0., 0., 0., 0.],\n",
              "       [0., 0., 0., 0., 0., 0., 0., 0., 0., 0., 0., 0., 0., 1., 0., 0.],\n",
              "       [0., 0., 0., 0., 0., 0., 0., 0., 0., 1., 0., 0., 0., 0., 0., 0.],\n",
              "       [0., 0., 0., 0., 0., 0., 0., 0., 0., 1., 0., 0., 0., 0., 0., 0.],\n",
              "       [0., 0., 0., 0., 0., 0., 0., 0., 0., 0., 0., 0., 0., 1., 0., 0.],\n",
              "       [0., 0., 0., 0., 0., 1., 0., 0., 0., 0., 0., 0., 0., 0., 0., 0.],\n",
              "       [0., 0., 0., 1., 0., 0., 0., 0., 0., 0., 0., 0., 0., 0., 0., 0.],\n",
              "       [0., 0., 0., 0., 0., 0., 0., 0., 0., 0., 0., 0., 0., 1., 0., 0.],\n",
              "       [0., 0., 0., 0., 0., 0., 0., 0., 1., 0., 0., 0., 0., 0., 0., 0.],\n",
              "       [0., 0., 0., 0., 0., 0., 0., 0., 0., 0., 0., 0., 0., 0., 0., 1.],\n",
              "       [0., 0., 0., 0., 0., 0., 0., 0., 0., 0., 0., 0., 0., 0., 0., 1.],\n",
              "       [0., 0., 0., 0., 0., 0., 0., 0., 0., 0., 0., 0., 0., 0., 0., 1.],\n",
              "       [0., 0., 0., 0., 0., 0., 0., 0., 0., 0., 0., 0., 0., 0., 0., 1.],\n",
              "       [0., 0., 0., 0., 0., 0., 0., 0., 0., 0., 0., 0., 0., 0., 0., 1.],\n",
              "       [0., 0., 0., 0., 0., 0., 0., 0., 0., 0., 0., 0., 0., 0., 0., 1.],\n",
              "       [0., 0., 0., 0., 0., 0., 0., 0., 0., 0., 0., 0., 0., 0., 0., 1.]],\n",
              "      dtype=float32)>"
            ]
          },
          "metadata": {},
          "execution_count": 23
        }
      ],
      "source": [
        "next(iter(from_expression_train_encoded))"
      ]
    },
    {
      "cell_type": "code",
      "execution_count": 24,
      "metadata": {
        "id": "DXtovQQ1x1WU"
      },
      "outputs": [],
      "source": [
        "def create_model():\n",
        "    return tf.keras.Sequential([\n",
        "        layers.Input(shape=(20, 16)),\n",
        "        layers.Flatten(),\n",
        "        layers.Dense(20 * 16 * 10),\n",
        "        layers.Dense(20 * 16 * 10),\n",
        "        layers.Dense(20 * 16, activation='relu'),\n",
        "        layers.Reshape((20, 16)),\n",
        "        layers.Softmax(axis=2)\n",
        "    ])"
      ]
    },
    {
      "cell_type": "code",
      "source": [
        "softmax_layer = layers.Softmax(axis=1)\n",
        "test_input = np.zeros((20, 16))\n",
        "test_input[19, 1] = 3\n",
        "test_input[19, 2] = 2\n",
        "softmax_layer(test_input)[19]"
      ],
      "metadata": {
        "colab": {
          "base_uri": "https://localhost:8080/"
        },
        "id": "FgAhZMtq7Iuo",
        "outputId": "b3d404ba-ad46-4e76-d3e1-2431a5d7a890"
      },
      "execution_count": 25,
      "outputs": [
        {
          "output_type": "execute_result",
          "data": {
            "text/plain": [
              "<tf.Tensor: shape=(16,), dtype=float32, numpy=\n",
              "array([0.02411114, 0.4842853 , 0.17815863, 0.02411114, 0.02411114,\n",
              "       0.02411114, 0.02411114, 0.02411114, 0.02411114, 0.02411114,\n",
              "       0.02411114, 0.02411114, 0.02411114, 0.02411114, 0.02411114,\n",
              "       0.02411114], dtype=float32)>"
            ]
          },
          "metadata": {},
          "execution_count": 25
        }
      ]
    },
    {
      "cell_type": "code",
      "execution_count": 26,
      "metadata": {
        "colab": {
          "base_uri": "https://localhost:8080/"
        },
        "id": "vlGxt8ggx1WU",
        "outputId": "3903a1e6-8461-4044-c999-f67e796ba3d9"
      },
      "outputs": [
        {
          "output_type": "execute_result",
          "data": {
            "text/plain": [
              "<keras.engine.sequential.Sequential at 0x7f0f18257210>"
            ]
          },
          "metadata": {},
          "execution_count": 26
        }
      ],
      "source": [
        "model = create_model()\n",
        "model"
      ]
    },
    {
      "cell_type": "code",
      "execution_count": 27,
      "metadata": {
        "id": "q63OBtQJx1WV"
      },
      "outputs": [],
      "source": [
        "# https://stackoverflow.com/questions/44607176/tensorflow-loss-function-which-takes-one-hot-as-argument\n",
        "# https://www.tensorflow.org/api_docs/python/tf/keras/losses/CategoricalCrossentropy\n",
        "# Would CategoricalCrossentrophy with axis = 1 work?\n",
        "\n",
        "class SoftmaxCrossEntrophyError2D(tf.keras.losses.Loss):\n",
        "    def call(self, y_true, y_pred):\n",
        "        pass\n"
      ]
    },
    {
      "cell_type": "code",
      "execution_count": 28,
      "metadata": {
        "id": "x4y5EzANx1WV"
      },
      "outputs": [],
      "source": [
        "model.compile(\n",
        "    optimizer='adam',\n",
        "    loss=losses.MeanSquaredError()\n",
        ")\n",
        "\n",
        "log_dir = \"logs/fit/\" + datetime.datetime.now().strftime(\"%Y%m%d-%H%M%S\")\n",
        "tensorboard_callback = tf.keras.callbacks.TensorBoard(log_dir=log_dir, histogram_freq=1)"
      ]
    },
    {
      "cell_type": "code",
      "execution_count": 29,
      "metadata": {
        "colab": {
          "base_uri": "https://localhost:8080/"
        },
        "id": "Ne6VbRXLx1WV",
        "outputId": "ebe9b9d8-bf9e-4537-a9e5-6381131282b8"
      },
      "outputs": [
        {
          "output_type": "stream",
          "name": "stdout",
          "text": [
            "Model: \"sequential\"\n",
            "_________________________________________________________________\n",
            " Layer (type)                Output Shape              Param #   \n",
            "=================================================================\n",
            " flatten (Flatten)           (None, 320)               0         \n",
            "                                                                 \n",
            " dense (Dense)               (None, 3200)              1027200   \n",
            "                                                                 \n",
            " dense_1 (Dense)             (None, 3200)              10243200  \n",
            "                                                                 \n",
            " dense_2 (Dense)             (None, 320)               1024320   \n",
            "                                                                 \n",
            " reshape (Reshape)           (None, 20, 16)            0         \n",
            "                                                                 \n",
            " softmax_1 (Softmax)         (None, 20, 16)            0         \n",
            "                                                                 \n",
            "=================================================================\n",
            "Total params: 12,294,720\n",
            "Trainable params: 12,294,720\n",
            "Non-trainable params: 0\n",
            "_________________________________________________________________\n"
          ]
        }
      ],
      "source": [
        "model.summary()"
      ]
    },
    {
      "cell_type": "code",
      "source": [
        "from google.colab import drive\n",
        "drive.mount('/content/drive')"
      ],
      "metadata": {
        "colab": {
          "base_uri": "https://localhost:8080/"
        },
        "id": "jBXWsL7g6iHD",
        "outputId": "e152fb7b-a7bc-4e66-ff61-3cd3d5b1622a"
      },
      "execution_count": 30,
      "outputs": [
        {
          "output_type": "stream",
          "name": "stdout",
          "text": [
            "Mounted at /content/drive\n"
          ]
        }
      ]
    },
    {
      "cell_type": "code",
      "execution_count": 31,
      "metadata": {
        "id": "m6tmkKyhx1WV"
      },
      "outputs": [],
      "source": [
        "checkpoint_path = \"/content/drive/MyDrive/math-ai-playground-persist/training_3/cp-{epoch:04d}.ckpt\"\n",
        "checkpoint_dir = os.path.dirname(checkpoint_path)\n",
        "cp_callback = tf.keras.callbacks.ModelCheckpoint(filepath=checkpoint_path,\n",
        "                                                 save_weights_only=True,\n",
        "                                                 verbose=1)"
      ]
    },
    {
      "cell_type": "code",
      "execution_count": null,
      "metadata": {
        "colab": {
          "base_uri": "https://localhost:8080/"
        },
        "id": "L_hsc3r1x1WV",
        "outputId": "05688f6d-bb4a-487b-f268-99e7cce6c62a"
      },
      "outputs": [
        {
          "output_type": "stream",
          "name": "stdout",
          "text": [
            "Epoch 1/10\n",
            " 124998/Unknown - 754s 6ms/step - loss: 0.0286\n",
            "Epoch 1: saving model to /content/drive/MyDrive/math-ai-playground-persist/training_3/cp-0001.ckpt\n",
            "125000/125000 [==============================] - 879s 7ms/step - loss: 0.0286 - val_loss: 0.0299\n",
            "Epoch 2/10\n",
            "124994/125000 [============================>.] - ETA: 0s - loss: 0.0284\n",
            "Epoch 2: saving model to /content/drive/MyDrive/math-ai-playground-persist/training_3/cp-0002.ckpt\n",
            "125000/125000 [==============================] - 864s 7ms/step - loss: 0.0284 - val_loss: 0.0284\n",
            "Epoch 3/10\n",
            "125000/125000 [==============================] - ETA: 0s - loss: 0.0283\n",
            "Epoch 3: saving model to /content/drive/MyDrive/math-ai-playground-persist/training_3/cp-0003.ckpt\n",
            "125000/125000 [==============================] - 875s 7ms/step - loss: 0.0283 - val_loss: 0.0281\n",
            "Epoch 4/10\n",
            " 11892/125000 [=>............................] - ETA: 11:15 - loss: 0.0282"
          ]
        }
      ],
      "source": [
        "\n",
        "history = model.fit(\n",
        "    train_data_batched,\n",
        "    validation_data=validation_data_batched,\n",
        "    epochs=10,\n",
        "    callbacks=[tensorboard_callback, cp_callback],\n",
        "\n",
        ")"
      ]
    },
    {
      "cell_type": "code",
      "execution_count": null,
      "metadata": {
        "id": "ZBbP_oyZx1WV"
      },
      "outputs": [],
      "source": [
        "latest = tf.train.latest_checkpoint(checkpoint_dir)\n",
        "latest"
      ]
    },
    {
      "cell_type": "code",
      "execution_count": null,
      "metadata": {
        "id": "QuN9fXpex1WV"
      },
      "outputs": [],
      "source": [
        "model = create_model()\n",
        "model.load_weights(latest)\n",
        "model.predict(validation_data_batched.take(1))"
      ]
    }
  ],
  "metadata": {
    "colab": {
      "collapsed_sections": [],
      "provenance": []
    },
    "kernelspec": {
      "display_name": "Python 3",
      "name": "python3"
    },
    "language_info": {
      "name": "python"
    },
    "accelerator": "GPU",
    "gpuClass": "premium"
  },
  "nbformat": 4,
  "nbformat_minor": 0
}