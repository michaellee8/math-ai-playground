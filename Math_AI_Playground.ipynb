{
 "cells": [
  {
   "cell_type": "markdown",
   "metadata": {
    "id": "0D05WkvbNyKV"
   },
   "source": [
    "# Math AI Playground\n",
    "\n",
    "- Evaluate numeric-only math expression step by step.\n",
    "- Expression length cannot be more than 20 characters.\n",
    "- Support `*` and `+` only, `-` and `()` support will be attempted later. Intended for the neural network to learn the rules of mathematics.\n",
    "- Support integers only.\n",
    "\n",
    "Character encoding:\n",
    "\n",
    "| Character | Token    |\n",
    "|-----------|----------|\n",
    "| 0         | 0        |\n",
    "| 1         | 1        |\n",
    "| 2         | 2        |\n",
    "| 3         | 3        |\n",
    "| 4         | 4        |\n",
    "| 5         | 5        |\n",
    "| 6         | 6        |\n",
    "| 7         | 7        |\n",
    "| 8         | 8        |\n",
    "| 9         | 9        |\n",
    "| *         | 10       |\n",
    "| +         | 11       |\n",
    "| -         | 12       |\n",
    "|  (space)  | 13       |"
   ]
  },
  {
   "cell_type": "code",
   "execution_count": 1,
   "metadata": {
    "colab": {
     "base_uri": "https://localhost:8080/"
    },
    "id": "caLn05iEArd1",
    "outputId": "587ef64c-a963-4473-a7b8-466cc76d725e"
   },
   "outputs": [
    {
     "name": "stdout",
     "output_type": "stream",
     "text": [
      "Fri Oct 21 20:29:16 2022       \r\n",
      "+-----------------------------------------------------------------------------+\r\n",
      "| NVIDIA-SMI 520.61.05    Driver Version: 520.61.05    CUDA Version: 11.8     |\r\n",
      "|-------------------------------+----------------------+----------------------+\r\n",
      "| GPU  Name        Persistence-M| Bus-Id        Disp.A | Volatile Uncorr. ECC |\r\n",
      "| Fan  Temp  Perf  Pwr:Usage/Cap|         Memory-Usage | GPU-Util  Compute M. |\r\n",
      "|                               |                      |               MIG M. |\r\n",
      "|===============================+======================+======================|\r\n",
      "|   0  NVIDIA GeForce ...  On   | 00000000:01:00.0  On |                  N/A |\r\n",
      "|  0%   52C    P8    22W / 170W |    525MiB / 12288MiB |     39%      Default |\r\n",
      "|                               |                      |                  N/A |\r\n",
      "+-------------------------------+----------------------+----------------------+\r\n",
      "                                                                               \r\n",
      "+-----------------------------------------------------------------------------+\r\n",
      "| Processes:                                                                  |\r\n",
      "|  GPU   GI   CI        PID   Type   Process name                  GPU Memory |\r\n",
      "|        ID   ID                                                   Usage      |\r\n",
      "|=============================================================================|\r\n",
      "|    0   N/A  N/A      1800      G   /usr/lib/xorg/Xorg                 35MiB |\r\n",
      "|    0   N/A  N/A      5535      G   /usr/lib/xorg/Xorg                203MiB |\r\n",
      "|    0   N/A  N/A      5672      G   /usr/bin/gnome-shell               89MiB |\r\n",
      "|    0   N/A  N/A      6584      G   ...veSuggestionsOnlyOnDemand       56MiB |\r\n",
      "|    0   N/A  N/A    513058      G   ...429661965887243641,131072      127MiB |\r\n",
      "+-----------------------------------------------------------------------------+\r\n"
     ]
    }
   ],
   "source": [
    "!nvidia-smi"
   ]
  },
  {
   "cell_type": "code",
   "execution_count": 2,
   "metadata": {
    "colab": {
     "base_uri": "https://localhost:8080/"
    },
    "id": "ffiWIF8QyNqv",
    "outputId": "11e83fca-f737-4463-e789-0542e102499d"
   },
   "outputs": [],
   "source": [
    "# !pip install tensorflow-text==2.9.0"
   ]
  },
  {
   "cell_type": "code",
   "execution_count": 3,
   "metadata": {
    "id": "3hbiwGEcllLk"
   },
   "outputs": [
    {
     "name": "stderr",
     "output_type": "stream",
     "text": [
      "2022-10-21 20:29:16.812969: I tensorflow/stream_executor/platform/default/dso_loader.cc:49] Successfully opened dynamic library libcudart.so.11.0\n"
     ]
    }
   ],
   "source": [
    "# Global imports\n",
    "\n",
    "from typing import List, Tuple\n",
    "\n",
    "import random\n",
    "import re\n",
    "\n",
    "import pandas as pd\n",
    "\n",
    "import tensorflow as tf\n",
    "import tensorflow_text as tf_text\n",
    "from tensorflow import keras\n",
    "from tensorflow.keras import layers, losses\n",
    "import numpy as np\n",
    "import datetime\n",
    "import os\n",
    "from tensorflow.keras import mixed_precision\n",
    "\n",
    "RANDOM_SEED = 1\n",
    "\n",
    "randomer = random.Random(RANDOM_SEED)"
   ]
  },
  {
   "cell_type": "code",
   "execution_count": 4,
   "metadata": {
    "colab": {
     "base_uri": "https://localhost:8080/"
    },
    "id": "Jj-pDB7wx1WL",
    "outputId": "4569f159-19af-4b58-afe5-06099955df7a"
   },
   "outputs": [
    {
     "name": "stderr",
     "output_type": "stream",
     "text": [
      "2022-10-21 20:29:17.456273: I tensorflow/compiler/jit/xla_cpu_device.cc:41] Not creating XLA devices, tf_xla_enable_xla_devices not set\n",
      "2022-10-21 20:29:17.456840: I tensorflow/stream_executor/platform/default/dso_loader.cc:49] Successfully opened dynamic library libcuda.so.1\n",
      "2022-10-21 20:29:17.497107: I tensorflow/stream_executor/cuda/cuda_gpu_executor.cc:941] successful NUMA node read from SysFS had negative value (-1), but there must be at least one NUMA node, so returning NUMA node zero\n",
      "2022-10-21 20:29:17.497207: I tensorflow/core/common_runtime/gpu/gpu_device.cc:1720] Found device 0 with properties: \n",
      "pciBusID: 0000:01:00.0 name: NVIDIA GeForce RTX 3060 computeCapability: 8.6\n",
      "coreClock: 1.837GHz coreCount: 28 deviceMemorySize: 11.77GiB deviceMemoryBandwidth: 335.32GiB/s\n",
      "2022-10-21 20:29:17.497222: I tensorflow/stream_executor/platform/default/dso_loader.cc:49] Successfully opened dynamic library libcudart.so.11.0\n",
      "2022-10-21 20:29:17.498508: I tensorflow/stream_executor/platform/default/dso_loader.cc:49] Successfully opened dynamic library libcublas.so.11\n",
      "2022-10-21 20:29:17.498540: I tensorflow/stream_executor/platform/default/dso_loader.cc:49] Successfully opened dynamic library libcublasLt.so.11\n",
      "2022-10-21 20:29:17.499222: I tensorflow/stream_executor/platform/default/dso_loader.cc:49] Successfully opened dynamic library libcufft.so.10\n",
      "2022-10-21 20:29:17.499418: I tensorflow/stream_executor/platform/default/dso_loader.cc:49] Successfully opened dynamic library libcurand.so.10\n",
      "2022-10-21 20:29:17.500822: I tensorflow/stream_executor/platform/default/dso_loader.cc:49] Successfully opened dynamic library libcusolver.so.10\n",
      "2022-10-21 20:29:17.501133: I tensorflow/stream_executor/platform/default/dso_loader.cc:49] Successfully opened dynamic library libcusparse.so.11\n",
      "2022-10-21 20:29:17.501203: I tensorflow/stream_executor/platform/default/dso_loader.cc:49] Successfully opened dynamic library libcudnn.so.8\n",
      "2022-10-21 20:29:17.501277: I tensorflow/stream_executor/cuda/cuda_gpu_executor.cc:941] successful NUMA node read from SysFS had negative value (-1), but there must be at least one NUMA node, "
     ]
    },
    {
     "data": {
      "text/plain": "[PhysicalDevice(name='/physical_device:GPU:0', device_type='GPU')]"
     },
     "execution_count": 4,
     "metadata": {},
     "output_type": "execute_result"
    },
    {
     "name": "stderr",
     "output_type": "stream",
     "text": [
      "so returning NUMA node zero\n",
      "2022-10-21 20:29:17.501387: I tensorflow/stream_executor/cuda/cuda_gpu_executor.cc:941] successful NUMA node read from SysFS had negative value (-1), but there must be at least one NUMA node, so returning NUMA node zero\n",
      "2022-10-21 20:29:17.501438: I tensorflow/core/common_runtime/gpu/gpu_device.cc:1862] Adding visible gpu devices: 0\n"
     ]
    }
   ],
   "source": [
    "tf.config.list_physical_devices('GPU')"
   ]
  },
  {
   "cell_type": "code",
   "execution_count": 5,
   "metadata": {
    "colab": {
     "base_uri": "https://localhost:8080/"
    },
    "id": "SmHyuJtJnrh0",
    "outputId": "f8313da3-8f65-4d4f-e454-9620fb972508"
   },
   "outputs": [
    {
     "data": {
      "text/plain": "{0: '0',\n 1: '1',\n 2: '2',\n 3: '3',\n 4: '4',\n 5: '5',\n 6: '6',\n 7: '7',\n 8: '8',\n 9: '9',\n 10: '*',\n 11: '+',\n 12: '-',\n 13: ' '}"
     },
     "execution_count": 5,
     "metadata": {},
     "output_type": "execute_result"
    }
   ],
   "source": [
    "CHAR_TOKEN_MAP = {\n",
    "    '0': 0,\n",
    "    '1': 1,\n",
    "    '2': 2,\n",
    "    '3': 3,\n",
    "    '4': 4,\n",
    "    '5': 5,\n",
    "    '6': 6,\n",
    "    '7': 7,\n",
    "    '8': 8,\n",
    "    '9': 9,\n",
    "    '*': 10,\n",
    "    '+': 11,\n",
    "    '-': 12,\n",
    "    ' ': 13\n",
    "}\n",
    "\n",
    "TOKEN_CHAR_MAP = {}\n",
    "\n",
    "for k, v in CHAR_TOKEN_MAP.items():\n",
    "    TOKEN_CHAR_MAP[v] = k\n",
    "\n",
    "TOKEN_CHAR_MAP"
   ]
  },
  {
   "cell_type": "code",
   "execution_count": 6,
   "metadata": {
    "colab": {
     "base_uri": "https://localhost:8080/"
    },
    "id": "zafWyxO5x1WN",
    "outputId": "26aae644-e834-4599-c367-96a16029dd77"
   },
   "outputs": [
    {
     "data": {
      "text/plain": "['0', '1', '2', '3', '4', '5', '6', '7', '8', '9', '*', '+', '-', ' ']"
     },
     "execution_count": 6,
     "metadata": {},
     "output_type": "execute_result"
    }
   ],
   "source": [
    "CHAR_VOCAB = list(CHAR_TOKEN_MAP)\n",
    "CHAR_VOCAB"
   ]
  },
  {
   "cell_type": "markdown",
   "metadata": {
    "id": "NTl_rwTlialX"
   },
   "source": [
    "## Data generation"
   ]
  },
  {
   "cell_type": "code",
   "execution_count": 7,
   "metadata": {
    "colab": {
     "base_uri": "https://localhost:8080/"
    },
    "id": "dVsqBeNQNd9_",
    "outputId": "0db8ce47-42d6-4cfe-a0bb-9d3e7dac501c"
   },
   "outputs": [
    {
     "data": {
      "text/plain": "['29*41+77+31+6       ',\n '1189+77+31+6        ',\n '1266+31+6           ',\n '1297+6              ',\n '1303                ']"
     },
     "execution_count": 7,
     "metadata": {},
     "output_type": "execute_result"
    }
   ],
   "source": [
    "DIGIT_CHARS = list('0123456789')\n",
    "OP_CHARS = list('*+')\n",
    "EXPRESSION_LENGTH = 20\n",
    "TOKEN_SPACE_SIZE = 16\n",
    "\n",
    "\n",
    "def generate_initial_expression(rand: random.Random) -> str:\n",
    "    initial_expression = [rand.choice(DIGIT_CHARS) if i % 3 < 2 else rand.choice(OP_CHARS) for i in range(14)]\n",
    "    if initial_expression[0] == '0':\n",
    "        initial_expression = initial_expression[1:]\n",
    "    initial_expression = re.sub(\"([\\*\\+\\-])0\", lambda mo: mo.group(1), ''.join(initial_expression))\n",
    "\n",
    "    return initial_expression\n",
    "\n",
    "\n",
    "# Evaluate one step of the expression, return expression, False if no further\n",
    "# steps can be made anymore.\n",
    "def progress_expression_step(expression: str) -> Tuple[str, bool]:\n",
    "    op = ''\n",
    "    op_idx = -1\n",
    "\n",
    "    if '*' in expression:\n",
    "        # Multiplication takes precendence\n",
    "        op = '*'\n",
    "        op_idx = expression.find('*')\n",
    "    else:\n",
    "        m = re.search('\\+', expression)\n",
    "        if m is not None:\n",
    "            op = expression[m.start()]\n",
    "            op_idx = m.start()\n",
    "\n",
    "    if op == ' ' or op_idx == -1:\n",
    "        return expression, False\n",
    "\n",
    "    start_idx = op_idx - 1\n",
    "    end_idx = op_idx + 1\n",
    "\n",
    "    while start_idx - 1 >= 0 and expression[start_idx - 1] not in OP_CHARS:\n",
    "        start_idx -= 1\n",
    "\n",
    "    while end_idx + 1 < len(expression) and expression[end_idx + 1] not in OP_CHARS:\n",
    "        end_idx += 1\n",
    "\n",
    "    num1 = int(expression[start_idx:op_idx])\n",
    "    num2 = int(expression[op_idx + 1:end_idx + 1])\n",
    "\n",
    "    calc_result = 0\n",
    "\n",
    "    if op == '*':\n",
    "        calc_result = num1 * num2\n",
    "    elif op == '+':\n",
    "        calc_result = num1 + num2\n",
    "    elif op == '-':\n",
    "        calc_result = num1 - num2\n",
    "\n",
    "    before_result = expression[:start_idx]\n",
    "    after_result = expression[end_idx + 1:]\n",
    "\n",
    "    if len(before_result) > 0 and calc_result < 0:\n",
    "        if before_result[-1] == '-':\n",
    "            before_result[-1] = '+'\n",
    "        elif before_result[-1] == '+':\n",
    "            before_result[-1] = '-'\n",
    "\n",
    "    calc_result = abs(calc_result)\n",
    "\n",
    "    return before_result + str(calc_result) + after_result, True\n",
    "\n",
    "\n",
    "def generate_expression_with_steps(rand: random.Random) -> List[str]:\n",
    "    initial_expression = generate_initial_expression(rand)\n",
    "    ret = [initial_expression]\n",
    "    while True:\n",
    "        exp, has_further = progress_expression_step(ret[-1])\n",
    "        if not has_further:\n",
    "            break\n",
    "        ret.append(exp)\n",
    "    if int(eval(initial_expression)) != int(ret[-1]):\n",
    "        raise ValueError(\"internal logic error, value evaluation is incorrect\")\n",
    "    return [l.ljust(20) for l in ret]\n",
    "\n",
    "\n",
    "generate_expression_with_steps(randomer)"
   ]
  },
  {
   "cell_type": "code",
   "execution_count": 8,
   "metadata": {
    "id": "hYynsbAQL0Ud"
   },
   "outputs": [],
   "source": [
    "\n",
    "!mkdir -p data /\n",
    "\n",
    "def regenerate_all_inputs():\n",
    "    rnd = random.Random(1)\n",
    "\n",
    "    from_expression_train_file = open('data/from_expression_train.txt', \"w\")\n",
    "    to_expression_train_file = open('data/to_expression_train.txt', \"w\")\n",
    "\n",
    "    for i in range(10 ** 6):\n",
    "        steps = generate_expression_with_steps(rnd)\n",
    "        for j in range(len(steps) - 1):\n",
    "            from_expression_train_file.write(steps[j] + \"\\n\")\n",
    "            to_expression_train_file.write(steps[j + 1] + \"\\n\")\n",
    "\n",
    "    from_expression_train_file.close()\n",
    "    to_expression_train_file.close()\n",
    "\n",
    "    from_expression_test_file = open('data/from_expression_test.txt', \"w\")\n",
    "    to_expression_test_file = open('data/to_expression_test.txt', \"w\")\n",
    "\n",
    "    for i in range(2 * 10 ** 5):\n",
    "        steps = generate_expression_with_steps(rnd)\n",
    "        for j in range(len(steps) - 1):\n",
    "            from_expression_test_file.write(steps[j] + \"\\n\")\n",
    "            to_expression_test_file.write(steps[j + 1] + \"\\n\")\n",
    "\n",
    "    from_expression_test_file.close()\n",
    "    to_expression_test_file.close()\n",
    "\n",
    "    from_expression_validation_file = open('data/from_expression_validation.txt', \"w\")\n",
    "    to_expression_validation_file = open('data/to_expression_validation.txt', \"w\")\n",
    "\n",
    "    for i in range(2 * 10 ** 5):\n",
    "        steps = generate_expression_with_steps(rnd)\n",
    "        for j in range(len(steps) - 1):\n",
    "            from_expression_validation_file.write(steps[j] + \"\\n\")\n",
    "            to_expression_validation_file.write(steps[j + 1] + \"\\n\")\n",
    "\n",
    "    from_expression_validation_file.close()\n",
    "    to_expression_validation_file.close()\n",
    "\n",
    "# regenerate_all_inputs()"
   ]
  },
  {
   "cell_type": "code",
   "execution_count": 9,
   "metadata": {
    "id": "7roAp9pnkMyX",
    "colab": {
     "base_uri": "https://localhost:8080/"
    },
    "outputId": "04f9a82f-ee9f-4184-be34-d880f3705b68"
   },
   "outputs": [],
   "source": [
    "% load_ext tensorboard"
   ]
  },
  {
   "cell_type": "code",
   "execution_count": 10,
   "metadata": {
    "id": "dzZnhpXQx1WR"
   },
   "outputs": [
    {
     "name": "stderr",
     "output_type": "stream",
     "text": [
      "2022-10-21 20:29:17.762360: I tensorflow/core/platform/cpu_feature_guard.cc:142] This TensorFlow binary is optimized with oneAPI Deep Neural Network Library (oneDNN) to use the following CPU instructions in performance-critical operations:  AVX512F\n",
      "To enable them in other operations, rebuild TensorFlow with the appropriate compiler flags.\n",
      "2022-10-21 20:29:17.762871: I tensorflow/compiler/jit/xla_gpu_device.cc:99] Not creating XLA devices, tf_xla_enable_xla_devices not set\n",
      "2022-10-21 20:29:17.762985: I tensorflow/stream_executor/cuda/cuda_gpu_executor.cc:941] successful NUMA node read from SysFS had negative value (-1), but there must be at least one NUMA node, so returning NUMA node zero\n",
      "2022-10-21 20:29:17.763079: I tensorflow/core/common_runtime/gpu/gpu_device.cc:1720] Found device 0 with properties: \n",
      "pciBusID: 0000:01:00.0 name: NVIDIA GeForce RTX 3060 computeCapability: 8.6\n",
      "coreClock: 1.837GHz coreCount: 28 deviceMemorySize: 11.77GiB deviceMemoryBandwidth: 335.32GiB/s\n",
      "2022-10-21 20:29:17.763101: I tensorflow/stream_executor/platform/default/dso_loader.cc:49] Successfully opened dynamic library libcudart.so.11.0\n",
      "2022-10-21 20:29:17.763112: I tensorflow/stream_executor/platform/default/dso_loader.cc:49] Successfully opened dynamic library libcublas.so.11\n",
      "2022-10-21 20:29:17.763118: I tensorflow/stream_executor/platform/default/dso_loader.cc:49] Successfully opened dynamic library libcublasLt.so.11\n",
      "2022-10-21 20:29:17.763125: I tensorflow/stream_executor/platform/default/dso_loader.cc:49] Successfully opened dynamic library libcufft.so.10\n",
      "2022-10-21 20:29:17.763131: I tensorflow/stream_executor/platform/default/dso_loader.cc:49] Successfully opened dynamic library libcurand.so.10\n",
      "2022-10-21 20:29:17.763138: I tensorflow/stream_executor/platform/default/dso_loader.cc:49] Successfully opened dynamic library libcusolver.so.10\n",
      "2022-10-21 20:29:17.763143: I tensorflow/stream_executor/platform/default/dso_loader.cc:49] Successfully opened dynamic library libcusparse.so.11\n",
      "2022-10-21 20:29:17.763149: I tensorflow/stream_executor/platform/default/dso_loader.cc:49] Successfully opened dynamic library libcudnn.so.8\n",
      "2022-10-21 20:29:17.763184: I tensorflow/stream_executor/cuda/cuda_gpu_executor.cc:941] successful NUMA node read from SysFS had negative value (-1), but there must be at least one NUMA node, so returning NUMA node zero\n",
      "2022-10-21 20:29:17.763256: I tensorflow/stream_executor/cuda/cuda_gpu_executor.cc:941] successful NUMA node read from SysFS had negative value (-1), but there must be at least one NUMA node, so returning NUMA node zero\n",
      "2022-10-21 20:29:17.763304: I tensorflow/core/common_runtime/gpu/gpu_device.cc:1862] Adding visible gpu devices: 0\n",
      "2022-10-21 20:29:17.763321: I tensorflow/stream_executor/platform/default/dso_loader.cc:49] Successfully opened dynamic library libcudart.so.11.0\n",
      "2022-10-21 20:29:18.027032: I tensorflow/core/common_runtime/gpu/gpu_device.cc:1261] Device interconnect StreamExecutor with strength 1 edge matrix:\n",
      "2022-10-21 20:29:18.027051: I tensorflow/core/common_runtime/gpu/gpu_device.cc:1267]      0 \n",
      "2022-10-21 20:29:18.027054: I tensorflow/core/common_runtime/gpu/gpu_device.cc:1280] 0:   N \n",
      "2022-10-21 20:29:18.027218: I tensorflow/stream_executor/cuda/cuda_gpu_executor.cc:941] successful NUMA node read from SysFS had negative value (-1), but there must be at least one NUMA node, so returning NUMA node zero\n",
      "2022-10-21 20:29:18.027315: I tensorflow/stream_executor/cuda/cuda_gpu_executor.cc:941] successful NUMA node read from SysFS had negative value (-1), but there must be at least one NUMA node, so returning NUMA node zero\n",
      "2022-10-21 20:29:18.027384: I tensorflow/stream_executor/cuda/cuda_gpu_executor.cc:941] successful NUMA node read from SysFS had negative value (-1), but there must be at least one NUMA node, so returning NUMA node zero\n",
      "2022-10-21 20:29:18.027466: I tensorflow/core/common_runtime/gpu/gpu_device.cc:1406] Created TensorFlow device (/job:localhost/replica:0/task:0/device:GPU:0 with 10594 MB memory) -> physical GPU (device: 0, name: NVIDIA GeForce RTX 3060, pci bus id: 0000:01:00.0, compute capability: 8.6)\n"
     ]
    }
   ],
   "source": [
    "# Good reference https://www.tensorflow.org/tutorials/load_data/text\n",
    "\n",
    "PADDED_VOCAB_SIZE = len(CHAR_VOCAB) + 2\n",
    "\n",
    "keys = [ord(c) for c in CHAR_VOCAB]\n",
    "values = range(2, len(CHAR_VOCAB) + 2)\n",
    "\n",
    "init = tf.lookup.KeyValueTensorInitializer(keys, values, key_dtype=tf.int64, value_dtype=tf.int64)\n",
    "\n",
    "num_oov_buckets = 1\n",
    "vocab_table = tf.lookup.StaticVocabularyTable(init, num_oov_buckets)"
   ]
  },
  {
   "cell_type": "code",
   "execution_count": 11,
   "metadata": {
    "id": "BKkwkuXax1WR"
   },
   "outputs": [],
   "source": [
    "from_expression_train_text_dataset = tf.data.TextLineDataset('data/from_expression_train.txt')\n",
    "to_expression_train_text_dataset = tf.data.TextLineDataset('data/to_expression_train.txt')\n",
    "from_expression_validation_text_dataset = tf.data.TextLineDataset('data/from_expression_validation.txt')\n",
    "to_expression_validation_text_dataset = tf.data.TextLineDataset('data/to_expression_validation.txt')\n",
    "from_expression_test_text_dataset = tf.data.TextLineDataset('data/from_expression_test.txt')\n",
    "to_expression_test_text_dataset = tf.data.TextLineDataset('data/to_expression_test.txt')"
   ]
  },
  {
   "cell_type": "code",
   "execution_count": 12,
   "metadata": {
    "colab": {
     "base_uri": "https://localhost:8080/"
    },
    "id": "jOP_tXKPx1WS",
    "outputId": "8d9bd605-f7cf-45e9-9710-e4394c0f0aa4"
   },
   "outputs": [
    {
     "name": "stderr",
     "output_type": "stream",
     "text": [
      "2022-10-21 20:29:18.209108: I tensorflow/compiler/mlir/mlir_graph_optimization_pass.cc:116] None of the MLIR optimization passes are enabled (registered 2)\n",
      "2022-10-21 20:29:18.227658: I tensorflow/core/platform/profile_utils/cpu_utils.cc:112] CPU Frequency: 2496000000 Hz\n"
     ]
    },
    {
     "name": "stdout",
     "output_type": "stream",
     "text": [
      "Tokens:  tf.Tensor(50, shape=(), dtype=int32)\n"
     ]
    }
   ],
   "source": [
    "tokenizer = tf_text.UnicodeCharTokenizer()\n",
    "\n",
    "\n",
    "def tokenize(text):\n",
    "    return tokenizer.tokenize(text)\n",
    "\n",
    "\n",
    "tokenized_example_ds = from_expression_train_text_dataset.map(tokenize)\n",
    "\n",
    "for text_batch in tokenized_example_ds.take(1):\n",
    "    print(\"Tokens: \", text_batch[0])"
   ]
  },
  {
   "cell_type": "code",
   "execution_count": 13,
   "metadata": {
    "colab": {
     "base_uri": "https://localhost:8080/"
    },
    "id": "1NtoMngax1WS",
    "outputId": "2e066226-43e8-42b6-c7d7-a17ccf1325a6"
   },
   "outputs": [
    {
     "data": {
      "text/plain": "<tf.Tensor: shape=(20, 16), dtype=float32, numpy=\narray([[0., 0., 0., 0., 1., 0., 0., 0., 0., 0., 0., 0., 0., 0., 0., 0.],\n       [0., 0., 0., 0., 0., 0., 0., 0., 0., 0., 0., 1., 0., 0., 0., 0.],\n       [0., 0., 0., 0., 0., 0., 0., 0., 0., 0., 0., 0., 1., 0., 0., 0.],\n       [0., 0., 0., 0., 0., 0., 1., 0., 0., 0., 0., 0., 0., 0., 0., 0.],\n       [0., 0., 0., 1., 0., 0., 0., 0., 0., 0., 0., 0., 0., 0., 0., 0.],\n       [0., 0., 0., 0., 0., 0., 0., 0., 0., 0., 0., 0., 0., 1., 0., 0.],\n       [0., 0., 0., 0., 0., 0., 0., 0., 0., 1., 0., 0., 0., 0., 0., 0.],\n       [0., 0., 0., 0., 0., 0., 0., 0., 0., 1., 0., 0., 0., 0., 0., 0.],\n       [0., 0., 0., 0., 0., 0., 0., 0., 0., 0., 0., 0., 0., 1., 0., 0.],\n       [0., 0., 0., 0., 0., 1., 0., 0., 0., 0., 0., 0., 0., 0., 0., 0.],\n       [0., 0., 0., 1., 0., 0., 0., 0., 0., 0., 0., 0., 0., 0., 0., 0.],\n       [0., 0., 0., 0., 0., 0., 0., 0., 0., 0., 0., 0., 0., 1., 0., 0.],\n       [0., 0., 0., 0., 0., 0., 0., 0., 1., 0., 0., 0., 0., 0., 0., 0.],\n       [0., 0., 0., 0., 0., 0., 0., 0., 0., 0., 0., 0., 0., 0., 0., 1.],\n       [0., 0., 0., 0., 0., 0., 0., 0., 0., 0., 0., 0., 0., 0., 0., 1.],\n       [0., 0., 0., 0., 0., 0., 0., 0., 0., 0., 0., 0., 0., 0., 0., 1.],\n       [0., 0., 0., 0., 0., 0., 0., 0., 0., 0., 0., 0., 0., 0., 0., 1.],\n       [0., 0., 0., 0., 0., 0., 0., 0., 0., 0., 0., 0., 0., 0., 0., 1.],\n       [0., 0., 0., 0., 0., 0., 0., 0., 0., 0., 0., 0., 0., 0., 0., 1.],\n       [0., 0., 0., 0., 0., 0., 0., 0., 0., 0., 0., 0., 0., 0., 0., 1.]],\n      dtype=float32)>"
     },
     "execution_count": 13,
     "metadata": {},
     "output_type": "execute_result"
    }
   ],
   "source": [
    "# https://www.tensorflow.org/api_docs/python/tf/one_hot\n",
    "# https://stackoverflow.com/questions/41399481/how-do-you-decode-one-hot-labels-in-tensorflow\n",
    "\n",
    "def preprocess_text(text):\n",
    "    standardized = tf_text.case_fold_utf8(text)\n",
    "    tokenized = tokenizer.tokenize(standardized)\n",
    "    tokenized = tf.cast(tokenized, tf.int64)\n",
    "    vectorized = vocab_table.lookup(tokenized)\n",
    "    encoded = tf.one_hot(vectorized, PADDED_VOCAB_SIZE)\n",
    "    padded = tf.reshape(encoded, (20, 16))\n",
    "    return padded\n",
    "\n",
    "\n",
    "example_text = next(iter(from_expression_train_text_dataset))\n",
    "example_text.numpy()\n",
    "\n",
    "preprocess_text(example_text)\n"
   ]
  },
  {
   "cell_type": "code",
   "execution_count": 14,
   "metadata": {
    "id": "LRJ9YVs0x1WS"
   },
   "outputs": [],
   "source": [
    "from_expression_train_encoded = from_expression_train_text_dataset.map(preprocess_text)\n",
    "to_expression_train_encoded = to_expression_train_text_dataset.map(preprocess_text)\n",
    "from_expression_test_encoded = from_expression_test_text_dataset.map(preprocess_text)\n",
    "to_expression_test_encoded = to_expression_test_text_dataset.map(preprocess_text)\n",
    "from_expression_validation_encoded = from_expression_validation_text_dataset.map(preprocess_text)\n",
    "to_expression_validation_encoded = to_expression_validation_text_dataset.map(preprocess_text)"
   ]
  },
  {
   "cell_type": "code",
   "execution_count": 15,
   "metadata": {
    "colab": {
     "base_uri": "https://localhost:8080/"
    },
    "id": "WrdcZBafx1WT",
    "outputId": "e5b4dd90-e019-44e7-d3ef-93da35391922"
   },
   "outputs": [
    {
     "data": {
      "text/plain": "<tf.Tensor: shape=(20, 16), dtype=float32, numpy=\narray([[0., 0., 0., 0., 1., 0., 0., 0., 0., 0., 0., 0., 0., 0., 0., 0.],\n       [0., 0., 0., 0., 0., 0., 0., 0., 0., 0., 0., 1., 0., 0., 0., 0.],\n       [0., 0., 0., 0., 0., 0., 0., 0., 0., 0., 0., 0., 1., 0., 0., 0.],\n       [0., 0., 0., 0., 0., 0., 1., 0., 0., 0., 0., 0., 0., 0., 0., 0.],\n       [0., 0., 0., 1., 0., 0., 0., 0., 0., 0., 0., 0., 0., 0., 0., 0.],\n       [0., 0., 0., 0., 0., 0., 0., 0., 0., 0., 0., 0., 0., 1., 0., 0.],\n       [0., 0., 0., 0., 0., 0., 0., 0., 0., 1., 0., 0., 0., 0., 0., 0.],\n       [0., 0., 0., 0., 0., 0., 0., 0., 0., 1., 0., 0., 0., 0., 0., 0.],\n       [0., 0., 0., 0., 0., 0., 0., 0., 0., 0., 0., 0., 0., 1., 0., 0.],\n       [0., 0., 0., 0., 0., 1., 0., 0., 0., 0., 0., 0., 0., 0., 0., 0.],\n       [0., 0., 0., 1., 0., 0., 0., 0., 0., 0., 0., 0., 0., 0., 0., 0.],\n       [0., 0., 0., 0., 0., 0., 0., 0., 0., 0., 0., 0., 0., 1., 0., 0.],\n       [0., 0., 0., 0., 0., 0., 0., 0., 1., 0., 0., 0., 0., 0., 0., 0.],\n       [0., 0., 0., 0., 0., 0., 0., 0., 0., 0., 0., 0., 0., 0., 0., 1.],\n       [0., 0., 0., 0., 0., 0., 0., 0., 0., 0., 0., 0., 0., 0., 0., 1.],\n       [0., 0., 0., 0., 0., 0., 0., 0., 0., 0., 0., 0., 0., 0., 0., 1.],\n       [0., 0., 0., 0., 0., 0., 0., 0., 0., 0., 0., 0., 0., 0., 0., 1.],\n       [0., 0., 0., 0., 0., 0., 0., 0., 0., 0., 0., 0., 0., 0., 0., 1.],\n       [0., 0., 0., 0., 0., 0., 0., 0., 0., 0., 0., 0., 0., 0., 0., 1.],\n       [0., 0., 0., 0., 0., 0., 0., 0., 0., 0., 0., 0., 0., 0., 0., 1.]],\n      dtype=float32)>"
     },
     "execution_count": 15,
     "metadata": {},
     "output_type": "execute_result"
    }
   ],
   "source": [
    "next(iter(from_expression_train_encoded))"
   ]
  },
  {
   "cell_type": "code",
   "execution_count": 16,
   "metadata": {
    "colab": {
     "base_uri": "https://localhost:8080/"
    },
    "id": "uA7iAqCKx1WT",
    "outputId": "9fbdcc64-ab1d-408c-8c1f-9951c69ac415"
   },
   "outputs": [
    {
     "data": {
      "text/plain": "<ZipDataset shapes: ((20, 16), (20, 16)), types: (tf.float32, tf.float32)>"
     },
     "execution_count": 16,
     "metadata": {},
     "output_type": "execute_result"
    }
   ],
   "source": [
    "train_data = tf.data.Dataset.zip((from_expression_train_encoded, to_expression_train_encoded))\n",
    "train_data"
   ]
  },
  {
   "cell_type": "code",
   "execution_count": 17,
   "metadata": {
    "colab": {
     "base_uri": "https://localhost:8080/"
    },
    "id": "ChLqq0qCx1WT",
    "outputId": "89587711-5665-4c90-9d49-84a21c8a8848"
   },
   "outputs": [
    {
     "data": {
      "text/plain": "<ZipDataset shapes: ((20, 16), (20, 16)), types: (tf.float32, tf.float32)>"
     },
     "execution_count": 17,
     "metadata": {},
     "output_type": "execute_result"
    }
   ],
   "source": [
    "validation_data = tf.data.Dataset.zip((from_expression_validation_encoded, to_expression_validation_encoded))\n",
    "validation_data"
   ]
  },
  {
   "cell_type": "code",
   "execution_count": 18,
   "metadata": {
    "colab": {
     "base_uri": "https://localhost:8080/"
    },
    "id": "MJlA6afXx1WT",
    "outputId": "70af455f-5537-4b7c-d12f-51be8626da83"
   },
   "outputs": [
    {
     "data": {
      "text/plain": "<ZipDataset shapes: ((20, 16), (20, 16)), types: (tf.float32, tf.float32)>"
     },
     "execution_count": 18,
     "metadata": {},
     "output_type": "execute_result"
    }
   ],
   "source": [
    "test_data = tf.data.Dataset.zip((from_expression_test_encoded, to_expression_test_encoded))\n",
    "test_data"
   ]
  },
  {
   "cell_type": "code",
   "execution_count": 45,
   "metadata": {
    "id": "XjSY-fgVx1WU"
   },
   "outputs": [],
   "source": [
    "BATCH_SIZE = 32\n",
    "train_data_batched = train_data.padded_batch(BATCH_SIZE)\n",
    "validation_data_batched = validation_data.padded_batch(BATCH_SIZE)\n",
    "test_data_batched = test_data.padded_batch(BATCH_SIZE)"
   ]
  },
  {
   "cell_type": "code",
   "execution_count": 20,
   "metadata": {
    "colab": {
     "base_uri": "https://localhost:8080/"
    },
    "id": "CWzHoWmfx1WU",
    "outputId": "b671949c-7149-4ffc-b3d8-da7e2209be37"
   },
   "outputs": [
    {
     "data": {
      "text/plain": "<tf.Tensor: shape=(20, 16), dtype=float32, numpy=\narray([[0., 0., 0., 0., 1., 0., 0., 0., 0., 0., 0., 0., 0., 0., 0., 0.],\n       [0., 0., 0., 0., 0., 0., 0., 0., 0., 0., 0., 1., 0., 0., 0., 0.],\n       [0., 0., 0., 0., 0., 0., 0., 0., 0., 0., 0., 0., 1., 0., 0., 0.],\n       [0., 0., 0., 0., 0., 0., 1., 0., 0., 0., 0., 0., 0., 0., 0., 0.],\n       [0., 0., 0., 1., 0., 0., 0., 0., 0., 0., 0., 0., 0., 0., 0., 0.],\n       [0., 0., 0., 0., 0., 0., 0., 0., 0., 0., 0., 0., 0., 1., 0., 0.],\n       [0., 0., 0., 0., 0., 0., 0., 0., 0., 1., 0., 0., 0., 0., 0., 0.],\n       [0., 0., 0., 0., 0., 0., 0., 0., 0., 1., 0., 0., 0., 0., 0., 0.],\n       [0., 0., 0., 0., 0., 0., 0., 0., 0., 0., 0., 0., 0., 1., 0., 0.],\n       [0., 0., 0., 0., 0., 1., 0., 0., 0., 0., 0., 0., 0., 0., 0., 0.],\n       [0., 0., 0., 1., 0., 0., 0., 0., 0., 0., 0., 0., 0., 0., 0., 0.],\n       [0., 0., 0., 0., 0., 0., 0., 0., 0., 0., 0., 0., 0., 1., 0., 0.],\n       [0., 0., 0., 0., 0., 0., 0., 0., 1., 0., 0., 0., 0., 0., 0., 0.],\n       [0., 0., 0., 0., 0., 0., 0., 0., 0., 0., 0., 0., 0., 0., 0., 1.],\n       [0., 0., 0., 0., 0., 0., 0., 0., 0., 0., 0., 0., 0., 0., 0., 1.],\n       [0., 0., 0., 0., 0., 0., 0., 0., 0., 0., 0., 0., 0., 0., 0., 1.],\n       [0., 0., 0., 0., 0., 0., 0., 0., 0., 0., 0., 0., 0., 0., 0., 1.],\n       [0., 0., 0., 0., 0., 0., 0., 0., 0., 0., 0., 0., 0., 0., 0., 1.],\n       [0., 0., 0., 0., 0., 0., 0., 0., 0., 0., 0., 0., 0., 0., 0., 1.],\n       [0., 0., 0., 0., 0., 0., 0., 0., 0., 0., 0., 0., 0., 0., 0., 1.]],\n      dtype=float32)>"
     },
     "execution_count": 20,
     "metadata": {},
     "output_type": "execute_result"
    }
   ],
   "source": [
    "next(iter(from_expression_train_encoded))"
   ]
  },
  {
   "cell_type": "code",
   "execution_count": 21,
   "metadata": {
    "id": "DXtovQQ1x1WU"
   },
   "outputs": [],
   "source": [
    "def create_model():\n",
    "    return tf.keras.Sequential([\n",
    "        layers.Input(shape=(20, 16)),\n",
    "        layers.Flatten(),\n",
    "        layers.Dense(20 * 16 * 10),\n",
    "        layers.Dense(20 * 16 * 10),\n",
    "        layers.Dense(20 * 16, activation='relu'),\n",
    "        layers.Reshape((20, 16)),\n",
    "        layers.Softmax(axis=2)\n",
    "    ])"
   ]
  },
  {
   "cell_type": "code",
   "execution_count": 22,
   "metadata": {
    "colab": {
     "base_uri": "https://localhost:8080/"
    },
    "id": "FgAhZMtq7Iuo",
    "outputId": "85baf9dc-9534-4cda-a4a0-599e965e1d38"
   },
   "outputs": [
    {
     "data": {
      "text/plain": "<tf.Tensor: shape=(16,), dtype=float32, numpy=\narray([0.02411114, 0.4842853 , 0.17815863, 0.02411114, 0.02411114,\n       0.02411114, 0.02411114, 0.02411114, 0.02411114, 0.02411114,\n       0.02411114, 0.02411114, 0.02411114, 0.02411114, 0.02411114,\n       0.02411114], dtype=float32)>"
     },
     "execution_count": 22,
     "metadata": {},
     "output_type": "execute_result"
    }
   ],
   "source": [
    "softmax_layer = layers.Softmax(axis=1)\n",
    "test_input = np.zeros((20, 16))\n",
    "test_input[19, 1] = 3\n",
    "test_input[19, 2] = 2\n",
    "softmax_layer(test_input)[19]"
   ]
  },
  {
   "cell_type": "code",
   "execution_count": 23,
   "metadata": {
    "id": "vlGxt8ggx1WU"
   },
   "outputs": [
    {
     "data": {
      "text/plain": "<tensorflow.python.keras.engine.sequential.Sequential at 0x7efd2c68afd0>"
     },
     "execution_count": 23,
     "metadata": {},
     "output_type": "execute_result"
    }
   ],
   "source": [
    "model = create_model()\n",
    "model"
   ]
  },
  {
   "cell_type": "code",
   "execution_count": 67,
   "metadata": {
    "id": "x4y5EzANx1WV"
   },
   "outputs": [
    {
     "name": "stderr",
     "output_type": "stream",
     "text": [
      "2022-10-22 10:43:49.953801: I tensorflow/core/profiler/lib/profiler_session.cc:136] Profiler session initializing.\n",
      "2022-10-22 10:43:49.953821: I tensorflow/core/profiler/lib/profiler_session.cc:155] Profiler session started.\n",
      "2022-10-22 10:43:50.014842: I tensorflow/core/profiler/lib/profiler_session.cc:172] Profiler session tear down.\n",
      "2022-10-22 10:43:50.014939: I tensorflow/core/profiler/internal/gpu/cupti_tracer.cc:1487] CUPTI activity buffer flushed\n"
     ]
    }
   ],
   "source": [
    "policy = mixed_precision.Policy('mixed_float16')\n",
    "mixed_precision.set_global_policy(policy)\n",
    "\n",
    "model.compile(\n",
    "    optimizer='adam',\n",
    "    loss=losses.MeanSquaredError(),\n",
    "\n",
    ")\n",
    "\n",
    "log_dir = \"logs/fit/\" + datetime.datetime.now().strftime(\"%Y%m%d-%H%M%S\")\n",
    "tensorboard_callback = tf.keras.callbacks.TensorBoard(log_dir=log_dir, histogram_freq=1)"
   ]
  },
  {
   "cell_type": "code",
   "execution_count": 25,
   "metadata": {
    "id": "q63OBtQJx1WV"
   },
   "outputs": [],
   "source": [
    "# https://stackoverflow.com/questions/44607176/tensorflow-loss-function-which-takes-one-hot-as-argument\n",
    "# https://www.tensorflow.org/api_docs/python/tf/keras/losses/CategoricalCrossentropy\n",
    "# Would CategoricalCrossentrophy with axis = 1 work?\n",
    "\n",
    "class SoftmaxCrossEntrophyError2D(tf.keras.losses.Loss):\n",
    "    def call(self, y_true, y_pred):\n",
    "        pass"
   ]
  },
  {
   "cell_type": "code",
   "execution_count": 26,
   "metadata": {
    "colab": {
     "base_uri": "https://localhost:8080/"
    },
    "id": "Ne6VbRXLx1WV",
    "outputId": "ff2b57ff-da3d-4c37-bfbe-988d045350e6"
   },
   "outputs": [
    {
     "name": "stdout",
     "output_type": "stream",
     "text": [
      "Model: \"sequential\"\n",
      "_________________________________________________________________\n",
      "Layer (type)                 Output Shape              Param #   \n",
      "=================================================================\n",
      "flatten (Flatten)            (None, 320)               0         \n",
      "_________________________________________________________________\n",
      "dense (Dense)                (None, 3200)              1027200   \n",
      "_________________________________________________________________\n",
      "dense_1 (Dense)              (None, 3200)              10243200  \n",
      "_________________________________________________________________\n",
      "dense_2 (Dense)              (None, 320)               1024320   \n",
      "_________________________________________________________________\n",
      "reshape (Reshape)            (None, 20, 16)            0         \n",
      "_________________________________________________________________\n",
      "softmax_1 (Softmax)          (None, 20, 16)            0         \n",
      "=================================================================\n",
      "Total params: 12,294,720\n",
      "Trainable params: 12,294,720\n",
      "Non-trainable params: 0\n",
      "_________________________________________________________________\n"
     ]
    }
   ],
   "source": [
    "model.summary()"
   ]
  },
  {
   "cell_type": "code",
   "execution_count": 27,
   "metadata": {
    "colab": {
     "base_uri": "https://localhost:8080/"
    },
    "id": "jBXWsL7g6iHD",
    "outputId": "b0fd19f8-2bad-41d7-c36f-01cbbfacd76a"
   },
   "outputs": [],
   "source": [
    "# from google.colab import drive\n",
    "# drive.mount('/content/drive')"
   ]
  },
  {
   "cell_type": "code",
   "execution_count": 70,
   "metadata": {
    "id": "m6tmkKyhx1WV"
   },
   "outputs": [],
   "source": [
    "checkpoint_path = \"training_9/cp-{epoch:04d}.ckpt\"\n",
    "checkpoint_dir = os.path.dirname(checkpoint_path)\n",
    "cp_callback = tf.keras.callbacks.ModelCheckpoint(filepath=checkpoint_path,\n",
    "                                                 save_weights_only=True,\n",
    "                                                 verbose=1)"
   ]
  },
  {
   "cell_type": "code",
   "execution_count": 71,
   "metadata": {
    "colab": {
     "base_uri": "https://localhost:8080/"
    },
    "id": "L_hsc3r1x1WV",
    "outputId": "b4583ab5-ade3-428c-f4c1-a325a6b2112d"
   },
   "outputs": [
    {
     "name": "stdout",
     "output_type": "stream",
     "text": [
      "Epoch 1/100\n",
      "      3/Unknown - 1s 135ms/step - loss: 0.0152"
     ]
    },
    {
     "name": "stderr",
     "output_type": "stream",
     "text": [
      "2022-10-22 10:44:25.731969: I tensorflow/core/profiler/lib/profiler_session.cc:136] Profiler session initializing.\n",
      "2022-10-22 10:44:25.731988: I tensorflow/core/profiler/lib/profiler_session.cc:155] Profiler session started.\n",
      "2022-10-22 10:44:25.842824: I tensorflow/core/profiler/lib/profiler_session.cc:71] Profiler session collecting data.\n",
      "2022-10-22 10:44:25.843027: I tensorflow/core/profiler/internal/gpu/cupti_tracer.cc:1487] CUPTI activity buffer flushed\n",
      "2022-10-22 10:44:25.972363: I tensorflow/core/profiler/internal/gpu/cupti_collector.cc:228]  GpuTracer has collected 134 callback api events and 126 activity events. \n",
      "2022-10-22 10:44:25.974809: I tensorflow/core/profiler/lib/profiler_session.cc:172] Profiler session tear down.\n",
      "2022-10-22 10:44:25.978636: I tensorflow/core/profiler/rpc/client/save_profile.cc:137] Creating directory: logs/fit/20221022-104349/train/plugins/profile/2022_10_22_10_44_25\n",
      "2022-10-22 10:44:25.982570: I tensorflow/core/profiler/rpc/client/save_profile.cc:143] Dumped gzipped tool data for trace.json.gz to logs/fit/20221022-104349/train/plugins/profile/2022_10_22_10_44_25/michaellee8-rookie.trace.json.gz\n",
      "2022-10-22 10:44:25.986185: I tensorflow/core/profiler/rpc/client/save_profile.cc:137] Creating directory: logs/fit/20221022-104349/train/plugins/profile/2022_10_22_10_44_25\n",
      "2022-10-22 10:44:25.986809: I tensorflow/core/profiler/rpc/client/save_profile.cc:143] Dumped gzipped tool data for memory_profile.json.gz to logs/fit/20221022-104349/train/plugins/profile/2022_10_22_10_44_25/michaellee8-rookie.memory_profile.json.gz\n",
      "2022-10-22 10:44:25.987006: I tensorflow/core/profiler/rpc/client/capture_profile.cc:251] Creating directory: logs/fit/20221022-104349/train/plugins/profile/2022_10_22_10_44_25Dumped tool data for xplane.pb to logs/fit/20221022-104349/train/plugins/profile/2022_10_22_10_44_25/michaellee8-rookie.xplane.pb\n",
      "Dumped tool data for overview_page.pb to logs/fit/20221022-104349/train/plugins/profile/2022_10_22_10_44_25/michaellee8-rookie.overview_page.pb\n",
      "Dumped tool data for input_pipeline.pb to logs/fit/20221022-104349/train/plugins/profile/2022_10_22_10_44_25/michaellee8-rookie.input_pipeline.pb\n",
      "Dumped tool data for tensorflow_stats.pb to logs/fit/20221022-104349/train/plugins/profile/2022_10_22_10_44_25/michaellee8-rookie.tensorflow_stats.pb\n",
      "Dumped tool data for kernel_stats.pb to logs/fit/20221022-104349/train/plugins/profile/2022_10_22_10_44_25/michaellee8-rookie.kernel_stats.pb\n",
      "\n"
     ]
    },
    {
     "name": "stdout",
     "output_type": "stream",
     "text": [
      "125000/125000 [==============================] - 640s 5ms/step - loss: 0.0160 - val_loss: 0.0160\n",
      "\n",
      "Epoch 00001: saving model to training_9/cp-0001.ckpt\n",
      "Epoch 2/100\n",
      "125000/125000 [==============================] - 644s 5ms/step - loss: 0.0160 - val_loss: 0.0160\n",
      "\n",
      "Epoch 00002: saving model to training_9/cp-0002.ckpt\n",
      "Epoch 3/100\n",
      "125000/125000 [==============================] - 652s 5ms/step - loss: 0.0160 - val_loss: 0.0160\n",
      "\n",
      "Epoch 00003: saving model to training_9/cp-0003.ckpt\n",
      "Epoch 4/100\n",
      "125000/125000 [==============================] - 655s 5ms/step - loss: 0.0160 - val_loss: 0.0160\n",
      "\n",
      "Epoch 00004: saving model to training_9/cp-0004.ckpt\n",
      "Epoch 5/100\n",
      "125000/125000 [==============================] - 646s 5ms/step - loss: 0.0160 - val_loss: 0.0160\n",
      "\n",
      "Epoch 00005: saving model to training_9/cp-0005.ckpt\n",
      "Epoch 6/100\n",
      "125000/125000 [==============================] - 659s 5ms/step - loss: 0.0160 - val_loss: 0.0160\n",
      "\n",
      "Epoch 00006: saving model to training_9/cp-0006.ckpt\n",
      "Epoch 7/100\n",
      "125000/125000 [==============================] - 665s 5ms/step - loss: 0.0160 - val_loss: 0.0160\n",
      "\n",
      "Epoch 00007: saving model to training_9/cp-0007.ckpt\n",
      "Epoch 8/100\n",
      "125000/125000 [==============================] - 673s 5ms/step - loss: 0.0160 - val_loss: 0.0160\n",
      "\n",
      "Epoch 00008: saving model to training_9/cp-0008.ckpt\n",
      "Epoch 9/100\n",
      "125000/125000 [==============================] - 672s 5ms/step - loss: 0.0160 - val_loss: 0.0160\n",
      "\n",
      "Epoch 00009: saving model to training_9/cp-0009.ckpt\n",
      "Epoch 10/100\n",
      "125000/125000 [==============================] - 669s 5ms/step - loss: 0.0160 - val_loss: 0.0160\n",
      "\n",
      "Epoch 00010: saving model to training_9/cp-0010.ckpt\n",
      "Epoch 11/100\n",
      "125000/125000 [==============================] - 668s 5ms/step - loss: 0.0160 - val_loss: 0.0159\n",
      "\n",
      "Epoch 00011: saving model to training_9/cp-0011.ckpt\n",
      "Epoch 12/100\n",
      "125000/125000 [==============================] - 686s 5ms/step - loss: 0.0159 - val_loss: 0.0159\n",
      "\n",
      "Epoch 00012: saving model to training_9/cp-0012.ckpt\n",
      "Epoch 13/100\n",
      "125000/125000 [==============================] - 688s 6ms/step - loss: 0.0159 - val_loss: 0.0159\n",
      "\n",
      "Epoch 00013: saving model to training_9/cp-0013.ckpt\n",
      "Epoch 14/100\n",
      "125000/125000 [==============================] - 673s 5ms/step - loss: 0.0159 - val_loss: 0.0159\n",
      "\n",
      "Epoch 00014: saving model to training_9/cp-0014.ckpt\n",
      "Epoch 15/100\n",
      "125000/125000 [==============================] - 676s 5ms/step - loss: 0.0159 - val_loss: 0.0159\n",
      "\n",
      "Epoch 00015: saving model to training_9/cp-0015.ckpt\n",
      "Epoch 16/100\n",
      "125000/125000 [==============================] - 679s 5ms/step - loss: 0.0159 - val_loss: 0.0159\n",
      "\n",
      "Epoch 00016: saving model to training_9/cp-0016.ckpt\n",
      "Epoch 17/100\n",
      "125000/125000 [==============================] - 695s 6ms/step - loss: 0.0159 - val_loss: 0.0159\n",
      "\n",
      "Epoch 00017: saving model to training_9/cp-0017.ckpt\n",
      "Epoch 18/100\n",
      "125000/125000 [==============================] - 697s 6ms/step - loss: 0.0159 - val_loss: 0.0159\n",
      "\n",
      "Epoch 00018: saving model to training_9/cp-0018.ckpt\n",
      "Epoch 19/100\n",
      "125000/125000 [==============================] - 695s 6ms/step - loss: 0.0159 - val_loss: 0.0159\n",
      "\n",
      "Epoch 00019: saving model to training_9/cp-0019.ckpt\n",
      "Epoch 20/100\n",
      "125000/125000 [==============================] - 679s 5ms/step - loss: 0.0159 - val_loss: 0.0159\n",
      "\n",
      "Epoch 00020: saving model to training_9/cp-0020.ckpt\n",
      "Epoch 21/100\n",
      " 72387/125000 [================>.............] - ETA: 4:27 - loss: 0.0159"
     ]
    },
    {
     "ename": "KeyboardInterrupt",
     "evalue": "",
     "output_type": "error",
     "traceback": [
      "\u001B[0;31m---------------------------------------------------------------------------\u001B[0m",
      "\u001B[0;31mKeyboardInterrupt\u001B[0m                         Traceback (most recent call last)",
      "\u001B[0;32m/tmp/ipykernel_599965/2870543804.py\u001B[0m in \u001B[0;36m<module>\u001B[0;34m\u001B[0m\n\u001B[1;32m      7\u001B[0m     \u001B[0mvalidation_data\u001B[0m\u001B[0;34m=\u001B[0m\u001B[0mvalidation_data_batched\u001B[0m\u001B[0;34m,\u001B[0m\u001B[0;34m\u001B[0m\u001B[0;34m\u001B[0m\u001B[0m\n\u001B[1;32m      8\u001B[0m     \u001B[0mepochs\u001B[0m\u001B[0;34m=\u001B[0m\u001B[0;36m100\u001B[0m\u001B[0;34m,\u001B[0m\u001B[0;34m\u001B[0m\u001B[0;34m\u001B[0m\u001B[0m\n\u001B[0;32m----> 9\u001B[0;31m     \u001B[0mcallbacks\u001B[0m\u001B[0;34m=\u001B[0m\u001B[0;34m[\u001B[0m\u001B[0mtensorboard_callback\u001B[0m\u001B[0;34m,\u001B[0m \u001B[0mcp_callback\u001B[0m\u001B[0;34m,\u001B[0m \u001B[0moptimizer_scheduler_callback\u001B[0m\u001B[0;34m]\u001B[0m\u001B[0;34m,\u001B[0m\u001B[0;34m\u001B[0m\u001B[0;34m\u001B[0m\u001B[0m\n\u001B[0m\u001B[1;32m     10\u001B[0m )\n",
      "\u001B[0;32m~/anaconda3/envs/colab/lib/python3.7/site-packages/tensorflow/python/keras/engine/training.py\u001B[0m in \u001B[0;36mfit\u001B[0;34m(self, x, y, batch_size, epochs, verbose, callbacks, validation_split, validation_data, shuffle, class_weight, sample_weight, initial_epoch, steps_per_epoch, validation_steps, validation_batch_size, validation_freq, max_queue_size, workers, use_multiprocessing)\u001B[0m\n\u001B[1;32m   1098\u001B[0m                 _r=1):\n\u001B[1;32m   1099\u001B[0m               \u001B[0mcallbacks\u001B[0m\u001B[0;34m.\u001B[0m\u001B[0mon_train_batch_begin\u001B[0m\u001B[0;34m(\u001B[0m\u001B[0mstep\u001B[0m\u001B[0;34m)\u001B[0m\u001B[0;34m\u001B[0m\u001B[0;34m\u001B[0m\u001B[0m\n\u001B[0;32m-> 1100\u001B[0;31m               \u001B[0mtmp_logs\u001B[0m \u001B[0;34m=\u001B[0m \u001B[0mself\u001B[0m\u001B[0;34m.\u001B[0m\u001B[0mtrain_function\u001B[0m\u001B[0;34m(\u001B[0m\u001B[0miterator\u001B[0m\u001B[0;34m)\u001B[0m\u001B[0;34m\u001B[0m\u001B[0;34m\u001B[0m\u001B[0m\n\u001B[0m\u001B[1;32m   1101\u001B[0m               \u001B[0;32mif\u001B[0m \u001B[0mdata_handler\u001B[0m\u001B[0;34m.\u001B[0m\u001B[0mshould_sync\u001B[0m\u001B[0;34m:\u001B[0m\u001B[0;34m\u001B[0m\u001B[0;34m\u001B[0m\u001B[0m\n\u001B[1;32m   1102\u001B[0m                 \u001B[0mcontext\u001B[0m\u001B[0;34m.\u001B[0m\u001B[0masync_wait\u001B[0m\u001B[0;34m(\u001B[0m\u001B[0;34m)\u001B[0m\u001B[0;34m\u001B[0m\u001B[0;34m\u001B[0m\u001B[0m\n",
      "\u001B[0;32m~/anaconda3/envs/colab/lib/python3.7/site-packages/tensorflow/python/eager/def_function.py\u001B[0m in \u001B[0;36m__call__\u001B[0;34m(self, *args, **kwds)\u001B[0m\n\u001B[1;32m    826\u001B[0m     \u001B[0mtracing_count\u001B[0m \u001B[0;34m=\u001B[0m \u001B[0mself\u001B[0m\u001B[0;34m.\u001B[0m\u001B[0mexperimental_get_tracing_count\u001B[0m\u001B[0;34m(\u001B[0m\u001B[0;34m)\u001B[0m\u001B[0;34m\u001B[0m\u001B[0;34m\u001B[0m\u001B[0m\n\u001B[1;32m    827\u001B[0m     \u001B[0;32mwith\u001B[0m \u001B[0mtrace\u001B[0m\u001B[0;34m.\u001B[0m\u001B[0mTrace\u001B[0m\u001B[0;34m(\u001B[0m\u001B[0mself\u001B[0m\u001B[0;34m.\u001B[0m\u001B[0m_name\u001B[0m\u001B[0;34m)\u001B[0m \u001B[0;32mas\u001B[0m \u001B[0mtm\u001B[0m\u001B[0;34m:\u001B[0m\u001B[0;34m\u001B[0m\u001B[0;34m\u001B[0m\u001B[0m\n\u001B[0;32m--> 828\u001B[0;31m       \u001B[0mresult\u001B[0m \u001B[0;34m=\u001B[0m \u001B[0mself\u001B[0m\u001B[0;34m.\u001B[0m\u001B[0m_call\u001B[0m\u001B[0;34m(\u001B[0m\u001B[0;34m*\u001B[0m\u001B[0margs\u001B[0m\u001B[0;34m,\u001B[0m \u001B[0;34m**\u001B[0m\u001B[0mkwds\u001B[0m\u001B[0;34m)\u001B[0m\u001B[0;34m\u001B[0m\u001B[0;34m\u001B[0m\u001B[0m\n\u001B[0m\u001B[1;32m    829\u001B[0m       \u001B[0mcompiler\u001B[0m \u001B[0;34m=\u001B[0m \u001B[0;34m\"xla\"\u001B[0m \u001B[0;32mif\u001B[0m \u001B[0mself\u001B[0m\u001B[0;34m.\u001B[0m\u001B[0m_experimental_compile\u001B[0m \u001B[0;32melse\u001B[0m \u001B[0;34m\"nonXla\"\u001B[0m\u001B[0;34m\u001B[0m\u001B[0;34m\u001B[0m\u001B[0m\n\u001B[1;32m    830\u001B[0m       \u001B[0mnew_tracing_count\u001B[0m \u001B[0;34m=\u001B[0m \u001B[0mself\u001B[0m\u001B[0;34m.\u001B[0m\u001B[0mexperimental_get_tracing_count\u001B[0m\u001B[0;34m(\u001B[0m\u001B[0;34m)\u001B[0m\u001B[0;34m\u001B[0m\u001B[0;34m\u001B[0m\u001B[0m\n",
      "\u001B[0;32m~/anaconda3/envs/colab/lib/python3.7/site-packages/tensorflow/python/eager/def_function.py\u001B[0m in \u001B[0;36m_call\u001B[0;34m(self, *args, **kwds)\u001B[0m\n\u001B[1;32m    853\u001B[0m       \u001B[0;31m# In this case we have created variables on the first call, so we run the\u001B[0m\u001B[0;34m\u001B[0m\u001B[0;34m\u001B[0m\u001B[0;34m\u001B[0m\u001B[0m\n\u001B[1;32m    854\u001B[0m       \u001B[0;31m# defunned version which is guaranteed to never create variables.\u001B[0m\u001B[0;34m\u001B[0m\u001B[0;34m\u001B[0m\u001B[0;34m\u001B[0m\u001B[0m\n\u001B[0;32m--> 855\u001B[0;31m       \u001B[0;32mreturn\u001B[0m \u001B[0mself\u001B[0m\u001B[0;34m.\u001B[0m\u001B[0m_stateless_fn\u001B[0m\u001B[0;34m(\u001B[0m\u001B[0;34m*\u001B[0m\u001B[0margs\u001B[0m\u001B[0;34m,\u001B[0m \u001B[0;34m**\u001B[0m\u001B[0mkwds\u001B[0m\u001B[0;34m)\u001B[0m  \u001B[0;31m# pylint: disable=not-callable\u001B[0m\u001B[0;34m\u001B[0m\u001B[0;34m\u001B[0m\u001B[0m\n\u001B[0m\u001B[1;32m    856\u001B[0m     \u001B[0;32melif\u001B[0m \u001B[0mself\u001B[0m\u001B[0;34m.\u001B[0m\u001B[0m_stateful_fn\u001B[0m \u001B[0;32mis\u001B[0m \u001B[0;32mnot\u001B[0m \u001B[0;32mNone\u001B[0m\u001B[0;34m:\u001B[0m\u001B[0;34m\u001B[0m\u001B[0;34m\u001B[0m\u001B[0m\n\u001B[1;32m    857\u001B[0m       \u001B[0;31m# Release the lock early so that multiple threads can perform the call\u001B[0m\u001B[0;34m\u001B[0m\u001B[0;34m\u001B[0m\u001B[0;34m\u001B[0m\u001B[0m\n",
      "\u001B[0;32m~/anaconda3/envs/colab/lib/python3.7/site-packages/tensorflow/python/eager/function.py\u001B[0m in \u001B[0;36m__call__\u001B[0;34m(self, *args, **kwargs)\u001B[0m\n\u001B[1;32m   2941\u001B[0m        filtered_flat_args) = self._maybe_define_function(args, kwargs)\n\u001B[1;32m   2942\u001B[0m     return graph_function._call_flat(\n\u001B[0;32m-> 2943\u001B[0;31m         filtered_flat_args, captured_inputs=graph_function.captured_inputs)  # pylint: disable=protected-access\n\u001B[0m\u001B[1;32m   2944\u001B[0m \u001B[0;34m\u001B[0m\u001B[0m\n\u001B[1;32m   2945\u001B[0m   \u001B[0;34m@\u001B[0m\u001B[0mproperty\u001B[0m\u001B[0;34m\u001B[0m\u001B[0;34m\u001B[0m\u001B[0m\n",
      "\u001B[0;32m~/anaconda3/envs/colab/lib/python3.7/site-packages/tensorflow/python/eager/function.py\u001B[0m in \u001B[0;36m_call_flat\u001B[0;34m(self, args, captured_inputs, cancellation_manager)\u001B[0m\n\u001B[1;32m   1917\u001B[0m       \u001B[0;31m# No tape is watching; skip to running the function.\u001B[0m\u001B[0;34m\u001B[0m\u001B[0;34m\u001B[0m\u001B[0;34m\u001B[0m\u001B[0m\n\u001B[1;32m   1918\u001B[0m       return self._build_call_outputs(self._inference_function.call(\n\u001B[0;32m-> 1919\u001B[0;31m           ctx, args, cancellation_manager=cancellation_manager))\n\u001B[0m\u001B[1;32m   1920\u001B[0m     forward_backward = self._select_forward_and_backward_functions(\n\u001B[1;32m   1921\u001B[0m         \u001B[0margs\u001B[0m\u001B[0;34m,\u001B[0m\u001B[0;34m\u001B[0m\u001B[0;34m\u001B[0m\u001B[0m\n",
      "\u001B[0;32m~/anaconda3/envs/colab/lib/python3.7/site-packages/tensorflow/python/eager/function.py\u001B[0m in \u001B[0;36mcall\u001B[0;34m(self, ctx, args, cancellation_manager)\u001B[0m\n\u001B[1;32m    558\u001B[0m               \u001B[0minputs\u001B[0m\u001B[0;34m=\u001B[0m\u001B[0margs\u001B[0m\u001B[0;34m,\u001B[0m\u001B[0;34m\u001B[0m\u001B[0;34m\u001B[0m\u001B[0m\n\u001B[1;32m    559\u001B[0m               \u001B[0mattrs\u001B[0m\u001B[0;34m=\u001B[0m\u001B[0mattrs\u001B[0m\u001B[0;34m,\u001B[0m\u001B[0;34m\u001B[0m\u001B[0;34m\u001B[0m\u001B[0m\n\u001B[0;32m--> 560\u001B[0;31m               ctx=ctx)\n\u001B[0m\u001B[1;32m    561\u001B[0m         \u001B[0;32melse\u001B[0m\u001B[0;34m:\u001B[0m\u001B[0;34m\u001B[0m\u001B[0;34m\u001B[0m\u001B[0m\n\u001B[1;32m    562\u001B[0m           outputs = execute.execute_with_cancellation(\n",
      "\u001B[0;32m~/anaconda3/envs/colab/lib/python3.7/site-packages/tensorflow/python/eager/execute.py\u001B[0m in \u001B[0;36mquick_execute\u001B[0;34m(op_name, num_outputs, inputs, attrs, ctx, name)\u001B[0m\n\u001B[1;32m     58\u001B[0m     \u001B[0mctx\u001B[0m\u001B[0;34m.\u001B[0m\u001B[0mensure_initialized\u001B[0m\u001B[0;34m(\u001B[0m\u001B[0;34m)\u001B[0m\u001B[0;34m\u001B[0m\u001B[0;34m\u001B[0m\u001B[0m\n\u001B[1;32m     59\u001B[0m     tensors = pywrap_tfe.TFE_Py_Execute(ctx._handle, device_name, op_name,\n\u001B[0;32m---> 60\u001B[0;31m                                         inputs, attrs, num_outputs)\n\u001B[0m\u001B[1;32m     61\u001B[0m   \u001B[0;32mexcept\u001B[0m \u001B[0mcore\u001B[0m\u001B[0;34m.\u001B[0m\u001B[0m_NotOkStatusException\u001B[0m \u001B[0;32mas\u001B[0m \u001B[0me\u001B[0m\u001B[0;34m:\u001B[0m\u001B[0;34m\u001B[0m\u001B[0;34m\u001B[0m\u001B[0m\n\u001B[1;32m     62\u001B[0m     \u001B[0;32mif\u001B[0m \u001B[0mname\u001B[0m \u001B[0;32mis\u001B[0m \u001B[0;32mnot\u001B[0m \u001B[0;32mNone\u001B[0m\u001B[0;34m:\u001B[0m\u001B[0;34m\u001B[0m\u001B[0;34m\u001B[0m\u001B[0m\n",
      "\u001B[0;31mKeyboardInterrupt\u001B[0m: "
     ]
    }
   ],
   "source": [
    "optimizer_scheduler_callback = tf.keras.callbacks.LearningRateScheduler(\n",
    "    lambda epoch: 1e-4 * 2\n",
    ")\n",
    "\n",
    "history = model.fit(\n",
    "    train_data_batched,\n",
    "    validation_data=validation_data_batched,\n",
    "    epochs=100,\n",
    "    callbacks=[tensorboard_callback, cp_callback, optimizer_scheduler_callback],\n",
    ")"
   ]
  },
  {
   "cell_type": "code",
   "execution_count": 61,
   "metadata": {
    "id": "ZBbP_oyZx1WV"
   },
   "outputs": [
    {
     "data": {
      "text/plain": "'training_8/cp-0070.ckpt'"
     },
     "execution_count": 61,
     "metadata": {},
     "output_type": "execute_result"
    }
   ],
   "source": [
    "latest = tf.train.latest_checkpoint(checkpoint_dir)\n",
    "latest"
   ]
  },
  {
   "cell_type": "code",
   "execution_count": null,
   "metadata": {
    "id": "QuN9fXpex1WV"
   },
   "outputs": [],
   "source": [
    "model = create_model()"
   ]
  },
  {
   "cell_type": "code",
   "execution_count": 68,
   "outputs": [
    {
     "data": {
      "text/plain": "<tensorflow.python.training.tracking.util.CheckpointLoadStatus at 0x7ef875967bd0>"
     },
     "execution_count": 68,
     "metadata": {},
     "output_type": "execute_result"
    }
   ],
   "source": [
    "model.load_weights(latest)"
   ],
   "metadata": {
    "collapsed": false
   }
  },
  {
   "cell_type": "code",
   "execution_count": 63,
   "outputs": [
    {
     "data": {
      "text/plain": "array([[[6.250e-02, 6.250e-02, 6.250e-02, ..., 6.250e-02, 6.250e-02,\n         6.250e-02],\n        [6.250e-02, 6.250e-02, 6.250e-02, ..., 6.250e-02, 6.250e-02,\n         6.250e-02],\n        [0.000e+00, 4.208e-03, 2.158e-01, ..., 0.000e+00, 3.714e-03,\n         1.205e-03],\n        ...,\n        [5.960e-08, 5.960e-08, 1.788e-07, ..., 5.960e-08, 5.960e-08,\n         1.000e+00],\n        [5.960e-08, 5.960e-08, 5.960e-08, ..., 5.960e-08, 5.960e-08,\n         1.000e+00],\n        [1.192e-07, 1.788e-07, 5.960e-08, ..., 5.960e-08, 5.960e-08,\n         1.000e+00]],\n\n       [[6.250e-02, 6.250e-02, 6.250e-02, ..., 6.250e-02, 6.250e-02,\n         6.250e-02],\n        [1.549e-01, 1.549e-01, 1.503e-04, ..., 0.000e+00, 0.000e+00,\n         1.549e-01],\n        [6.250e-02, 6.250e-02, 6.250e-02, ..., 6.250e-02, 6.250e-02,\n         6.250e-02],\n        ...,\n        [0.000e+00, 0.000e+00, 0.000e+00, ..., 0.000e+00, 0.000e+00,\n         1.000e+00],\n        [0.000e+00, 0.000e+00, 0.000e+00, ..., 0.000e+00, 0.000e+00,\n         1.000e+00],\n        [0.000e+00, 0.000e+00, 0.000e+00, ..., 0.000e+00, 0.000e+00,\n         1.000e+00]],\n\n       [[6.250e-02, 6.250e-02, 6.250e-02, ..., 6.250e-02, 6.250e-02,\n         6.250e-02],\n        [1.209e-01, 1.209e-01, 4.596e-05, ..., 0.000e+00, 0.000e+00,\n         1.209e-01],\n        [0.000e+00, 1.271e-01, 7.480e-05, ..., 0.000e+00, 1.194e-01,\n         1.194e-01],\n        ...,\n        [0.000e+00, 0.000e+00, 0.000e+00, ..., 0.000e+00, 0.000e+00,\n         1.000e+00],\n        [0.000e+00, 0.000e+00, 0.000e+00, ..., 0.000e+00, 0.000e+00,\n         1.000e+00],\n        [0.000e+00, 0.000e+00, 0.000e+00, ..., 0.000e+00, 0.000e+00,\n         1.000e+00]],\n\n       ...,\n\n       [[0.000e+00, 0.000e+00, 0.000e+00, ..., 0.000e+00, 0.000e+00,\n         0.000e+00],\n        [1.132e-05, 1.132e-05, 4.001e-04, ..., 0.000e+00, 0.000e+00,\n         2.402e-05],\n        [0.000e+00, 0.000e+00, 0.000e+00, ..., 1.000e+00, 0.000e+00,\n         0.000e+00],\n        ...,\n        [0.000e+00, 0.000e+00, 0.000e+00, ..., 0.000e+00, 0.000e+00,\n         1.000e+00],\n        [0.000e+00, 0.000e+00, 0.000e+00, ..., 0.000e+00, 0.000e+00,\n         1.000e+00],\n        [0.000e+00, 0.000e+00, 0.000e+00, ..., 0.000e+00, 0.000e+00,\n         1.000e+00]],\n\n       [[0.000e+00, 0.000e+00, 0.000e+00, ..., 0.000e+00, 0.000e+00,\n         0.000e+00],\n        [6.557e-07, 6.557e-07, 1.068e-03, ..., 0.000e+00, 0.000e+00,\n         1.431e-06],\n        [0.000e+00, 0.000e+00, 0.000e+00, ..., 1.000e+00, 0.000e+00,\n         0.000e+00],\n        ...,\n        [0.000e+00, 0.000e+00, 0.000e+00, ..., 0.000e+00, 0.000e+00,\n         1.000e+00],\n        [0.000e+00, 0.000e+00, 0.000e+00, ..., 0.000e+00, 0.000e+00,\n         1.000e+00],\n        [0.000e+00, 0.000e+00, 0.000e+00, ..., 0.000e+00, 0.000e+00,\n         1.000e+00]],\n\n       [[1.298e-01, 0.000e+00, 0.000e+00, ..., 1.312e-03, 0.000e+00,\n         1.353e-03],\n        [6.250e-02, 6.250e-02, 6.250e-02, ..., 6.250e-02, 6.250e-02,\n         6.250e-02],\n        [6.250e-02, 6.250e-02, 6.250e-02, ..., 6.250e-02, 6.250e-02,\n         6.250e-02],\n        ...,\n        [0.000e+00, 0.000e+00, 0.000e+00, ..., 0.000e+00, 0.000e+00,\n         1.000e+00],\n        [0.000e+00, 5.960e-08, 0.000e+00, ..., 0.000e+00, 0.000e+00,\n         1.000e+00],\n        [0.000e+00, 0.000e+00, 0.000e+00, ..., 0.000e+00, 0.000e+00,\n         1.000e+00]]], dtype=float16)"
     },
     "execution_count": 63,
     "metadata": {},
     "output_type": "execute_result"
    }
   ],
   "source": [
    "model.predict(validation_data_batched.take(1))"
   ],
   "metadata": {
    "collapsed": false
   }
  },
  {
   "cell_type": "code",
   "execution_count": 72,
   "outputs": [],
   "source": [
    "PREDICT_KEYS = [ord('P'), ord('X')] + keys\n",
    "\n",
    "\n",
    "def reverse_preprocess_text(prediction):\n",
    "    vectorized = tf.argmax(prediction, axis=1)\n",
    "    tokenized = tf.map_fn(lambda e: PREDICT_KEYS[e], vectorized)\n",
    "    tokenized = tf.cast(tokenized, tf.int32)\n",
    "    return tokenizer.detokenize(tokenized)"
   ],
   "metadata": {
    "collapsed": false
   }
  },
  {
   "cell_type": "code",
   "execution_count": 73,
   "outputs": [],
   "source": [
    "# prediction = model.predict(train_data_batched.take(1))\n",
    "# [reverse_preprocess_text(p).numpy() for p in prediction]\n",
    "\n",
    "def visualize_prediction(batched_data, t):\n",
    "    for batch in batched_data.take(t):\n",
    "        (inputs, targets) = batch\n",
    "        predicts = model.predict_on_batch(inputs)\n",
    "        lines = zip(inputs, targets, predicts)\n",
    "        for line in lines:\n",
    "            print(reverse_preprocess_text(line[0]).numpy(), reverse_preprocess_text(line[1]).numpy(),\n",
    "                  reverse_preprocess_text(line[2]).numpy())"
   ],
   "metadata": {
    "collapsed": false
   }
  },
  {
   "cell_type": "code",
   "execution_count": 74,
   "outputs": [
    {
     "name": "stdout",
     "output_type": "stream",
     "text": [
      "b'29*41+77+31+6       ' b'1189+77+31+6        ' b'PP8P+77+3++6        '\n",
      "b'1189+77+31+6        ' b'1266+31+6           ' b'1PPP+31+P           '\n",
      "b'1266+31+6           ' b'1297+6              ' b'12P6+6              '\n",
      "b'1297+6              ' b'1303                ' b'1297                '\n",
      "b'69*74*91+0*80       ' b'5106*91+0*80        ' b'PP6P*91+0*80        '\n",
      "b'5106*91+0*80        ' b'464646+0*80         ' b'P5PP00+8*80         '\n",
      "b'464646+0*80         ' b'464646+0            ' b'4646P0+000          '\n",
      "b'464646+0            ' b'464646              ' b'4646PP              '\n",
      "b'63+8*77*53*74       ' b'63+616*53*74        ' b'63+PPP*33*74        '\n",
      "b'63+616*53*74        ' b'63+32648*74         ' b'63+2PPPP*74         '\n",
      "b'63+32648*74         ' b'63+2415952          ' b'63+1PPPPP0          '\n",
      "b'63+2415952          ' b'2416015             ' b'2PPPPPP             '\n",
      "b'6*24*58+83+49       ' b'144*58+83+49        ' b'PPP*PP+83+49        '\n",
      "b'144*58+83+49        ' b'8352+83+49          ' b'PPPP0P83+49         '\n",
      "b'8352+83+49          ' b'8435+49             ' b'8PPP+49             '\n",
      "b'8435+49             ' b'8484                ' b'84PP                '\n",
      "b'78+90+36+25+17      ' b'168+36+25+17        ' b'1PP+30+2+PPPP       '\n",
      "b'168+36+25+17        ' b'204+25+17           ' b'1PP+25+1P           '\n",
      "b'204+25+17           ' b'229+17              ' b'2PP+17              '\n",
      "b'229+17              ' b'246                 ' b'2PPP                '\n",
      "b'81*86+70+4+22       ' b'6966+70+4+22        ' b'PP4P+70+4+22        '\n",
      "b'6966+70+4+22        ' b'7036+4+22           ' b'6PP6+4+2P           '\n",
      "b'7036+4+22           ' b'7040+22             ' b'70PP+2              '\n",
      "b'7040+22             ' b'7062                ' b'70PP                '\n",
      "b'83*38*68+95+48      ' b'3154*68+95+48       ' b'PP4P*68+95+48       '\n",
      "b'3154*68+95+48       ' b'214472+95+48        ' b'PPPPP0+95+48        '\n",
      "b'214472+95+48        ' b'214567+48           ' b'214PPP+4P           '\n",
      "b'214567+48           ' b'214615              ' b'2145PP              '\n",
      "b'90+82*60+59*86      ' b'90+4920+59*86       ' b'90+5P00+59*86       '\n",
      "b'90+4920+59*86       ' b'90+4920+5074        ' b'90+4PPP+PPPP        '\n",
      "b'90+4920+5074        ' b'5010+5074           ' b'4PPP+5070           '\n",
      "b'5010+5074           ' b'10084               ' b'PPP0                '\n"
     ]
    }
   ],
   "source": [
    "visualize_prediction(train_data_batched, 1)"
   ],
   "metadata": {
    "collapsed": false
   }
  },
  {
   "cell_type": "code",
   "execution_count": 75,
   "outputs": [
    {
     "name": "stdout",
     "output_type": "stream",
     "text": [
      "b'63*50*56*83+65      ' b'3150*56*83+65       ' b'PP00*56*83+65       '\n",
      "b'3150*56*83+65       ' b'176400*83+65        ' b'P1PP00*83+65        '\n",
      "b'176400*83+65        ' b'14641200+65         ' b'P5610000+6          '\n",
      "b'14641200+65         ' b'14641265            ' b'1464PPP             '\n",
      "b'30+26+60+15+86      ' b'56+60+15+86         ' b'1P+P6+P5+PP P       '\n",
      "b'56+60+15+86         ' b'116+15+86           ' b'1PP+15+8            '\n",
      "b'116+15+86           ' b'131+86              ' b'1PP+86              '\n",
      "b'131+86              ' b'217                 ' b'2PPP                '\n",
      "b'16+18+78*33+91      ' b'16+18+2574+91       ' b'16+18+PPPP99        '\n",
      "b'16+18+2574+91       ' b'34+2574+91          ' b'PP+P87PP+P          '\n",
      "b'34+2574+91          ' b'2608+91             ' b'2PPP+91             '\n",
      "b'2608+91             ' b'2699                ' b'26PP                '\n",
      "b'7+18*61*51+15       ' b'7+1098*51+15        ' b'7+PPPP*11+15        '\n",
      "b'7+1098*51+15        ' b'7+55998+15          ' b'7+1PPPPP+15         '\n",
      "b'7+55998+15          ' b'56005+15            ' b'17PPPPPP            '\n",
      "b'56005+15            ' b'56020               ' b'560PP               '\n",
      "b'54+49+59*55*22      ' b'54+49+3245*22       ' b'54+4P+PP55*22       '\n",
      "b'54+49+3245*22       ' b'54+49+71390         ' b'54+4P+PPPPP         '\n",
      "b'54+49+71390         ' b'103+71390           ' b'1P++7PP0            '\n",
      "b'103+71390           ' b'71493               ' b'PPPPP               '\n",
      "b'74+4+54*73*68       ' b'74+4+3942*68        ' b'74+4+PPP**68        '\n",
      "b'74+4+3942*68        ' b'74+4+268056         ' b'74+4+PPPPP0         '\n",
      "b'74+4+268056         ' b'78+268056           ' b'4P+P6PPP            '\n",
      "b'78+268056           ' b'268134              ' b'2PPPPP              '\n",
      "b'51+43*96+56+23      ' b'51+4128+56+23       ' b'51+PPP0+56+23       '\n",
      "b'51+4128+56+23       ' b'4179+56+23          ' b'5PPP+56+PP          '\n",
      "b'4179+56+23          ' b'4235+23             ' b'4PPP+23             '\n",
      "b'4235+23             ' b'4258                ' b'42PP                '\n",
      "b'38+1*72*46*56       ' b'38+72*46*56         ' b'38+PP0*4**56        '\n",
      "b'38+72*46*56         ' b'38+3312*56          ' b'38+3PPP*66          '\n",
      "b'38+3312*56          ' b'38+185472           ' b'38+1PPPPP           '\n",
      "b'38+185472           ' b'185510              ' b'1PPPPP              '\n"
     ]
    }
   ],
   "source": [
    "visualize_prediction(validation_data_batched, 1)"
   ],
   "metadata": {
    "collapsed": false
   }
  },
  {
   "cell_type": "code",
   "execution_count": 76,
   "outputs": [
    {
     "name": "stdout",
     "output_type": "stream",
     "text": [
      "b'50+23+72+85*11      ' b'50+23+72+935        ' b'50+2P+PP+PPPP       '\n",
      "b'50+23+72+935        ' b'73+72+935           ' b'PP+P7+P3P           '\n",
      "b'73+72+935           ' b'145+935             ' b'1PP+9PP             '\n",
      "b'145+935             ' b'1080                ' b'PPPP                '\n",
      "b'41*53+11*98*11      ' b'2173+11*98*11       ' b'PP5P+11*98*11       '\n",
      "b'2173+11*98*11       ' b'2173+1078*11        ' b'2173+PPP**1         '\n",
      "b'2173+1078*11        ' b'2173+11858          ' b'2173+PP0PP          '\n",
      "b'2173+11858          ' b'14031               ' b'PPPPP               '\n",
      "b'84+19+60+94+84      ' b'103+60+94+84        ' b'1PP+60+9+PP P       '\n",
      "b'103+60+94+84        ' b'163+94+84           ' b'1P3+94+8P           '\n",
      "b'163+94+84           ' b'257+84              ' b'2PP+84              '\n",
      "b'257+84              ' b'341                 ' b'+PPP                '\n",
      "b'43+85+23+38*71      ' b'43+85+23+2698       ' b'43+85+PP+PPPP       '\n",
      "b'43+85+23+2698       ' b'128+23+2698         ' b'1PP+2P+2PPP         '\n",
      "b'128+23+2698         ' b'151+2698            ' b'1PP+26P8            '\n",
      "b'151+2698            ' b'2849                ' b'PPPP                '\n",
      "b'78*66*87*65+16      ' b'5148*87*65+16       ' b'PP1P*87*65+16       '\n",
      "b'5148*87*65+16       ' b'447876*65+16        ' b'P*PPPP*65+16        '\n",
      "b'447876*65+16        ' b'29111940+16         ' b'P518PPP0+16         '\n",
      "b'29111940+16         ' b'29111956            ' b'P911PPP-            '\n",
      "b'98*80+18*14*97      ' b'7840+18*14*97       ' b'PP00+18*14*97       '\n",
      "b'7840+18*14*97       ' b'7840+252*97         ' b'7840+PPP*99         '\n",
      "b'7840+252*97         ' b'7840+24444          ' b'7840+PPPP0          '\n",
      "b'7840+24444          ' b'32284               ' b'PPPPP               '\n",
      "b'55*51*56*10+91      ' b'2805*56*10+91       ' b'PP50*56*10+91       '\n",
      "b'2805*56*10+91       ' b'157080*10+91        ' b'P5PP00*1++91        '\n",
      "b'157080*10+91        ' b'1570800+91          ' b'P57PP000+9          '\n",
      "b'1570800+91          ' b'1570891             ' b'1570P91             '\n",
      "b'99*86+31*54*93      ' b'8514+31*54*93       ' b'PP6P+31*54*93       '\n",
      "b'8514+31*54*93       ' b'8514+1674*93        ' b'8514+PPP**93        '\n",
      "b'8514+1674*93        ' b'8514+155682         ' b'8514+PPPPPP         '\n",
      "b'8514+155682         ' b'164196              ' b'P5PPPP              '\n"
     ]
    }
   ],
   "source": [
    "visualize_prediction(test_data_batched, 1)"
   ],
   "metadata": {
    "collapsed": false
   }
  }
 ],
 "metadata": {
  "accelerator": "GPU",
  "colab": {
   "collapsed_sections": [],
   "provenance": []
  },
  "gpuClass": "premium",
  "kernelspec": {
   "display_name": "Python 3",
   "name": "python3"
  },
  "language_info": {
   "name": "python"
  }
 },
 "nbformat": 4,
 "nbformat_minor": 0
}
